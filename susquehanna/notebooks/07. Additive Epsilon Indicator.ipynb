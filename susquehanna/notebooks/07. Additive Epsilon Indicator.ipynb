{
 "cells": [
  {
   "cell_type": "code",
   "execution_count": 2,
   "id": "8c5509da",
   "metadata": {},
   "outputs": [],
   "source": [
    "import sys\n",
    "import pandas as pd\n",
    "import numpy as np\n",
    "import matplotlib.pyplot as plt\n",
    "import seaborn as sns\n",
    "import os\n",
    "import datetime as DT\n",
    "\n",
    "sns.set(rc={\"figure.figsize\": (11.7, 8.27)})\n",
    "sns.set_style(\"white\")\n",
    "sys.path.append(\"..\")\n",
    "import rbf_functions"
   ]
  },
  {
   "cell_type": "code",
   "execution_count": 3,
   "id": "20c560a2",
   "metadata": {},
   "outputs": [],
   "source": [
    "rbfs = [\n",
    "    rbf_functions.original_rbf,\n",
    "    rbf_functions.squared_exponential_rbf,\n",
    "    rbf_functions.inverse_quadratic_rbf,\n",
    "    rbf_functions.inverse_multiquadric_rbf,\n",
    "    rbf_functions.exponential_rbf,\n",
    "    rbf_functions.matern32_rbf,\n",
    "    rbf_functions.matern52_rbf,\n",
    "]"
   ]
  },
  {
   "cell_type": "markdown",
   "id": "1100c43e",
   "metadata": {},
   "source": [
    "# Load model data for each activation function"
   ]
  },
  {
   "cell_type": "code",
   "execution_count": 4,
   "id": "25aaff3b",
   "metadata": {},
   "outputs": [],
   "source": [
    "nfearchive = {}\n",
    "for n in rbfs:\n",
    "    nfearchive[n.__name__] = {}\n",
    "for entry in rbfs:\n",
    "    name = entry.__name__\n",
    "    output_dir = f\"../output/{name}/\"\n",
    "    for i in os.listdir(output_dir):\n",
    "        if i.endswith(\"_hypervolume.csv\"):\n",
    "            archives_by_nfe = pd.read_csv(output_dir + i)\n",
    "            nfes = archives_by_nfe[\"Unnamed: 0\"].values\n",
    "            u_nfes = np.unique(nfes)\n",
    "            selected_nfe = u_nfes\n",
    "            #             selected_nfe = u_nfes[0::5]\n",
    "            #             selected_nfe = np.append(selected_nfe, u_nfes[-1::])\n",
    "            nfearchive[name][int(i.split(\"_\")[0])] = archives_by_nfe.loc[\n",
    "                archives_by_nfe[\"Unnamed: 0\"].isin(selected_nfe)\n",
    "            ]"
   ]
  },
  {
   "cell_type": "markdown",
   "id": "89c5d13e",
   "metadata": {},
   "source": [
    "# Transform the dataframe back into platypus solution instances, to have a collection of solutions for each generation"
   ]
  },
  {
   "cell_type": "code",
   "execution_count": 5,
   "id": "bdbea929",
   "metadata": {},
   "outputs": [],
   "source": [
    "from platypus import Solution, Problem, EpsilonIndicator\n",
    "\n",
    "n_rbfs = 4\n",
    "n_objs = 6\n",
    "n_vars = n_rbfs * 8\n",
    "\n",
    "problem = Problem(n_vars, n_objs)\n",
    "\n",
    "# matters for hypervolume\n",
    "problem.directions[0] = Problem.MAXIMIZE  # hydropower\n",
    "problem.directions[1] = Problem.MAXIMIZE  # atomic power plant\n",
    "problem.directions[2] = Problem.MAXIMIZE  # baltimore\n",
    "problem.directions[3] = Problem.MAXIMIZE  # chester\n",
    "problem.directions[4] = Problem.MINIMIZE  # environment\n",
    "problem.directions[5] = Problem.MAXIMIZE  # recreation\n",
    "\n",
    "archives = {}\n",
    "seeds = np.arange(10, 101, 10).tolist()\n",
    "for n in rbfs:\n",
    "    archives[n.__name__] = {}\n",
    "    for i in seeds:\n",
    "        archives[n.__name__][i] = {}\n",
    "for entry in rbfs:\n",
    "    name = entry.__name__\n",
    "    for s in nfearchive[name]:  # nfearchive[name]:\n",
    "        for nfe, generation in nfearchive[name][s].groupby(\"Unnamed: 0\"):\n",
    "            # we slice from 2, getting rid of the first two columns\n",
    "            # which contain the NFE and ID of each solution\n",
    "            archive = []\n",
    "            for i, row in generation.iloc[:, 2::].iterrows():\n",
    "                solution = Solution(problem)\n",
    "                solution.objectives = row\n",
    "                archive.append(solution)\n",
    "            archives[name][s][nfe] = archive"
   ]
  },
  {
   "cell_type": "markdown",
   "id": "dd0defd4",
   "metadata": {},
   "source": [
    "# load refsets for each rbf, turn into solutions sets"
   ]
  },
  {
   "cell_type": "code",
   "execution_count": 6,
   "id": "d36acdcd",
   "metadata": {},
   "outputs": [],
   "source": [
    "ref_dir = \"./refsets/\"\n",
    "ref_sets = {}\n",
    "for n in rbfs:\n",
    "    name = n.__name__\n",
    "    ref_sets[name] = {}\n",
    "    data = pd.read_csv(f\"{ref_dir}{name}_refset.csv\")\n",
    "    ref_set = []\n",
    "    for i, row in data.iterrows():\n",
    "        solution = Solution(problem)\n",
    "        solution.objectives = row\n",
    "        ref_set.append(solution)\n",
    "    ref_sets[name] = ref_set"
   ]
  },
  {
   "cell_type": "markdown",
   "id": "4a4e9dfd",
   "metadata": {},
   "source": [
    "# Or, load global refset for all rbfs, turn into solution set"
   ]
  },
  {
   "cell_type": "code",
   "execution_count": 7,
   "id": "3839e15e",
   "metadata": {},
   "outputs": [],
   "source": [
    "ref_dir = \"./refsets\"\n",
    "data = pd.read_csv(f\"{ref_dir}/global_refset.csv\")\n",
    "ref_set = []\n",
    "for i, row in data.iterrows():\n",
    "    solution = Solution(problem)\n",
    "    solution.objectives = row\n",
    "    ref_set.append(solution)"
   ]
  },
  {
   "cell_type": "code",
   "execution_count": 8,
   "id": "27bd8137",
   "metadata": {},
   "outputs": [
    {
     "data": {
      "text/plain": [
       "dict_keys(['original_rbf', 'squared_exponential_rbf', 'inverse_quadratic_rbf', 'inverse_multiquadric_rbf', 'exponential_rbf', 'matern32_rbf', 'matern52_rbf'])"
      ]
     },
     "execution_count": 8,
     "metadata": {},
     "output_type": "execute_result"
    }
   ],
   "source": [
    "archives.keys()"
   ]
  },
  {
   "cell_type": "markdown",
   "id": "358e0cb8",
   "metadata": {},
   "source": [
    "# Calculate Additive epsilon Indicator for each activation function and each seed"
   ]
  },
  {
   "cell_type": "code",
   "execution_count": null,
   "id": "498b4efe",
   "metadata": {},
   "outputs": [
    {
     "name": "stderr",
     "output_type": "stream",
     "text": [
      "/Users/aas6791/anaconda3/lib/python3.11/site-packages/platypus/core.py:1236: FutureWarning: Series.__getitem__ treating keys as positions is deprecated. In a future version, integer keys will always be treated as labels (consistent with DataFrame behavior). To access a value by position, use `ser.iloc[pos]`\n",
      "  minimum = [min([s.objectives[i] for s in feasible]) for i in range(problem.nobjs)]\n",
      "/Users/aas6791/anaconda3/lib/python3.11/site-packages/platypus/core.py:1239: FutureWarning: Series.__getitem__ treating keys as positions is deprecated. In a future version, integer keys will always be treated as labels (consistent with DataFrame behavior). To access a value by position, use `ser.iloc[pos]`\n",
      "  maximum = [max([s.objectives[i] for s in feasible]) for i in range(problem.nobjs)]\n",
      "/Users/aas6791/anaconda3/lib/python3.11/site-packages/platypus/core.py:1245: FutureWarning: Series.__getitem__ treating keys as positions is deprecated. In a future version, integer keys will always be treated as labels (consistent with DataFrame behavior). To access a value by position, use `ser.iloc[pos]`\n",
      "  s.normalized_objectives = [(s.objectives[i] - minimum[i]) / (maximum[i] - minimum[i]) for i in range(problem.nobjs)]\n"
     ]
    },
    {
     "name": "stdout",
     "output_type": "stream",
     "text": [
      "started original_rbf at 08:37:02\n",
      "finished seed: 10 at 08:48:33\n"
     ]
    },
    {
     "name": "stderr",
     "output_type": "stream",
     "text": [
      "/Users/aas6791/anaconda3/lib/python3.11/site-packages/platypus/core.py:1245: FutureWarning: Series.__getitem__ treating keys as positions is deprecated. In a future version, integer keys will always be treated as labels (consistent with DataFrame behavior). To access a value by position, use `ser.iloc[pos]`\n",
      "  s.normalized_objectives = [(s.objectives[i] - minimum[i]) / (maximum[i] - minimum[i]) for i in range(problem.nobjs)]\n"
     ]
    },
    {
     "name": "stdout",
     "output_type": "stream",
     "text": [
      "finished seed: 20 at 09:18:55\n"
     ]
    },
    {
     "name": "stderr",
     "output_type": "stream",
     "text": [
      "/Users/aas6791/anaconda3/lib/python3.11/site-packages/platypus/core.py:1245: FutureWarning: Series.__getitem__ treating keys as positions is deprecated. In a future version, integer keys will always be treated as labels (consistent with DataFrame behavior). To access a value by position, use `ser.iloc[pos]`\n",
      "  s.normalized_objectives = [(s.objectives[i] - minimum[i]) / (maximum[i] - minimum[i]) for i in range(problem.nobjs)]\n"
     ]
    },
    {
     "name": "stdout",
     "output_type": "stream",
     "text": [
      "finished seed: 30 at 09:40:58\n"
     ]
    },
    {
     "name": "stderr",
     "output_type": "stream",
     "text": [
      "/Users/aas6791/anaconda3/lib/python3.11/site-packages/platypus/core.py:1245: FutureWarning: Series.__getitem__ treating keys as positions is deprecated. In a future version, integer keys will always be treated as labels (consistent with DataFrame behavior). To access a value by position, use `ser.iloc[pos]`\n",
      "  s.normalized_objectives = [(s.objectives[i] - minimum[i]) / (maximum[i] - minimum[i]) for i in range(problem.nobjs)]\n"
     ]
    },
    {
     "name": "stdout",
     "output_type": "stream",
     "text": [
      "finished seed: 40 at 09:50:18\n"
     ]
    },
    {
     "name": "stderr",
     "output_type": "stream",
     "text": [
      "/Users/aas6791/anaconda3/lib/python3.11/site-packages/platypus/core.py:1245: FutureWarning: Series.__getitem__ treating keys as positions is deprecated. In a future version, integer keys will always be treated as labels (consistent with DataFrame behavior). To access a value by position, use `ser.iloc[pos]`\n",
      "  s.normalized_objectives = [(s.objectives[i] - minimum[i]) / (maximum[i] - minimum[i]) for i in range(problem.nobjs)]\n"
     ]
    },
    {
     "name": "stdout",
     "output_type": "stream",
     "text": [
      "finished seed: 50 at 10:02:04\n"
     ]
    },
    {
     "name": "stderr",
     "output_type": "stream",
     "text": [
      "/Users/aas6791/anaconda3/lib/python3.11/site-packages/platypus/core.py:1245: FutureWarning: Series.__getitem__ treating keys as positions is deprecated. In a future version, integer keys will always be treated as labels (consistent with DataFrame behavior). To access a value by position, use `ser.iloc[pos]`\n",
      "  s.normalized_objectives = [(s.objectives[i] - minimum[i]) / (maximum[i] - minimum[i]) for i in range(problem.nobjs)]\n"
     ]
    },
    {
     "name": "stdout",
     "output_type": "stream",
     "text": [
      "finished seed: 60 at 10:12:40\n"
     ]
    },
    {
     "name": "stderr",
     "output_type": "stream",
     "text": [
      "/Users/aas6791/anaconda3/lib/python3.11/site-packages/platypus/core.py:1245: FutureWarning: Series.__getitem__ treating keys as positions is deprecated. In a future version, integer keys will always be treated as labels (consistent with DataFrame behavior). To access a value by position, use `ser.iloc[pos]`\n",
      "  s.normalized_objectives = [(s.objectives[i] - minimum[i]) / (maximum[i] - minimum[i]) for i in range(problem.nobjs)]\n"
     ]
    },
    {
     "name": "stdout",
     "output_type": "stream",
     "text": [
      "finished seed: 70 at 10:23:34\n"
     ]
    },
    {
     "name": "stderr",
     "output_type": "stream",
     "text": [
      "/Users/aas6791/anaconda3/lib/python3.11/site-packages/platypus/core.py:1245: FutureWarning: Series.__getitem__ treating keys as positions is deprecated. In a future version, integer keys will always be treated as labels (consistent with DataFrame behavior). To access a value by position, use `ser.iloc[pos]`\n",
      "  s.normalized_objectives = [(s.objectives[i] - minimum[i]) / (maximum[i] - minimum[i]) for i in range(problem.nobjs)]\n"
     ]
    },
    {
     "name": "stdout",
     "output_type": "stream",
     "text": [
      "finished seed: 80 at 10:36:16\n"
     ]
    },
    {
     "name": "stderr",
     "output_type": "stream",
     "text": [
      "/Users/aas6791/anaconda3/lib/python3.11/site-packages/platypus/core.py:1245: FutureWarning: Series.__getitem__ treating keys as positions is deprecated. In a future version, integer keys will always be treated as labels (consistent with DataFrame behavior). To access a value by position, use `ser.iloc[pos]`\n",
      "  s.normalized_objectives = [(s.objectives[i] - minimum[i]) / (maximum[i] - minimum[i]) for i in range(problem.nobjs)]\n"
     ]
    },
    {
     "name": "stdout",
     "output_type": "stream",
     "text": [
      "finished seed: 90 at 10:48:33\n"
     ]
    },
    {
     "name": "stderr",
     "output_type": "stream",
     "text": [
      "/Users/aas6791/anaconda3/lib/python3.11/site-packages/platypus/core.py:1245: FutureWarning: Series.__getitem__ treating keys as positions is deprecated. In a future version, integer keys will always be treated as labels (consistent with DataFrame behavior). To access a value by position, use `ser.iloc[pos]`\n",
      "  s.normalized_objectives = [(s.objectives[i] - minimum[i]) / (maximum[i] - minimum[i]) for i in range(problem.nobjs)]\n"
     ]
    },
    {
     "name": "stdout",
     "output_type": "stream",
     "text": [
      "finished seed: 100 at 10:59:59\n"
     ]
    },
    {
     "name": "stderr",
     "output_type": "stream",
     "text": [
      "/Users/aas6791/anaconda3/lib/python3.11/site-packages/platypus/core.py:1236: FutureWarning: Series.__getitem__ treating keys as positions is deprecated. In a future version, integer keys will always be treated as labels (consistent with DataFrame behavior). To access a value by position, use `ser.iloc[pos]`\n",
      "  minimum = [min([s.objectives[i] for s in feasible]) for i in range(problem.nobjs)]\n",
      "/Users/aas6791/anaconda3/lib/python3.11/site-packages/platypus/core.py:1239: FutureWarning: Series.__getitem__ treating keys as positions is deprecated. In a future version, integer keys will always be treated as labels (consistent with DataFrame behavior). To access a value by position, use `ser.iloc[pos]`\n",
      "  maximum = [max([s.objectives[i] for s in feasible]) for i in range(problem.nobjs)]\n",
      "/Users/aas6791/anaconda3/lib/python3.11/site-packages/platypus/core.py:1245: FutureWarning: Series.__getitem__ treating keys as positions is deprecated. In a future version, integer keys will always be treated as labels (consistent with DataFrame behavior). To access a value by position, use `ser.iloc[pos]`\n",
      "  s.normalized_objectives = [(s.objectives[i] - minimum[i]) / (maximum[i] - minimum[i]) for i in range(problem.nobjs)]\n"
     ]
    },
    {
     "name": "stdout",
     "output_type": "stream",
     "text": [
      "started squared_exponential_rbf at 10:59:59\n",
      "finished seed: 10 at 11:09:39\n"
     ]
    },
    {
     "name": "stderr",
     "output_type": "stream",
     "text": [
      "/Users/aas6791/anaconda3/lib/python3.11/site-packages/platypus/core.py:1245: FutureWarning: Series.__getitem__ treating keys as positions is deprecated. In a future version, integer keys will always be treated as labels (consistent with DataFrame behavior). To access a value by position, use `ser.iloc[pos]`\n",
      "  s.normalized_objectives = [(s.objectives[i] - minimum[i]) / (maximum[i] - minimum[i]) for i in range(problem.nobjs)]\n"
     ]
    },
    {
     "name": "stdout",
     "output_type": "stream",
     "text": [
      "finished seed: 20 at 11:27:37\n"
     ]
    },
    {
     "name": "stderr",
     "output_type": "stream",
     "text": [
      "/Users/aas6791/anaconda3/lib/python3.11/site-packages/platypus/core.py:1245: FutureWarning: Series.__getitem__ treating keys as positions is deprecated. In a future version, integer keys will always be treated as labels (consistent with DataFrame behavior). To access a value by position, use `ser.iloc[pos]`\n",
      "  s.normalized_objectives = [(s.objectives[i] - minimum[i]) / (maximum[i] - minimum[i]) for i in range(problem.nobjs)]\n"
     ]
    },
    {
     "name": "stdout",
     "output_type": "stream",
     "text": [
      "finished seed: 30 at 11:36:58\n"
     ]
    },
    {
     "name": "stderr",
     "output_type": "stream",
     "text": [
      "/Users/aas6791/anaconda3/lib/python3.11/site-packages/platypus/core.py:1245: FutureWarning: Series.__getitem__ treating keys as positions is deprecated. In a future version, integer keys will always be treated as labels (consistent with DataFrame behavior). To access a value by position, use `ser.iloc[pos]`\n",
      "  s.normalized_objectives = [(s.objectives[i] - minimum[i]) / (maximum[i] - minimum[i]) for i in range(problem.nobjs)]\n"
     ]
    },
    {
     "name": "stdout",
     "output_type": "stream",
     "text": [
      "finished seed: 40 at 11:47:15\n"
     ]
    },
    {
     "name": "stderr",
     "output_type": "stream",
     "text": [
      "/Users/aas6791/anaconda3/lib/python3.11/site-packages/platypus/core.py:1245: FutureWarning: Series.__getitem__ treating keys as positions is deprecated. In a future version, integer keys will always be treated as labels (consistent with DataFrame behavior). To access a value by position, use `ser.iloc[pos]`\n",
      "  s.normalized_objectives = [(s.objectives[i] - minimum[i]) / (maximum[i] - minimum[i]) for i in range(problem.nobjs)]\n"
     ]
    },
    {
     "name": "stdout",
     "output_type": "stream",
     "text": [
      "finished seed: 50 at 11:57:58\n"
     ]
    },
    {
     "name": "stderr",
     "output_type": "stream",
     "text": [
      "/Users/aas6791/anaconda3/lib/python3.11/site-packages/platypus/core.py:1245: FutureWarning: Series.__getitem__ treating keys as positions is deprecated. In a future version, integer keys will always be treated as labels (consistent with DataFrame behavior). To access a value by position, use `ser.iloc[pos]`\n",
      "  s.normalized_objectives = [(s.objectives[i] - minimum[i]) / (maximum[i] - minimum[i]) for i in range(problem.nobjs)]\n"
     ]
    },
    {
     "name": "stdout",
     "output_type": "stream",
     "text": [
      "finished seed: 60 at 12:07:36\n"
     ]
    },
    {
     "name": "stderr",
     "output_type": "stream",
     "text": [
      "/Users/aas6791/anaconda3/lib/python3.11/site-packages/platypus/core.py:1245: FutureWarning: Series.__getitem__ treating keys as positions is deprecated. In a future version, integer keys will always be treated as labels (consistent with DataFrame behavior). To access a value by position, use `ser.iloc[pos]`\n",
      "  s.normalized_objectives = [(s.objectives[i] - minimum[i]) / (maximum[i] - minimum[i]) for i in range(problem.nobjs)]\n"
     ]
    },
    {
     "name": "stdout",
     "output_type": "stream",
     "text": [
      "finished seed: 70 at 12:19:10\n"
     ]
    },
    {
     "name": "stderr",
     "output_type": "stream",
     "text": [
      "/Users/aas6791/anaconda3/lib/python3.11/site-packages/platypus/core.py:1245: FutureWarning: Series.__getitem__ treating keys as positions is deprecated. In a future version, integer keys will always be treated as labels (consistent with DataFrame behavior). To access a value by position, use `ser.iloc[pos]`\n",
      "  s.normalized_objectives = [(s.objectives[i] - minimum[i]) / (maximum[i] - minimum[i]) for i in range(problem.nobjs)]\n"
     ]
    },
    {
     "name": "stdout",
     "output_type": "stream",
     "text": [
      "finished seed: 80 at 12:29:29\n"
     ]
    },
    {
     "name": "stderr",
     "output_type": "stream",
     "text": [
      "/Users/aas6791/anaconda3/lib/python3.11/site-packages/platypus/core.py:1245: FutureWarning: Series.__getitem__ treating keys as positions is deprecated. In a future version, integer keys will always be treated as labels (consistent with DataFrame behavior). To access a value by position, use `ser.iloc[pos]`\n",
      "  s.normalized_objectives = [(s.objectives[i] - minimum[i]) / (maximum[i] - minimum[i]) for i in range(problem.nobjs)]\n"
     ]
    },
    {
     "name": "stdout",
     "output_type": "stream",
     "text": [
      "finished seed: 90 at 12:38:07\n"
     ]
    },
    {
     "name": "stderr",
     "output_type": "stream",
     "text": [
      "/Users/aas6791/anaconda3/lib/python3.11/site-packages/platypus/core.py:1245: FutureWarning: Series.__getitem__ treating keys as positions is deprecated. In a future version, integer keys will always be treated as labels (consistent with DataFrame behavior). To access a value by position, use `ser.iloc[pos]`\n",
      "  s.normalized_objectives = [(s.objectives[i] - minimum[i]) / (maximum[i] - minimum[i]) for i in range(problem.nobjs)]\n"
     ]
    },
    {
     "name": "stdout",
     "output_type": "stream",
     "text": [
      "finished seed: 100 at 12:46:24\n"
     ]
    },
    {
     "name": "stderr",
     "output_type": "stream",
     "text": [
      "/Users/aas6791/anaconda3/lib/python3.11/site-packages/platypus/core.py:1236: FutureWarning: Series.__getitem__ treating keys as positions is deprecated. In a future version, integer keys will always be treated as labels (consistent with DataFrame behavior). To access a value by position, use `ser.iloc[pos]`\n",
      "  minimum = [min([s.objectives[i] for s in feasible]) for i in range(problem.nobjs)]\n",
      "/Users/aas6791/anaconda3/lib/python3.11/site-packages/platypus/core.py:1239: FutureWarning: Series.__getitem__ treating keys as positions is deprecated. In a future version, integer keys will always be treated as labels (consistent with DataFrame behavior). To access a value by position, use `ser.iloc[pos]`\n",
      "  maximum = [max([s.objectives[i] for s in feasible]) for i in range(problem.nobjs)]\n",
      "/Users/aas6791/anaconda3/lib/python3.11/site-packages/platypus/core.py:1245: FutureWarning: Series.__getitem__ treating keys as positions is deprecated. In a future version, integer keys will always be treated as labels (consistent with DataFrame behavior). To access a value by position, use `ser.iloc[pos]`\n",
      "  s.normalized_objectives = [(s.objectives[i] - minimum[i]) / (maximum[i] - minimum[i]) for i in range(problem.nobjs)]\n"
     ]
    },
    {
     "name": "stdout",
     "output_type": "stream",
     "text": [
      "started inverse_quadratic_rbf at 12:46:24\n",
      "finished seed: 10 at 12:52:32\n"
     ]
    },
    {
     "name": "stderr",
     "output_type": "stream",
     "text": [
      "/Users/aas6791/anaconda3/lib/python3.11/site-packages/platypus/core.py:1245: FutureWarning: Series.__getitem__ treating keys as positions is deprecated. In a future version, integer keys will always be treated as labels (consistent with DataFrame behavior). To access a value by position, use `ser.iloc[pos]`\n",
      "  s.normalized_objectives = [(s.objectives[i] - minimum[i]) / (maximum[i] - minimum[i]) for i in range(problem.nobjs)]\n"
     ]
    },
    {
     "name": "stdout",
     "output_type": "stream",
     "text": [
      "finished seed: 20 at 12:57:42\n"
     ]
    },
    {
     "name": "stderr",
     "output_type": "stream",
     "text": [
      "/Users/aas6791/anaconda3/lib/python3.11/site-packages/platypus/core.py:1245: FutureWarning: Series.__getitem__ treating keys as positions is deprecated. In a future version, integer keys will always be treated as labels (consistent with DataFrame behavior). To access a value by position, use `ser.iloc[pos]`\n",
      "  s.normalized_objectives = [(s.objectives[i] - minimum[i]) / (maximum[i] - minimum[i]) for i in range(problem.nobjs)]\n"
     ]
    },
    {
     "name": "stdout",
     "output_type": "stream",
     "text": [
      "finished seed: 30 at 13:16:47\n"
     ]
    },
    {
     "name": "stderr",
     "output_type": "stream",
     "text": [
      "/Users/aas6791/anaconda3/lib/python3.11/site-packages/platypus/core.py:1245: FutureWarning: Series.__getitem__ treating keys as positions is deprecated. In a future version, integer keys will always be treated as labels (consistent with DataFrame behavior). To access a value by position, use `ser.iloc[pos]`\n",
      "  s.normalized_objectives = [(s.objectives[i] - minimum[i]) / (maximum[i] - minimum[i]) for i in range(problem.nobjs)]\n"
     ]
    },
    {
     "name": "stdout",
     "output_type": "stream",
     "text": [
      "finished seed: 40 at 13:27:32\n"
     ]
    },
    {
     "name": "stderr",
     "output_type": "stream",
     "text": [
      "/Users/aas6791/anaconda3/lib/python3.11/site-packages/platypus/core.py:1245: FutureWarning: Series.__getitem__ treating keys as positions is deprecated. In a future version, integer keys will always be treated as labels (consistent with DataFrame behavior). To access a value by position, use `ser.iloc[pos]`\n",
      "  s.normalized_objectives = [(s.objectives[i] - minimum[i]) / (maximum[i] - minimum[i]) for i in range(problem.nobjs)]\n"
     ]
    },
    {
     "name": "stdout",
     "output_type": "stream",
     "text": [
      "finished seed: 50 at 13:35:08\n"
     ]
    },
    {
     "name": "stderr",
     "output_type": "stream",
     "text": [
      "/Users/aas6791/anaconda3/lib/python3.11/site-packages/platypus/core.py:1245: FutureWarning: Series.__getitem__ treating keys as positions is deprecated. In a future version, integer keys will always be treated as labels (consistent with DataFrame behavior). To access a value by position, use `ser.iloc[pos]`\n",
      "  s.normalized_objectives = [(s.objectives[i] - minimum[i]) / (maximum[i] - minimum[i]) for i in range(problem.nobjs)]\n"
     ]
    },
    {
     "name": "stdout",
     "output_type": "stream",
     "text": [
      "finished seed: 60 at 13:41:56\n"
     ]
    },
    {
     "name": "stderr",
     "output_type": "stream",
     "text": [
      "/Users/aas6791/anaconda3/lib/python3.11/site-packages/platypus/core.py:1245: FutureWarning: Series.__getitem__ treating keys as positions is deprecated. In a future version, integer keys will always be treated as labels (consistent with DataFrame behavior). To access a value by position, use `ser.iloc[pos]`\n",
      "  s.normalized_objectives = [(s.objectives[i] - minimum[i]) / (maximum[i] - minimum[i]) for i in range(problem.nobjs)]\n"
     ]
    },
    {
     "name": "stdout",
     "output_type": "stream",
     "text": [
      "finished seed: 70 at 13:49:38\n"
     ]
    },
    {
     "name": "stderr",
     "output_type": "stream",
     "text": [
      "/Users/aas6791/anaconda3/lib/python3.11/site-packages/platypus/core.py:1245: FutureWarning: Series.__getitem__ treating keys as positions is deprecated. In a future version, integer keys will always be treated as labels (consistent with DataFrame behavior). To access a value by position, use `ser.iloc[pos]`\n",
      "  s.normalized_objectives = [(s.objectives[i] - minimum[i]) / (maximum[i] - minimum[i]) for i in range(problem.nobjs)]\n"
     ]
    },
    {
     "name": "stdout",
     "output_type": "stream",
     "text": [
      "finished seed: 80 at 13:57:20\n"
     ]
    },
    {
     "name": "stderr",
     "output_type": "stream",
     "text": [
      "/Users/aas6791/anaconda3/lib/python3.11/site-packages/platypus/core.py:1245: FutureWarning: Series.__getitem__ treating keys as positions is deprecated. In a future version, integer keys will always be treated as labels (consistent with DataFrame behavior). To access a value by position, use `ser.iloc[pos]`\n",
      "  s.normalized_objectives = [(s.objectives[i] - minimum[i]) / (maximum[i] - minimum[i]) for i in range(problem.nobjs)]\n"
     ]
    },
    {
     "name": "stdout",
     "output_type": "stream",
     "text": [
      "finished seed: 90 at 14:06:26\n"
     ]
    },
    {
     "name": "stderr",
     "output_type": "stream",
     "text": [
      "/Users/aas6791/anaconda3/lib/python3.11/site-packages/platypus/core.py:1245: FutureWarning: Series.__getitem__ treating keys as positions is deprecated. In a future version, integer keys will always be treated as labels (consistent with DataFrame behavior). To access a value by position, use `ser.iloc[pos]`\n",
      "  s.normalized_objectives = [(s.objectives[i] - minimum[i]) / (maximum[i] - minimum[i]) for i in range(problem.nobjs)]\n"
     ]
    },
    {
     "name": "stdout",
     "output_type": "stream",
     "text": [
      "finished seed: 100 at 14:16:52\n"
     ]
    },
    {
     "name": "stderr",
     "output_type": "stream",
     "text": [
      "/Users/aas6791/anaconda3/lib/python3.11/site-packages/platypus/core.py:1236: FutureWarning: Series.__getitem__ treating keys as positions is deprecated. In a future version, integer keys will always be treated as labels (consistent with DataFrame behavior). To access a value by position, use `ser.iloc[pos]`\n",
      "  minimum = [min([s.objectives[i] for s in feasible]) for i in range(problem.nobjs)]\n",
      "/Users/aas6791/anaconda3/lib/python3.11/site-packages/platypus/core.py:1239: FutureWarning: Series.__getitem__ treating keys as positions is deprecated. In a future version, integer keys will always be treated as labels (consistent with DataFrame behavior). To access a value by position, use `ser.iloc[pos]`\n",
      "  maximum = [max([s.objectives[i] for s in feasible]) for i in range(problem.nobjs)]\n",
      "/Users/aas6791/anaconda3/lib/python3.11/site-packages/platypus/core.py:1245: FutureWarning: Series.__getitem__ treating keys as positions is deprecated. In a future version, integer keys will always be treated as labels (consistent with DataFrame behavior). To access a value by position, use `ser.iloc[pos]`\n",
      "  s.normalized_objectives = [(s.objectives[i] - minimum[i]) / (maximum[i] - minimum[i]) for i in range(problem.nobjs)]\n"
     ]
    },
    {
     "name": "stdout",
     "output_type": "stream",
     "text": [
      "started inverse_multiquadric_rbf at 14:16:53\n",
      "finished seed: 10 at 14:25:00\n"
     ]
    },
    {
     "name": "stderr",
     "output_type": "stream",
     "text": [
      "/Users/aas6791/anaconda3/lib/python3.11/site-packages/platypus/core.py:1245: FutureWarning: Series.__getitem__ treating keys as positions is deprecated. In a future version, integer keys will always be treated as labels (consistent with DataFrame behavior). To access a value by position, use `ser.iloc[pos]`\n",
      "  s.normalized_objectives = [(s.objectives[i] - minimum[i]) / (maximum[i] - minimum[i]) for i in range(problem.nobjs)]\n"
     ]
    },
    {
     "name": "stdout",
     "output_type": "stream",
     "text": [
      "finished seed: 20 at 14:34:49\n"
     ]
    },
    {
     "name": "stderr",
     "output_type": "stream",
     "text": [
      "/Users/aas6791/anaconda3/lib/python3.11/site-packages/platypus/core.py:1245: FutureWarning: Series.__getitem__ treating keys as positions is deprecated. In a future version, integer keys will always be treated as labels (consistent with DataFrame behavior). To access a value by position, use `ser.iloc[pos]`\n",
      "  s.normalized_objectives = [(s.objectives[i] - minimum[i]) / (maximum[i] - minimum[i]) for i in range(problem.nobjs)]\n"
     ]
    },
    {
     "name": "stdout",
     "output_type": "stream",
     "text": [
      "finished seed: 30 at 14:45:00\n"
     ]
    },
    {
     "name": "stderr",
     "output_type": "stream",
     "text": [
      "/Users/aas6791/anaconda3/lib/python3.11/site-packages/platypus/core.py:1245: FutureWarning: Series.__getitem__ treating keys as positions is deprecated. In a future version, integer keys will always be treated as labels (consistent with DataFrame behavior). To access a value by position, use `ser.iloc[pos]`\n",
      "  s.normalized_objectives = [(s.objectives[i] - minimum[i]) / (maximum[i] - minimum[i]) for i in range(problem.nobjs)]\n"
     ]
    },
    {
     "name": "stdout",
     "output_type": "stream",
     "text": [
      "finished seed: 40 at 14:53:49\n"
     ]
    },
    {
     "name": "stderr",
     "output_type": "stream",
     "text": [
      "/Users/aas6791/anaconda3/lib/python3.11/site-packages/platypus/core.py:1245: FutureWarning: Series.__getitem__ treating keys as positions is deprecated. In a future version, integer keys will always be treated as labels (consistent with DataFrame behavior). To access a value by position, use `ser.iloc[pos]`\n",
      "  s.normalized_objectives = [(s.objectives[i] - minimum[i]) / (maximum[i] - minimum[i]) for i in range(problem.nobjs)]\n"
     ]
    },
    {
     "name": "stdout",
     "output_type": "stream",
     "text": [
      "finished seed: 50 at 15:04:48\n"
     ]
    },
    {
     "name": "stderr",
     "output_type": "stream",
     "text": [
      "/Users/aas6791/anaconda3/lib/python3.11/site-packages/platypus/core.py:1245: FutureWarning: Series.__getitem__ treating keys as positions is deprecated. In a future version, integer keys will always be treated as labels (consistent with DataFrame behavior). To access a value by position, use `ser.iloc[pos]`\n",
      "  s.normalized_objectives = [(s.objectives[i] - minimum[i]) / (maximum[i] - minimum[i]) for i in range(problem.nobjs)]\n"
     ]
    },
    {
     "name": "stdout",
     "output_type": "stream",
     "text": [
      "finished seed: 60 at 15:13:48\n"
     ]
    },
    {
     "name": "stderr",
     "output_type": "stream",
     "text": [
      "/Users/aas6791/anaconda3/lib/python3.11/site-packages/platypus/core.py:1245: FutureWarning: Series.__getitem__ treating keys as positions is deprecated. In a future version, integer keys will always be treated as labels (consistent with DataFrame behavior). To access a value by position, use `ser.iloc[pos]`\n",
      "  s.normalized_objectives = [(s.objectives[i] - minimum[i]) / (maximum[i] - minimum[i]) for i in range(problem.nobjs)]\n"
     ]
    },
    {
     "name": "stdout",
     "output_type": "stream",
     "text": [
      "finished seed: 70 at 15:21:51\n"
     ]
    },
    {
     "name": "stderr",
     "output_type": "stream",
     "text": [
      "/Users/aas6791/anaconda3/lib/python3.11/site-packages/platypus/core.py:1245: FutureWarning: Series.__getitem__ treating keys as positions is deprecated. In a future version, integer keys will always be treated as labels (consistent with DataFrame behavior). To access a value by position, use `ser.iloc[pos]`\n",
      "  s.normalized_objectives = [(s.objectives[i] - minimum[i]) / (maximum[i] - minimum[i]) for i in range(problem.nobjs)]\n"
     ]
    },
    {
     "name": "stdout",
     "output_type": "stream",
     "text": [
      "finished seed: 80 at 15:27:46\n"
     ]
    },
    {
     "name": "stderr",
     "output_type": "stream",
     "text": [
      "/Users/aas6791/anaconda3/lib/python3.11/site-packages/platypus/core.py:1245: FutureWarning: Series.__getitem__ treating keys as positions is deprecated. In a future version, integer keys will always be treated as labels (consistent with DataFrame behavior). To access a value by position, use `ser.iloc[pos]`\n",
      "  s.normalized_objectives = [(s.objectives[i] - minimum[i]) / (maximum[i] - minimum[i]) for i in range(problem.nobjs)]\n"
     ]
    },
    {
     "name": "stdout",
     "output_type": "stream",
     "text": [
      "finished seed: 90 at 15:33:52\n"
     ]
    },
    {
     "name": "stderr",
     "output_type": "stream",
     "text": [
      "/Users/aas6791/anaconda3/lib/python3.11/site-packages/platypus/core.py:1245: FutureWarning: Series.__getitem__ treating keys as positions is deprecated. In a future version, integer keys will always be treated as labels (consistent with DataFrame behavior). To access a value by position, use `ser.iloc[pos]`\n",
      "  s.normalized_objectives = [(s.objectives[i] - minimum[i]) / (maximum[i] - minimum[i]) for i in range(problem.nobjs)]\n"
     ]
    },
    {
     "name": "stdout",
     "output_type": "stream",
     "text": [
      "finished seed: 100 at 15:40:29\n"
     ]
    },
    {
     "name": "stderr",
     "output_type": "stream",
     "text": [
      "/Users/aas6791/anaconda3/lib/python3.11/site-packages/platypus/core.py:1236: FutureWarning: Series.__getitem__ treating keys as positions is deprecated. In a future version, integer keys will always be treated as labels (consistent with DataFrame behavior). To access a value by position, use `ser.iloc[pos]`\n",
      "  minimum = [min([s.objectives[i] for s in feasible]) for i in range(problem.nobjs)]\n",
      "/Users/aas6791/anaconda3/lib/python3.11/site-packages/platypus/core.py:1239: FutureWarning: Series.__getitem__ treating keys as positions is deprecated. In a future version, integer keys will always be treated as labels (consistent with DataFrame behavior). To access a value by position, use `ser.iloc[pos]`\n",
      "  maximum = [max([s.objectives[i] for s in feasible]) for i in range(problem.nobjs)]\n",
      "/Users/aas6791/anaconda3/lib/python3.11/site-packages/platypus/core.py:1245: FutureWarning: Series.__getitem__ treating keys as positions is deprecated. In a future version, integer keys will always be treated as labels (consistent with DataFrame behavior). To access a value by position, use `ser.iloc[pos]`\n",
      "  s.normalized_objectives = [(s.objectives[i] - minimum[i]) / (maximum[i] - minimum[i]) for i in range(problem.nobjs)]\n"
     ]
    },
    {
     "name": "stdout",
     "output_type": "stream",
     "text": [
      "started exponential_rbf at 15:40:30\n",
      "finished seed: 10 at 15:46:06\n"
     ]
    },
    {
     "name": "stderr",
     "output_type": "stream",
     "text": [
      "/Users/aas6791/anaconda3/lib/python3.11/site-packages/platypus/core.py:1245: FutureWarning: Series.__getitem__ treating keys as positions is deprecated. In a future version, integer keys will always be treated as labels (consistent with DataFrame behavior). To access a value by position, use `ser.iloc[pos]`\n",
      "  s.normalized_objectives = [(s.objectives[i] - minimum[i]) / (maximum[i] - minimum[i]) for i in range(problem.nobjs)]\n"
     ]
    },
    {
     "name": "stdout",
     "output_type": "stream",
     "text": [
      "finished seed: 20 at 15:53:14\n"
     ]
    },
    {
     "name": "stderr",
     "output_type": "stream",
     "text": [
      "/Users/aas6791/anaconda3/lib/python3.11/site-packages/platypus/core.py:1245: FutureWarning: Series.__getitem__ treating keys as positions is deprecated. In a future version, integer keys will always be treated as labels (consistent with DataFrame behavior). To access a value by position, use `ser.iloc[pos]`\n",
      "  s.normalized_objectives = [(s.objectives[i] - minimum[i]) / (maximum[i] - minimum[i]) for i in range(problem.nobjs)]\n"
     ]
    },
    {
     "name": "stdout",
     "output_type": "stream",
     "text": [
      "finished seed: 30 at 15:59:49\n"
     ]
    },
    {
     "name": "stderr",
     "output_type": "stream",
     "text": [
      "/Users/aas6791/anaconda3/lib/python3.11/site-packages/platypus/core.py:1245: FutureWarning: Series.__getitem__ treating keys as positions is deprecated. In a future version, integer keys will always be treated as labels (consistent with DataFrame behavior). To access a value by position, use `ser.iloc[pos]`\n",
      "  s.normalized_objectives = [(s.objectives[i] - minimum[i]) / (maximum[i] - minimum[i]) for i in range(problem.nobjs)]\n"
     ]
    },
    {
     "name": "stdout",
     "output_type": "stream",
     "text": [
      "finished seed: 40 at 16:07:13\n"
     ]
    },
    {
     "name": "stderr",
     "output_type": "stream",
     "text": [
      "/Users/aas6791/anaconda3/lib/python3.11/site-packages/platypus/core.py:1245: FutureWarning: Series.__getitem__ treating keys as positions is deprecated. In a future version, integer keys will always be treated as labels (consistent with DataFrame behavior). To access a value by position, use `ser.iloc[pos]`\n",
      "  s.normalized_objectives = [(s.objectives[i] - minimum[i]) / (maximum[i] - minimum[i]) for i in range(problem.nobjs)]\n"
     ]
    },
    {
     "name": "stdout",
     "output_type": "stream",
     "text": [
      "finished seed: 50 at 16:12:23\n"
     ]
    },
    {
     "name": "stderr",
     "output_type": "stream",
     "text": [
      "/Users/aas6791/anaconda3/lib/python3.11/site-packages/platypus/core.py:1245: FutureWarning: Series.__getitem__ treating keys as positions is deprecated. In a future version, integer keys will always be treated as labels (consistent with DataFrame behavior). To access a value by position, use `ser.iloc[pos]`\n",
      "  s.normalized_objectives = [(s.objectives[i] - minimum[i]) / (maximum[i] - minimum[i]) for i in range(problem.nobjs)]\n"
     ]
    },
    {
     "name": "stdout",
     "output_type": "stream",
     "text": [
      "finished seed: 60 at 16:18:22\n"
     ]
    },
    {
     "name": "stderr",
     "output_type": "stream",
     "text": [
      "/Users/aas6791/anaconda3/lib/python3.11/site-packages/platypus/core.py:1245: FutureWarning: Series.__getitem__ treating keys as positions is deprecated. In a future version, integer keys will always be treated as labels (consistent with DataFrame behavior). To access a value by position, use `ser.iloc[pos]`\n",
      "  s.normalized_objectives = [(s.objectives[i] - minimum[i]) / (maximum[i] - minimum[i]) for i in range(problem.nobjs)]\n"
     ]
    },
    {
     "name": "stdout",
     "output_type": "stream",
     "text": [
      "finished seed: 70 at 16:24:01\n"
     ]
    },
    {
     "name": "stderr",
     "output_type": "stream",
     "text": [
      "/Users/aas6791/anaconda3/lib/python3.11/site-packages/platypus/core.py:1245: FutureWarning: Series.__getitem__ treating keys as positions is deprecated. In a future version, integer keys will always be treated as labels (consistent with DataFrame behavior). To access a value by position, use `ser.iloc[pos]`\n",
      "  s.normalized_objectives = [(s.objectives[i] - minimum[i]) / (maximum[i] - minimum[i]) for i in range(problem.nobjs)]\n"
     ]
    },
    {
     "name": "stdout",
     "output_type": "stream",
     "text": [
      "finished seed: 80 at 16:30:41\n"
     ]
    },
    {
     "name": "stderr",
     "output_type": "stream",
     "text": [
      "/Users/aas6791/anaconda3/lib/python3.11/site-packages/platypus/core.py:1245: FutureWarning: Series.__getitem__ treating keys as positions is deprecated. In a future version, integer keys will always be treated as labels (consistent with DataFrame behavior). To access a value by position, use `ser.iloc[pos]`\n",
      "  s.normalized_objectives = [(s.objectives[i] - minimum[i]) / (maximum[i] - minimum[i]) for i in range(problem.nobjs)]\n"
     ]
    },
    {
     "name": "stdout",
     "output_type": "stream",
     "text": [
      "finished seed: 90 at 20:35:01\n"
     ]
    },
    {
     "name": "stderr",
     "output_type": "stream",
     "text": [
      "/Users/aas6791/anaconda3/lib/python3.11/site-packages/platypus/core.py:1245: FutureWarning: Series.__getitem__ treating keys as positions is deprecated. In a future version, integer keys will always be treated as labels (consistent with DataFrame behavior). To access a value by position, use `ser.iloc[pos]`\n",
      "  s.normalized_objectives = [(s.objectives[i] - minimum[i]) / (maximum[i] - minimum[i]) for i in range(problem.nobjs)]\n"
     ]
    },
    {
     "name": "stdout",
     "output_type": "stream",
     "text": [
      "finished seed: 100 at 20:41:29\n"
     ]
    },
    {
     "name": "stderr",
     "output_type": "stream",
     "text": [
      "/Users/aas6791/anaconda3/lib/python3.11/site-packages/platypus/core.py:1236: FutureWarning: Series.__getitem__ treating keys as positions is deprecated. In a future version, integer keys will always be treated as labels (consistent with DataFrame behavior). To access a value by position, use `ser.iloc[pos]`\n",
      "  minimum = [min([s.objectives[i] for s in feasible]) for i in range(problem.nobjs)]\n",
      "/Users/aas6791/anaconda3/lib/python3.11/site-packages/platypus/core.py:1239: FutureWarning: Series.__getitem__ treating keys as positions is deprecated. In a future version, integer keys will always be treated as labels (consistent with DataFrame behavior). To access a value by position, use `ser.iloc[pos]`\n",
      "  maximum = [max([s.objectives[i] for s in feasible]) for i in range(problem.nobjs)]\n",
      "/Users/aas6791/anaconda3/lib/python3.11/site-packages/platypus/core.py:1245: FutureWarning: Series.__getitem__ treating keys as positions is deprecated. In a future version, integer keys will always be treated as labels (consistent with DataFrame behavior). To access a value by position, use `ser.iloc[pos]`\n",
      "  s.normalized_objectives = [(s.objectives[i] - minimum[i]) / (maximum[i] - minimum[i]) for i in range(problem.nobjs)]\n"
     ]
    },
    {
     "name": "stdout",
     "output_type": "stream",
     "text": [
      "started matern32_rbf at 20:41:30\n",
      "finished seed: 10 at 20:50:43\n"
     ]
    },
    {
     "name": "stderr",
     "output_type": "stream",
     "text": [
      "/Users/aas6791/anaconda3/lib/python3.11/site-packages/platypus/core.py:1245: FutureWarning: Series.__getitem__ treating keys as positions is deprecated. In a future version, integer keys will always be treated as labels (consistent with DataFrame behavior). To access a value by position, use `ser.iloc[pos]`\n",
      "  s.normalized_objectives = [(s.objectives[i] - minimum[i]) / (maximum[i] - minimum[i]) for i in range(problem.nobjs)]\n"
     ]
    },
    {
     "name": "stdout",
     "output_type": "stream",
     "text": [
      "finished seed: 20 at 20:58:18\n"
     ]
    },
    {
     "name": "stderr",
     "output_type": "stream",
     "text": [
      "/Users/aas6791/anaconda3/lib/python3.11/site-packages/platypus/core.py:1245: FutureWarning: Series.__getitem__ treating keys as positions is deprecated. In a future version, integer keys will always be treated as labels (consistent with DataFrame behavior). To access a value by position, use `ser.iloc[pos]`\n",
      "  s.normalized_objectives = [(s.objectives[i] - minimum[i]) / (maximum[i] - minimum[i]) for i in range(problem.nobjs)]\n"
     ]
    },
    {
     "name": "stdout",
     "output_type": "stream",
     "text": [
      "finished seed: 30 at 08:19:56\n"
     ]
    },
    {
     "name": "stderr",
     "output_type": "stream",
     "text": [
      "/Users/aas6791/anaconda3/lib/python3.11/site-packages/platypus/core.py:1245: FutureWarning: Series.__getitem__ treating keys as positions is deprecated. In a future version, integer keys will always be treated as labels (consistent with DataFrame behavior). To access a value by position, use `ser.iloc[pos]`\n",
      "  s.normalized_objectives = [(s.objectives[i] - minimum[i]) / (maximum[i] - minimum[i]) for i in range(problem.nobjs)]\n"
     ]
    },
    {
     "name": "stdout",
     "output_type": "stream",
     "text": [
      "finished seed: 40 at 10:31:55\n"
     ]
    },
    {
     "name": "stderr",
     "output_type": "stream",
     "text": [
      "/Users/aas6791/anaconda3/lib/python3.11/site-packages/platypus/core.py:1245: FutureWarning: Series.__getitem__ treating keys as positions is deprecated. In a future version, integer keys will always be treated as labels (consistent with DataFrame behavior). To access a value by position, use `ser.iloc[pos]`\n",
      "  s.normalized_objectives = [(s.objectives[i] - minimum[i]) / (maximum[i] - minimum[i]) for i in range(problem.nobjs)]\n"
     ]
    },
    {
     "name": "stdout",
     "output_type": "stream",
     "text": [
      "finished seed: 50 at 10:37:08\n"
     ]
    },
    {
     "name": "stderr",
     "output_type": "stream",
     "text": [
      "/Users/aas6791/anaconda3/lib/python3.11/site-packages/platypus/core.py:1245: FutureWarning: Series.__getitem__ treating keys as positions is deprecated. In a future version, integer keys will always be treated as labels (consistent with DataFrame behavior). To access a value by position, use `ser.iloc[pos]`\n",
      "  s.normalized_objectives = [(s.objectives[i] - minimum[i]) / (maximum[i] - minimum[i]) for i in range(problem.nobjs)]\n"
     ]
    },
    {
     "name": "stdout",
     "output_type": "stream",
     "text": [
      "finished seed: 60 at 10:44:00\n"
     ]
    },
    {
     "name": "stderr",
     "output_type": "stream",
     "text": [
      "/Users/aas6791/anaconda3/lib/python3.11/site-packages/platypus/core.py:1245: FutureWarning: Series.__getitem__ treating keys as positions is deprecated. In a future version, integer keys will always be treated as labels (consistent with DataFrame behavior). To access a value by position, use `ser.iloc[pos]`\n",
      "  s.normalized_objectives = [(s.objectives[i] - minimum[i]) / (maximum[i] - minimum[i]) for i in range(problem.nobjs)]\n"
     ]
    }
   ],
   "source": [
    "# ei = EpsilonIndicator(reference_set=ref_set)\n",
    "# nfes = []\n",
    "# eis = []\n",
    "# for nfe, archive in archives.items():\n",
    "#     nfes.append(nfe)\n",
    "#     eis.append(ei.calculate(archive))\n",
    "\n",
    "# rbf = \"inverse_multiquadric_rbf\"\n",
    "tempnfe = {}\n",
    "tempei = {}\n",
    "nfe_sets = {}\n",
    "ei_sets = {}\n",
    "for rbf in archives:\n",
    "    nfe_sets[rbf] = {}\n",
    "    ei_sets[rbf] = {}\n",
    "    #     ei = EpsilonIndicator(reference_set=ref_sets[rbf])\n",
    "    ei = EpsilonIndicator(reference_set=ref_set)  # global refset\n",
    "    print(f\"started {rbf} at {DT.datetime.now().strftime('%H:%M:%S')}\")\n",
    "    for seed in archives[rbf]:\n",
    "        nfe_sets[rbf][seed] = {}\n",
    "        ei_sets[rbf][seed] = {}\n",
    "        s_archives = archives[rbf][seed]\n",
    "        nfes = []\n",
    "        eis = []\n",
    "        for nfe, archive in s_archives.items():\n",
    "            nfes.append(nfe)\n",
    "            eis.append(ei.calculate(archive))\n",
    "        nfe_sets[rbf][seed] = nfes\n",
    "        ei_sets[rbf][seed] = eis\n",
    "        tempnfe[seed] = nfes\n",
    "        tempei[seed] = eis\n",
    "        dfei = pd.DataFrame.from_dict(tempei, orient=\"index\")\n",
    "        dfnfe = pd.DataFrame.from_dict(tempnfe, orient=\"index\")\n",
    "        dfei = dfei.T\n",
    "        dfnfe = dfnfe.T\n",
    "        #         dfei.to_csv(f\"epind/{rbf}_ei.csv\", index=False) #local refset\n",
    "        #         dfnfe.to_csv(f\"epind/{rbf}_ei_nfe.csv\", index=False) #local refset\n",
    "        dfei.to_csv(f\"epind_global/{rbf}_ei_all.csv\", index=False)  # global\n",
    "        dfnfe.to_csv(f\"epind_global/{rbf}_ei_nfe_all.csv\", index=False)  # global\n",
    "        print(f\"finished seed: {seed} at {DT.datetime.now().strftime('%H:%M:%S')}\")"
   ]
  },
  {
   "cell_type": "markdown",
   "id": "da0a1366",
   "metadata": {},
   "source": [
    "# Plot results"
   ]
  },
  {
   "cell_type": "code",
   "execution_count": null,
   "id": "905fc3d0",
   "metadata": {},
   "outputs": [],
   "source": [
    "sns.set_style(\"white\")\n",
    "for entry in rbfs:\n",
    "    name = entry.__name__\n",
    "    ei = pd.DataFrame.from_dict(ei_sets[name], orient=\"index\").T\n",
    "    nfe = pd.DataFrame.from_dict(nfe_sets[name], orient=\"index\").T\n",
    "\n",
    "    fig, ax = plt.subplots()\n",
    "    ax.plot(nfe, ei)\n",
    "    ax.set_xlabel(\"nfe\")\n",
    "    ax.set_ylabel(\"Epsilon Indicator\")\n",
    "    ax.set_title(name)\n",
    "    sns.despine()\n",
    "\n",
    "    plt.show()"
   ]
  },
  {
   "cell_type": "markdown",
   "id": "b5cc01a5",
   "metadata": {},
   "source": [
    "# Local reference set"
   ]
  },
  {
   "cell_type": "code",
   "execution_count": null,
   "id": "e22adbb9",
   "metadata": {},
   "outputs": [],
   "source": [
    "for entry, c in zip(rbfs, sns.color_palette()):\n",
    "    rbf = entry.__name__\n",
    "    df_ei = pd.read_csv(f\"epind/{rbf}_ei.csv\")\n",
    "    df_ei_nfe = pd.read_csv(f\"epind/{rbf}_ei_nfe.csv\")\n",
    "    fig, ax = plt.subplots(sharex=True)\n",
    "\n",
    "    ax.plot(df_ei_nfe, df_ei, color=c)\n",
    "\n",
    "    ax.set_xlabel(\"nfe\")\n",
    "    ax.set_ylabel(\"epsilon indicator\")\n",
    "    ax.set_title(rbf)\n",
    "    sns.despine()\n",
    "    plt.savefig(f\"figs/{rbf}/{rbf}_ei.png\")\n",
    "plt.show()"
   ]
  },
  {
   "cell_type": "markdown",
   "id": "8a6d280a",
   "metadata": {},
   "source": [
    "# Global reference set"
   ]
  },
  {
   "cell_type": "code",
   "execution_count": null,
   "id": "bbd63fc8",
   "metadata": {},
   "outputs": [],
   "source": [
    "for entry, c in zip(rbfs, sns.color_palette()):\n",
    "    rbf = entry.__name__\n",
    "    df_ei = pd.read_csv(f\"epind_global/{rbf}_ei_all.csv\")\n",
    "    df_ei_nfe = pd.read_csv(f\"epind_global/{rbf}_ei_nfe_all.csv\")\n",
    "    fig, ax = plt.subplots(sharex=True)\n",
    "\n",
    "    ax.plot(df_ei_nfe, df_ei, color=c)\n",
    "\n",
    "    ax.set_xlabel(\"nfe\")\n",
    "    ax.set_ylabel(\"epsilon indicator\")\n",
    "    ax.set_title(rbf)\n",
    "    sns.despine()\n",
    "#     plt.savefig(f'figs/{rbf}/{rbf}_ei_global.png')\n",
    "plt.show()"
   ]
  },
  {
   "cell_type": "code",
   "execution_count": null,
   "id": "3ec865bf",
   "metadata": {},
   "outputs": [],
   "source": []
  },
  {
   "cell_type": "code",
   "execution_count": null,
   "id": "258aa953",
   "metadata": {},
   "outputs": [],
   "source": []
  }
 ],
 "metadata": {
  "kernelspec": {
   "display_name": "Python 3 (ipykernel)",
   "language": "python",
   "name": "python3"
  },
  "language_info": {
   "codemirror_mode": {
    "name": "ipython",
    "version": 3
   },
   "file_extension": ".py",
   "mimetype": "text/x-python",
   "name": "python",
   "nbconvert_exporter": "python",
   "pygments_lexer": "ipython3",
   "version": "3.11.5"
  }
 },
 "nbformat": 4,
 "nbformat_minor": 5
}
