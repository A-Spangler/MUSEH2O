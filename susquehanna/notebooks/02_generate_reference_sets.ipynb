{
 "cells": [
  {
   "cell_type": "code",
   "execution_count": 20,
   "id": "4ceb4274",
   "metadata": {
    "pycharm": {
     "is_executing": true
    }
   },
   "outputs": [],
   "source": [
    "import pandas as pd\n",
    "import numpy as np\n",
    "import pareto\n",
    "import os\n",
    "import sys\n",
    "from itertools import chain\n",
    "import rbf_functions\n",
    "\n",
    "sys.path.append(\"..\")"
   ]
  },
  {
   "cell_type": "code",
   "execution_count": 21,
   "id": "f5e00ebd",
   "metadata": {},
   "outputs": [],
   "source": [
    "from rbf_functions import rbfs"
   ]
  },
  {
   "cell_type": "markdown",
   "id": "8e4e3c86",
   "metadata": {},
   "source": [
    "# Load solutions for each RBF for all seeds:"
   ]
  },
  {
   "cell_type": "code",
   "execution_count": 22,
   "id": "df3bb903",
   "metadata": {},
   "outputs": [
    {
     "name": "stdout",
     "output_type": "stream",
     "text": [
      "Amount of solutions for each RBF:\n",
      "squared_exponential_rbf 14323\n",
      "original_rbf 15650\n",
      "inverse_quadratic_rbf 9372\n",
      "inverse_multiquadric_rbf 10593\n",
      "exponential_rbf 7753\n",
      "matern32_rbf 13423\n",
      "matern52_rbf 9339\n",
      "Loaded into list 'solutions': 10_solution, 50_solution, 20_solution, 60_solution, 100_solution, 80_solution, 90_solution, 70_solution, 30_solution, 40_solution\n"
     ]
    }
   ],
   "source": [
    "#rbf_functions is a class of functions defined in the rbf directory\n",
    "rbfs = [\n",
    "    rbf_functions.squared_exponential_rbf,\n",
    "    rbf_functions.original_rbf,\n",
    "    rbf_functions.inverse_quadratic_rbf,\n",
    "    rbf_functions.inverse_multiquadric_rbf,\n",
    "    rbf_functions.exponential_rbf,\n",
    "    rbf_functions.matern32_rbf,\n",
    "    rbf_functions.matern52_rbf,\n",
    "]\n",
    "\n",
    "# rbf_functions previously executed, __name__solution.csv files produced\n",
    "# the code pulls these solutions and organizez them into pareto_sets dictionary\n",
    "# pareto_sets dictionary is then used to develop release plots\n",
    "\n",
    "# when/where were the __name__solution.csv files generated? \n",
    "\n",
    "pareto_sets = {}\n",
    "for entry in rbfs:\n",
    "    sollist = []\n",
    "    solutions = []\n",
    "    name = entry.__name__\n",
    "    output_dir = f\"../output/{name}/\"\n",
    "    for filename in os.listdir(output_dir):\n",
    "        if filename.endswith(\"solution.csv\"): #loads in __name__solution.csv from ../output/name/ dir\n",
    "            sollist.append(filename[:-4])\n",
    "            df_temp = pd.read_csv(f\"{output_dir}{filename}\", header=0) \n",
    "            solutions.append(df_temp.values.tolist())\n",
    "\n",
    "    pareto_sets[name] = list(chain.from_iterable(solutions))\n",
    "\n",
    "pareto_sets.keys()\n",
    "print(\"Amount of solutions for each RBF:\")\n",
    "for rbf in pareto_sets:\n",
    "    print(rbf, len(pareto_sets[rbf]))\n",
    "print(f\"Loaded into list 'solutions': {', '.join(sollist)}\")"
   ]
  },
  {
   "cell_type": "code",
   "execution_count": 23,
   "id": "822cf3cf-c97a-4241-bbcc-780529f1e0f1",
   "metadata": {},
   "outputs": [],
   "source": [
    "rbfs = [\n",
    "    rbf_functions.squared_exponential_rbf,\n",
    "    rbf_functions.original_rbf,\n",
    "    rbf_functions.inverse_quadratic_rbf,\n",
    "    rbf_functions.inverse_multiquadric_rbf,\n",
    "    rbf_functions.exponential_rbf,\n",
    "    rbf_functions.matern32_rbf,\n",
    "    rbf_functions.matern52_rbf,\n",
    "]\n",
    "\n",
    "# iterates over each RBF with different seeds\n",
    "# loads RBF solutions and decision variables\n",
    "# organizes into pareto_sets dictionary \n",
    "\n",
    "pareto_sets = {}\n",
    "for entry in rbfs:\n",
    "    sets_per_seed = []\n",
    "    name = entry.__name__\n",
    "    output_dir = f\"../output/{name}/\"\n",
    "\n",
    "    for seed in np.arange(10, 110, 10):\n",
    "        solutions = pd.read_csv(os.path.join(output_dir, f\"{seed}_solution.csv\"))\n",
    "        variables = pd.read_csv(\n",
    "            os.path.join(output_dir, f\"{seed}_variables.csv\"), header=None\n",
    "        )\n",
    "\n",
    "        combined = pd.concat([variables, solutions], axis=1)\n",
    "        sets_per_seed.append(combined)\n",
    "\n",
    "    pareto_sets[name] = pd.concat(sets_per_seed)\n",
    "\n",
    "\n",
    "#print(\"Amount of solutions for each RBF:\")\n",
    "#for rbf in pareto_sets:\n",
    "#    print(rbf, len(pareto_sets[rbf]))"
   ]
  },
  {
   "cell_type": "markdown",
   "id": "ccfa2d0a",
   "metadata": {},
   "source": [
    "# Create reference set for each RBF, and save:"
   ]
  },
  {
   "cell_type": "code",
   "execution_count": 24,
   "id": "559b5e31-7b2b-4d79-bd28-c459b6d461cb",
   "metadata": {},
   "outputs": [
    {
     "name": "stdout",
     "output_type": "stream",
     "text": [
      "squared_exponential_rbf 14323\n",
      "squared_exponential_rbf 2142\n",
      "original_rbf 15650\n",
      "original_rbf 2675\n",
      "inverse_quadratic_rbf 9372\n",
      "inverse_quadratic_rbf 1684\n",
      "inverse_multiquadric_rbf 10593\n",
      "inverse_multiquadric_rbf 1636\n",
      "exponential_rbf 7753\n",
      "exponential_rbf 1585\n",
      "matern32_rbf 13423\n",
      "matern32_rbf 2268\n",
      "matern52_rbf 9339\n",
      "matern52_rbf 1774\n"
     ]
    }
   ],
   "source": [
    "# this code produces the reference set per RBF, and in the stored results\n",
    "# also includes the associated decision variables\n",
    "\n",
    "#sort to find nondominated solutions, store as reference sets\n",
    "\n",
    "reference_sets = {}\n",
    "for rbf in pareto_sets:\n",
    "    data = pareto_sets[rbf] #list\n",
    "\n",
    "    print(rbf, len(data))\n",
    "    nondominated = pareto.eps_sort(\n",
    "        [data.values],\n",
    "        [32, 33, 34, 35, 36, 37], #objectives indicies by collumn number\n",
    "        [0.5, 0.05, 0.05, 0.05, 0.001, 0.05], #epsilons\n",
    "        maximize=[32, 33, 34, 35, 37],\n",
    "    )\n",
    "    reference_sets[rbf] = nondominated\n",
    "    df_nondom = pd.DataFrame(nondominated, columns=data.columns)\n",
    "    print(rbf, len(nondominated))\n",
    "    df_nondom.to_csv(\n",
    "        f\"./refsets/{rbf}_refset_with_variables.csv\", index=False, header=True\n",
    "    )"
   ]
  },
  {
   "cell_type": "code",
   "execution_count": 25,
   "id": "de8afe4d",
   "metadata": {},
   "outputs": [
    {
     "name": "stdout",
     "output_type": "stream",
     "text": [
      "squared_exponential_rbf 14323\n"
     ]
    },
    {
     "ename": "TypeError",
     "evalue": "'int' object is not iterable",
     "output_type": "error",
     "traceback": [
      "\u001b[0;31m---------------------------------------------------------------------------\u001b[0m",
      "\u001b[0;31mTypeError\u001b[0m                                 Traceback (most recent call last)",
      "Cell \u001b[0;32mIn[25], line 6\u001b[0m\n\u001b[1;32m      4\u001b[0m \u001b[38;5;28;01mfor\u001b[39;00m rbf \u001b[38;5;129;01min\u001b[39;00m pareto_sets:\n\u001b[1;32m      5\u001b[0m     \u001b[38;5;28mprint\u001b[39m(rbf, \u001b[38;5;28mlen\u001b[39m(pareto_sets[rbf]))\n\u001b[0;32m----> 6\u001b[0m     nondominated \u001b[38;5;241m=\u001b[39m pareto\u001b[38;5;241m.\u001b[39meps_sort(\n\u001b[1;32m      7\u001b[0m         [pareto_sets[rbf]],\n\u001b[1;32m      8\u001b[0m         [\u001b[38;5;241m0\u001b[39m, \u001b[38;5;241m1\u001b[39m, \u001b[38;5;241m2\u001b[39m, \u001b[38;5;241m3\u001b[39m, \u001b[38;5;241m4\u001b[39m, \u001b[38;5;241m5\u001b[39m],\n\u001b[1;32m      9\u001b[0m         [\u001b[38;5;241m0.5\u001b[39m, \u001b[38;5;241m0.05\u001b[39m, \u001b[38;5;241m0.05\u001b[39m, \u001b[38;5;241m0.05\u001b[39m, \u001b[38;5;241m0.001\u001b[39m, \u001b[38;5;241m0.05\u001b[39m],\n\u001b[1;32m     10\u001b[0m         maximize\u001b[38;5;241m=\u001b[39m[\u001b[38;5;241m0\u001b[39m, \u001b[38;5;241m1\u001b[39m, \u001b[38;5;241m2\u001b[39m, \u001b[38;5;241m3\u001b[39m, \u001b[38;5;241m5\u001b[39m],\n\u001b[1;32m     11\u001b[0m     )\n\u001b[1;32m     12\u001b[0m     reference_sets[rbf] \u001b[38;5;241m=\u001b[39m nondominated\n\u001b[1;32m     13\u001b[0m     df_nondom \u001b[38;5;241m=\u001b[39m pd\u001b[38;5;241m.\u001b[39mDataFrame(\n\u001b[1;32m     14\u001b[0m         nondominated,\n\u001b[1;32m     15\u001b[0m         columns\u001b[38;5;241m=\u001b[39m[\n\u001b[0;32m   (...)\u001b[0m\n\u001b[1;32m     22\u001b[0m         ],\n\u001b[1;32m     23\u001b[0m     )\n",
      "File \u001b[0;32m~/MUSEH2O/susquehanna/notebooks/pareto.py:527\u001b[0m, in \u001b[0;36meps_sort\u001b[0;34m(tables, objectives, epsilons, **kwargs)\u001b[0m\n\u001b[1;32m    524\u001b[0m     tables \u001b[38;5;241m=\u001b[39m [maximize(solutions, mindices) \u001b[38;5;28;01mfor\u001b[39;00m solutions \u001b[38;5;129;01min\u001b[39;00m tables]\n\u001b[1;32m    526\u001b[0m \u001b[38;5;66;03m# tagalongs is the *raw* data\u001b[39;00m\n\u001b[0;32m--> 527\u001b[0m tagalongs \u001b[38;5;241m=\u001b[39m eps_sort_solutions(tables, epsilons)\n\u001b[1;32m    529\u001b[0m \u001b[38;5;28;01mreturn\u001b[39;00m tagalongs\n",
      "File \u001b[0;32m~/MUSEH2O/susquehanna/notebooks/pareto.py:539\u001b[0m, in \u001b[0;36meps_sort_solutions\u001b[0;34m(tables, epsilons)\u001b[0m\n\u001b[1;32m    533\u001b[0m \u001b[38;5;250m\u001b[39m\u001b[38;5;124;03m\"\"\"\u001b[39;00m\n\u001b[1;32m    534\u001b[0m \u001b[38;5;124;03mPerform an epsilon-nondominated sort\u001b[39;00m\n\u001b[1;32m    535\u001b[0m \u001b[38;5;124;03mtables: input (objectives, row) tuples\u001b[39;00m\n\u001b[1;32m    536\u001b[0m \u001b[38;5;124;03mepsilons: epsilon values for the objectives.  Assume 1e-9 if none\u001b[39;00m\n\u001b[1;32m    537\u001b[0m \u001b[38;5;124;03m\"\"\"\u001b[39;00m\n\u001b[1;32m    538\u001b[0m \u001b[38;5;66;03m# slip the first row off the first table to figure out nobj\u001b[39;00m\n\u001b[0;32m--> 539\u001b[0m objectives, row \u001b[38;5;241m=\u001b[39m \u001b[38;5;28mnext\u001b[39m(tables[\u001b[38;5;241m0\u001b[39m])\n\u001b[1;32m    540\u001b[0m table \u001b[38;5;241m=\u001b[39m [(objectives, row)]\n\u001b[1;32m    541\u001b[0m tables \u001b[38;5;241m=\u001b[39m [table] \u001b[38;5;241m+\u001b[39m tables\n",
      "File \u001b[0;32m~/MUSEH2O/susquehanna/notebooks/pareto.py:651\u001b[0m, in \u001b[0;36mmaximize\u001b[0;34m(solutions, mindices)\u001b[0m\n\u001b[1;32m    649\u001b[0m         \u001b[38;5;28;01myield\u001b[39;00m objectives, row\n\u001b[1;32m    650\u001b[0m \u001b[38;5;28;01melse\u001b[39;00m:\n\u001b[0;32m--> 651\u001b[0m     \u001b[38;5;28;01mfor\u001b[39;00m objectives, row \u001b[38;5;129;01min\u001b[39;00m solutions:\n\u001b[1;32m    652\u001b[0m         \u001b[38;5;28;01mfor\u001b[39;00m ii \u001b[38;5;129;01min\u001b[39;00m mindices:\n\u001b[1;32m    653\u001b[0m             objectives[ii] \u001b[38;5;241m=\u001b[39m \u001b[38;5;241m0\u001b[39m \u001b[38;5;241m-\u001b[39m objectives[ii]\n",
      "File \u001b[0;32m~/MUSEH2O/susquehanna/notebooks/pareto.py:623\u001b[0m, in \u001b[0;36mwithobjectives\u001b[0;34m(annotatedrows, oindices)\u001b[0m\n\u001b[1;32m    621\u001b[0m \u001b[38;5;250m\u001b[39m\u001b[38;5;124;03m\"\"\"extract objectives and convert to float\"\"\"\u001b[39;00m\n\u001b[1;32m    622\u001b[0m \u001b[38;5;28;01mif\u001b[39;00m oindices \u001b[38;5;129;01mis\u001b[39;00m \u001b[38;5;129;01mnot\u001b[39;00m \u001b[38;5;28;01mNone\u001b[39;00m:\n\u001b[0;32m--> 623\u001b[0m     \u001b[38;5;28;01mfor\u001b[39;00m row, annot \u001b[38;5;129;01min\u001b[39;00m annotatedrows:\n\u001b[1;32m    624\u001b[0m         objectives \u001b[38;5;241m=\u001b[39m []\n\u001b[1;32m    625\u001b[0m         \u001b[38;5;28;01mfor\u001b[39;00m oo \u001b[38;5;129;01min\u001b[39;00m oindices:\n",
      "File \u001b[0;32m~/MUSEH2O/susquehanna/notebooks/pareto.py:340\u001b[0m, in \u001b[0;36mnoannotation\u001b[0;34m(table)\u001b[0m\n\u001b[1;32m    338\u001b[0m \u001b[38;5;250m\u001b[39m\u001b[38;5;124;03m\"\"\"produce solutions with no annotation from a table\"\"\"\u001b[39;00m\n\u001b[1;32m    339\u001b[0m empty \u001b[38;5;241m=\u001b[39m []\n\u001b[0;32m--> 340\u001b[0m \u001b[38;5;28;01mfor\u001b[39;00m row \u001b[38;5;129;01min\u001b[39;00m table:\n\u001b[1;32m    341\u001b[0m     \u001b[38;5;28;01myield\u001b[39;00m (row, empty)\n",
      "File \u001b[0;32m~/MUSEH2O/susquehanna/notebooks/pareto.py:401\u001b[0m, in \u001b[0;36m<genexpr>\u001b[0;34m(.0)\u001b[0m\n\u001b[1;32m    398\u001b[0m         \u001b[38;5;28;01mraise\u001b[39;00m \u001b[38;5;167;01mTypeError\u001b[39;00m()\n\u001b[1;32m    399\u001b[0m     \u001b[38;5;28;01mexcept\u001b[39;00m \u001b[38;5;167;01mAttributeError\u001b[39;00m:\n\u001b[1;32m    400\u001b[0m         \u001b[38;5;66;03m# copy the data as needed\u001b[39;00m\n\u001b[0;32m--> 401\u001b[0m         \u001b[38;5;28;01mreturn\u001b[39;00m ([v \u001b[38;5;28;01mfor\u001b[39;00m v \u001b[38;5;129;01min\u001b[39;00m r] \u001b[38;5;28;01mfor\u001b[39;00m r \u001b[38;5;129;01min\u001b[39;00m rowit)\n\u001b[1;32m    402\u001b[0m \u001b[38;5;28;01mexcept\u001b[39;00m (\u001b[38;5;167;01mAttributeError\u001b[39;00m, \u001b[38;5;167;01mIndexError\u001b[39;00m):\n\u001b[1;32m    403\u001b[0m     \u001b[38;5;28;01mraise\u001b[39;00m \u001b[38;5;167;01mTypeError\u001b[39;00m()\n",
      "\u001b[0;31mTypeError\u001b[0m: 'int' object is not iterable"
     ]
    }
   ],
   "source": [
    "#sometimes this cell doesn't run. Not sure why, try editing 'nondominated' and rerun\n",
    "\n",
    "reference_sets = {}\n",
    "for rbf in pareto_sets:\n",
    "    print(rbf, len(pareto_sets[rbf]))\n",
    "    nondominated = pareto.eps_sort(\n",
    "        [pareto_sets[rbf]],\n",
    "        [0, 1, 2, 3, 4, 5],\n",
    "        [0.5, 0.05, 0.05, 0.05, 0.001, 0.05],\n",
    "        maximize=[0, 1, 2, 3, 5],\n",
    "    )\n",
    "    reference_sets[rbf] = nondominated\n",
    "    df_nondom = pd.DataFrame(\n",
    "        nondominated,\n",
    "        columns=[\n",
    "            \"hydropower\",\n",
    "            \"atomicpowerplant\",\n",
    "            \"baltimore\",\n",
    "            \"chester\",\n",
    "            \"environment\",\n",
    "            \"recreation\",\n",
    "        ],\n",
    "    )\n",
    "    print(rbf, len(df_nondom))\n",
    "    df_nondom.to_csv(f\"../notebooks/refsets/{rbf}_refset.csv\", index=False, header=True)"
   ]
  },
  {
   "cell_type": "markdown",
   "id": "ea846d31",
   "metadata": {},
   "source": [
    "# Find decision variables that belong to the generated refset:"
   ]
  },
  {
   "cell_type": "code",
   "execution_count": null,
   "id": "2cdcac00",
   "metadata": {},
   "outputs": [],
   "source": [
    "d_refvar = {}\n",
    "d_refsol = {}\n",
    "for entry in rbfs:\n",
    "    name = entry.__name__\n",
    "    df_sol = pd.DataFrame(\n",
    "        columns=[\n",
    "            \"hydropower\",\n",
    "            \"atomicpowerplant\",\n",
    "            \"baltimore\",\n",
    "            \"chester\",\n",
    "            \"environment\",\n",
    "            \"recreation\",\n",
    "        ]\n",
    "    )\n",
    "    df_var = pd.DataFrame(\n",
    "        columns=[\n",
    "            0,\n",
    "            1,\n",
    "            2,\n",
    "            3,\n",
    "            4,\n",
    "            5,\n",
    "            6,\n",
    "            7,\n",
    "            8,\n",
    "            9,\n",
    "            10,\n",
    "            11,\n",
    "            12,\n",
    "            13,\n",
    "            14,\n",
    "            15,\n",
    "            16,\n",
    "            17,\n",
    "            18,\n",
    "            19,\n",
    "            20,\n",
    "            21,\n",
    "            22,\n",
    "            23,\n",
    "            24,\n",
    "            25,\n",
    "            26,\n",
    "            27,\n",
    "            28,\n",
    "            29,\n",
    "            30,\n",
    "            31,\n",
    "        ]\n",
    "    )\n",
    "    output_dir = f\"../output/{name}\"\n",
    "\n",
    "    for filename in os.listdir(output_dir):\n",
    "        # load\n",
    "        if filename.endswith(\"solution.csv\"):\n",
    "            df_ts = pd.read_csv(f\"{output_dir}/{filename}\", header=0)\n",
    "            df_sol = pd.concat([df_sol, pd.DataFrame(df_sol)])\n",
    "        elif filename.endswith(\"variables.csv\"):\n",
    "            df_tv = pd.read_csv(f\"{output_dir}/{filename}\", header=None)\n",
    "            df_var = pd.concat([df_var, pd.DataFrame(df_tv)])\n",
    "\n",
    "    sol = df_sol.values.tolist()\n",
    "    var = df_var.values.tolist()\n",
    "    ref = reference_sets[name]\n",
    "    refvar = []\n",
    "    refsol = []\n",
    "\n",
    "    for idx, value in enumerate(sol):\n",
    "        if value in ref:\n",
    "            refvar.append(var[idx])\n",
    "            refsol.append(sol[idx])\n",
    "    d_refsol[name] = pd.DataFrame(\n",
    "        refsol,\n",
    "        columns=[\n",
    "            \"hydropower\",\n",
    "            \"atomicpowerplant\",\n",
    "            \"baltimore\",\n",
    "            \"chester\",\n",
    "            \"environment\",\n",
    "            \"recreation\",\n",
    "        ],\n",
    "    )\n",
    "    d_refvar[name] = pd.DataFrame(refvar)\n",
    "    d_refsol[name].to_csv(\n",
    "        f\"../notebooks/refsets/{name}_refset.csv\", index=False, header=True\n",
    "    )\n",
    "    d_refvar[name].to_csv(\n",
    "        f\"../notebooks/refsets/{name}_refset_variables.csv\", index=False, header=False\n",
    "    )"
   ]
  },
  {
   "cell_type": "code",
   "execution_count": null,
   "id": "83133cc2",
   "metadata": {},
   "outputs": [],
   "source": [
    "for entry in rbfs:\n",
    "    name = entry.__name__\n",
    "    print(name)\n",
    "    print(f\"refset: {len(d_refsol[name])}\")\n",
    "    print(f\"varset: {len(d_refvar[name])}\")"
   ]
  },
  {
   "cell_type": "markdown",
   "id": "9666db37",
   "metadata": {},
   "source": [
    "# Generate global reference set for all RBFs:"
   ]
  },
  {
   "cell_type": "code",
   "execution_count": null,
   "id": "370fee23",
   "metadata": {},
   "outputs": [],
   "source": [
    "x = 0\n",
    "for rbf in pareto_sets:\n",
    "    x += len(pareto_sets[rbf])\n",
    "    print(rbf, len(pareto_sets[rbf]))\n",
    "print(\"total:\", x)\n",
    "\n",
    "pareto_set = {}\n",
    "sollist = []\n",
    "solutions = []\n",
    "for entry in rbfs:\n",
    "    name = entry.__name__\n",
    "    output_dir = f\"../output/{name}/\"\n",
    "    for filename in os.listdir(output_dir):\n",
    "        if filename.endswith(\"solution.csv\"):\n",
    "            sollist.append(filename[:-4])\n",
    "            df_temp = pd.read_csv(f\"{output_dir}{filename}\", header=0)\n",
    "            solutions.append(df_temp.values.tolist())\n",
    "pareto_set = list(chain.from_iterable(solutions))\n",
    "len(pareto_set)"
   ]
  },
  {
   "cell_type": "code",
   "execution_count": null,
   "id": "7833c6aa",
   "metadata": {},
   "outputs": [],
   "source": [
    "print(len(pareto_set))\n",
    "nondominated = pareto.eps_sort(\n",
    "    [pareto_set],\n",
    "    [0, 1, 2, 3, 4, 5],\n",
    "    [0.5, 0.05, 0.05, 0.05, 0.001, 0.05],\n",
    "    maximize=[0, 1, 2, 3, 5],\n",
    ")\n",
    "df_nondom = pd.DataFrame(\n",
    "    nondominated,\n",
    "    columns=[\n",
    "        \"hydropower\",\n",
    "        \"atomicpowerplant\",\n",
    "        \"baltimore\",\n",
    "        \"chester\",\n",
    "        \"environment\",\n",
    "        \"recreation\",\n",
    "    ],\n",
    ")\n",
    "print(len(nondominated))\n",
    "df_nondom.to_csv(f\"../notebooks/refsets/global_refset.csv\", index=False, header=True)"
   ]
  },
  {
   "cell_type": "code",
   "execution_count": null,
   "id": "c64dfe84",
   "metadata": {},
   "outputs": [],
   "source": []
  },
  {
   "cell_type": "code",
   "execution_count": null,
   "id": "79ecc773",
   "metadata": {},
   "outputs": [],
   "source": []
  }
 ],
 "metadata": {
  "kernelspec": {
   "display_name": "Python 3 (ipykernel)",
   "language": "python",
   "name": "python3"
  },
  "language_info": {
   "codemirror_mode": {
    "name": "ipython",
    "version": 3
   },
   "file_extension": ".py",
   "mimetype": "text/x-python",
   "name": "python",
   "nbconvert_exporter": "python",
   "pygments_lexer": "ipython3",
   "version": "3.11.5"
  }
 },
 "nbformat": 4,
 "nbformat_minor": 5
}
