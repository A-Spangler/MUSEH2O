{
 "cells": [
  {
   "cell_type": "code",
   "execution_count": 1,
   "id": "8289a039",
   "metadata": {},
   "outputs": [],
   "source": [
    "import sys\n",
    "import pandas as pd\n",
    "\n",
    "sys.path.append(\"..\")\n",
    "import os\n",
    "import rbf_functions"
   ]
  },
  {
   "cell_type": "code",
   "execution_count": 2,
   "id": "27081916",
   "metadata": {},
   "outputs": [],
   "source": [
    "rbfs = [\n",
    "    rbf_functions.original_rbf,\n",
    "    rbf_functions.squared_exponential_rbf,\n",
    "    rbf_functions.inverse_quadratic_rbf,\n",
    "    rbf_functions.inverse_multiquadric_rbf,\n",
    "    rbf_functions.exponential_rbf,\n",
    "    rbf_functions.matern32_rbf,\n",
    "    rbf_functions.matern52_rbf,\n",
    "]"
   ]
  },
  {
   "cell_type": "markdown",
   "id": "9f4b6c79",
   "metadata": {},
   "source": [
    "# Load data"
   ]
  },
  {
   "cell_type": "code",
   "execution_count": 3,
   "id": "500f3c5a",
   "metadata": {},
   "outputs": [],
   "source": [
    "hv_global = pd.read_csv(\"./calculated_metrics/hv_refset_global.csv\").iloc[0, -1]\n",
    "averages = {}\n",
    "for entry in rbfs:\n",
    "    rbf = entry.__name__\n",
    "\n",
    "    # normalize hv against reference set so reference set is 1\n",
    "    df_hv = pd.read_csv(f\"calculated_metrics/hv_{rbf}_global.csv\")\n",
    "    df_hv.hypervolume /= hv_global\n",
    "\n",
    "    df_ei = pd.read_csv(f\"calculated_metrics/ei_{rbf}_global.csv\")\n",
    "    df_gd = pd.read_csv(f\"calculated_metrics/gd_{rbf}_global.csv\")\n",
    "\n",
    "    avg_hv = df_hv.groupby(\"seed\").tail(1).loc[:, \"hypervolume\"].mean()\n",
    "    avg_ei = df_ei.groupby(\"ei\").tail(1).loc[:, \"ei\"].mean()\n",
    "    avg_gd = df_gd.groupby(\"gd\").tail(1).loc[:, \"gd\"].mean()\n",
    "    averages[rbf] = dict(\n",
    "        hypervolume=avg_hv, epsilon_indicator=avg_ei, generational_distance=avg_gd\n",
    "    )"
   ]
  },
  {
   "cell_type": "code",
   "execution_count": 4,
   "id": "074a8189-6c68-4b5e-a281-7220050a0c14",
   "metadata": {},
   "outputs": [
    {
     "data": {
      "text/html": [
       "<div>\n",
       "<style scoped>\n",
       "    .dataframe tbody tr th:only-of-type {\n",
       "        vertical-align: middle;\n",
       "    }\n",
       "\n",
       "    .dataframe tbody tr th {\n",
       "        vertical-align: top;\n",
       "    }\n",
       "\n",
       "    .dataframe thead th {\n",
       "        text-align: right;\n",
       "    }\n",
       "</style>\n",
       "<table border=\"1\" class=\"dataframe\">\n",
       "  <thead>\n",
       "    <tr style=\"text-align: right;\">\n",
       "      <th></th>\n",
       "      <th>hypervolume</th>\n",
       "      <th>epsilon_indicator</th>\n",
       "      <th>generational_distance</th>\n",
       "    </tr>\n",
       "  </thead>\n",
       "  <tbody>\n",
       "    <tr>\n",
       "      <th>original_rbf</th>\n",
       "      <td>0.716880</td>\n",
       "      <td>0.349520</td>\n",
       "      <td>0.022556</td>\n",
       "    </tr>\n",
       "    <tr>\n",
       "      <th>squared_exponential_rbf</th>\n",
       "      <td>0.641916</td>\n",
       "      <td>0.411422</td>\n",
       "      <td>0.020800</td>\n",
       "    </tr>\n",
       "    <tr>\n",
       "      <th>inverse_quadratic_rbf</th>\n",
       "      <td>0.333763</td>\n",
       "      <td>0.472414</td>\n",
       "      <td>0.030182</td>\n",
       "    </tr>\n",
       "    <tr>\n",
       "      <th>inverse_multiquadric_rbf</th>\n",
       "      <td>0.350160</td>\n",
       "      <td>0.582708</td>\n",
       "      <td>0.023650</td>\n",
       "    </tr>\n",
       "    <tr>\n",
       "      <th>exponential_rbf</th>\n",
       "      <td>0.151511</td>\n",
       "      <td>0.363626</td>\n",
       "      <td>0.042522</td>\n",
       "    </tr>\n",
       "    <tr>\n",
       "      <th>matern32_rbf</th>\n",
       "      <td>0.374623</td>\n",
       "      <td>0.356777</td>\n",
       "      <td>0.032786</td>\n",
       "    </tr>\n",
       "    <tr>\n",
       "      <th>matern52_rbf</th>\n",
       "      <td>0.334237</td>\n",
       "      <td>0.369322</td>\n",
       "      <td>0.031683</td>\n",
       "    </tr>\n",
       "  </tbody>\n",
       "</table>\n",
       "</div>"
      ],
      "text/plain": [
       "                          hypervolume  epsilon_indicator  \\\n",
       "original_rbf                 0.716880           0.349520   \n",
       "squared_exponential_rbf      0.641916           0.411422   \n",
       "inverse_quadratic_rbf        0.333763           0.472414   \n",
       "inverse_multiquadric_rbf     0.350160           0.582708   \n",
       "exponential_rbf              0.151511           0.363626   \n",
       "matern32_rbf                 0.374623           0.356777   \n",
       "matern52_rbf                 0.334237           0.369322   \n",
       "\n",
       "                          generational_distance  \n",
       "original_rbf                           0.022556  \n",
       "squared_exponential_rbf                0.020800  \n",
       "inverse_quadratic_rbf                  0.030182  \n",
       "inverse_multiquadric_rbf               0.023650  \n",
       "exponential_rbf                        0.042522  \n",
       "matern32_rbf                           0.032786  \n",
       "matern52_rbf                           0.031683  "
      ]
     },
     "execution_count": 4,
     "metadata": {},
     "output_type": "execute_result"
    }
   ],
   "source": [
    "scores = pd.DataFrame.from_dict(averages).T\n",
    "scores"
   ]
  },
  {
   "cell_type": "code",
   "execution_count": 5,
   "id": "5291b39a-aa44-41e8-a733-82a464f5a218",
   "metadata": {},
   "outputs": [
    {
     "data": {
      "text/plain": [
       "{'original_rbf': 2675,\n",
       " 'squared_exponential_rbf': 2142,\n",
       " 'inverse_quadratic_rbf': 1684,\n",
       " 'inverse_multiquadric_rbf': 1636,\n",
       " 'exponential_rbf': 1585,\n",
       " 'matern32_rbf': 2268,\n",
       " 'matern52_rbf': 1774}"
      ]
     },
     "execution_count": 5,
     "metadata": {},
     "output_type": "execute_result"
    }
   ],
   "source": [
    "import os\n",
    "\n",
    "paretosets = {}\n",
    "size = {}\n",
    "for entry in rbfs:\n",
    "    name = entry.__name__\n",
    "    # load variables\n",
    "    varlist = []\n",
    "    variables = []\n",
    "\n",
    "    output_dir = os.path.abspath(\"./refsets/\")\n",
    "    for filename in os.listdir(output_dir):\n",
    "        if filename == f\"{name}_refset.csv\":\n",
    "            varlist.append(filename[:-4])\n",
    "            df_vars = pd.read_csv(os.path.join(output_dir, filename))\n",
    "            paretosets[name] = df_vars\n",
    "            size[name] = len(df_vars)\n",
    "    variables = df_vars.values\n",
    "#     print(f\"Loaded: {', '.join(varlist)}\")\n",
    "\n",
    "size"
   ]
  },
  {
   "cell_type": "code",
   "execution_count": 6,
   "id": "8019f780-c073-49b7-a2c2-5e47727f7547",
   "metadata": {},
   "outputs": [],
   "source": [
    "scores[\"nr. of solutions\"] = pd.Series(size)"
   ]
  },
  {
   "cell_type": "code",
   "execution_count": 7,
   "id": "efc7ec76-6371-4bc0-b28c-6e75b69b5c11",
   "metadata": {},
   "outputs": [
    {
     "data": {
      "text/html": [
       "<div>\n",
       "<style scoped>\n",
       "    .dataframe tbody tr th:only-of-type {\n",
       "        vertical-align: middle;\n",
       "    }\n",
       "\n",
       "    .dataframe tbody tr th {\n",
       "        vertical-align: top;\n",
       "    }\n",
       "\n",
       "    .dataframe thead th {\n",
       "        text-align: right;\n",
       "    }\n",
       "</style>\n",
       "<table border=\"1\" class=\"dataframe\">\n",
       "  <thead>\n",
       "    <tr style=\"text-align: right;\">\n",
       "      <th></th>\n",
       "      <th>hypervolume</th>\n",
       "      <th>epsilon_indicator</th>\n",
       "      <th>generational_distance</th>\n",
       "      <th>nr. of solutions</th>\n",
       "    </tr>\n",
       "  </thead>\n",
       "  <tbody>\n",
       "    <tr>\n",
       "      <th>original_rbf</th>\n",
       "      <td>0.716880</td>\n",
       "      <td>0.349520</td>\n",
       "      <td>0.022556</td>\n",
       "      <td>2675</td>\n",
       "    </tr>\n",
       "    <tr>\n",
       "      <th>squared_exponential_rbf</th>\n",
       "      <td>0.641916</td>\n",
       "      <td>0.411422</td>\n",
       "      <td>0.020800</td>\n",
       "      <td>2142</td>\n",
       "    </tr>\n",
       "    <tr>\n",
       "      <th>inverse_quadratic_rbf</th>\n",
       "      <td>0.333763</td>\n",
       "      <td>0.472414</td>\n",
       "      <td>0.030182</td>\n",
       "      <td>1684</td>\n",
       "    </tr>\n",
       "    <tr>\n",
       "      <th>inverse_multiquadric_rbf</th>\n",
       "      <td>0.350160</td>\n",
       "      <td>0.582708</td>\n",
       "      <td>0.023650</td>\n",
       "      <td>1636</td>\n",
       "    </tr>\n",
       "    <tr>\n",
       "      <th>exponential_rbf</th>\n",
       "      <td>0.151511</td>\n",
       "      <td>0.363626</td>\n",
       "      <td>0.042522</td>\n",
       "      <td>1585</td>\n",
       "    </tr>\n",
       "    <tr>\n",
       "      <th>matern32_rbf</th>\n",
       "      <td>0.374623</td>\n",
       "      <td>0.356777</td>\n",
       "      <td>0.032786</td>\n",
       "      <td>2268</td>\n",
       "    </tr>\n",
       "    <tr>\n",
       "      <th>matern52_rbf</th>\n",
       "      <td>0.334237</td>\n",
       "      <td>0.369322</td>\n",
       "      <td>0.031683</td>\n",
       "      <td>1774</td>\n",
       "    </tr>\n",
       "  </tbody>\n",
       "</table>\n",
       "</div>"
      ],
      "text/plain": [
       "                          hypervolume  epsilon_indicator  \\\n",
       "original_rbf                 0.716880           0.349520   \n",
       "squared_exponential_rbf      0.641916           0.411422   \n",
       "inverse_quadratic_rbf        0.333763           0.472414   \n",
       "inverse_multiquadric_rbf     0.350160           0.582708   \n",
       "exponential_rbf              0.151511           0.363626   \n",
       "matern32_rbf                 0.374623           0.356777   \n",
       "matern52_rbf                 0.334237           0.369322   \n",
       "\n",
       "                          generational_distance  nr. of solutions  \n",
       "original_rbf                           0.022556              2675  \n",
       "squared_exponential_rbf                0.020800              2142  \n",
       "inverse_quadratic_rbf                  0.030182              1684  \n",
       "inverse_multiquadric_rbf               0.023650              1636  \n",
       "exponential_rbf                        0.042522              1585  \n",
       "matern32_rbf                           0.032786              2268  \n",
       "matern52_rbf                           0.031683              1774  "
      ]
     },
     "execution_count": 7,
     "metadata": {},
     "output_type": "execute_result"
    }
   ],
   "source": [
    "scores"
   ]
  },
  {
   "cell_type": "markdown",
   "id": "4a9b3124-984a-44a7-a775-9c9293a39a78",
   "metadata": {},
   "source": [
    "# set contributions"
   ]
  },
  {
   "cell_type": "code",
   "execution_count": 8,
   "id": "199f2e7f-0074-4ced-afe2-ffe4f727a9f9",
   "metadata": {},
   "outputs": [],
   "source": [
    "df_global = pd.read_csv(f\"./refsets/global_refset.csv\")"
   ]
  },
  {
   "cell_type": "code",
   "execution_count": 9,
   "id": "c96714a8-8b6a-4848-bafa-ae2c46f0b99b",
   "metadata": {},
   "outputs": [
    {
     "ename": "NameError",
     "evalue": "name 'data' is not defined",
     "output_type": "error",
     "traceback": [
      "\u001b[0;31m---------------------------------------------------------------------------\u001b[0m",
      "\u001b[0;31mNameError\u001b[0m                                 Traceback (most recent call last)",
      "Cell \u001b[0;32mIn[9], line 11\u001b[0m\n\u001b[1;32m      9\u001b[0m             x \u001b[38;5;241m+\u001b[39m\u001b[38;5;241m=\u001b[39m \u001b[38;5;241m1\u001b[39m\n\u001b[1;32m     10\u001b[0m     contribution[rbf] \u001b[38;5;241m=\u001b[39m \u001b[38;5;28mround\u001b[39m(x \u001b[38;5;241m/\u001b[39m \u001b[38;5;28mlen\u001b[39m(df_global), \u001b[38;5;241m3\u001b[39m)\n\u001b[0;32m---> 11\u001b[0m     rbfd[rbf] \u001b[38;5;241m=\u001b[39m pd\u001b[38;5;241m.\u001b[39mDataFrame(templ, columns\u001b[38;5;241m=\u001b[39mdata\u001b[38;5;241m.\u001b[39mcolumns) \u001b[38;5;66;03m#error in this line. Not sure the goal of this bit. \u001b[39;00m\n\u001b[1;32m     12\u001b[0m     templ \u001b[38;5;241m=\u001b[39m []\n\u001b[1;32m     13\u001b[0m contribution\n",
      "\u001b[0;31mNameError\u001b[0m: name 'data' is not defined"
     ]
    }
   ],
   "source": [
    "l_global = df_global.values.tolist()\n",
    "contribution = {}\n",
    "templ = []\n",
    "for rbf in paretosets:\n",
    "    x = 0\n",
    "    for solution in paretosets[rbf].values.tolist():\n",
    "        if solution in l_global:\n",
    "            templ.append(solution)\n",
    "            x += 1\n",
    "    contribution[rbf] = round(x / len(df_global), 3)\n",
    "    rbfd[rbf] = pd.DataFrame(templ, columns=data.columns) #error in this line. Not sure the goal of this bit. \n",
    "    templ = []\n",
    "contribution"
   ]
  },
  {
   "cell_type": "code",
   "execution_count": null,
   "id": "24d9fb9a-26b3-460c-a3d9-28e41c1a30e0",
   "metadata": {},
   "outputs": [],
   "source": [
    "scores[\"set contribution\"] = pd.Series(contribution)"
   ]
  },
  {
   "cell_type": "code",
   "execution_count": null,
   "id": "e931cdb1-2cae-40ea-9e3e-380b49258a67",
   "metadata": {},
   "outputs": [],
   "source": [
    "scores"
   ]
  },
  {
   "cell_type": "code",
   "execution_count": null,
   "id": "1c631a6c-6811-48a2-9e01-5064dd4ccc9c",
   "metadata": {},
   "outputs": [],
   "source": [
    "scores.to_latex()"
   ]
  },
  {
   "cell_type": "code",
   "execution_count": null,
   "id": "4e33ef95-e5e0-4235-a15e-d4e9429f5294",
   "metadata": {},
   "outputs": [],
   "source": [
    "scores.cols"
   ]
  },
  {
   "cell_type": "code",
   "execution_count": null,
   "id": "698d0a80-18e8-46be-9689-e2fff86bc7d2",
   "metadata": {},
   "outputs": [],
   "source": [
    "scores[\n",
    "    [\n",
    "        \"nr. of solutions\",\n",
    "        \"generational_distance\",\n",
    "        \"epsilon_indicator\",\n",
    "        \"hypervolume\",\n",
    "        \"set contribution\",\n",
    "    ]\n",
    "].to_latex()"
   ]
  },
  {
   "cell_type": "code",
   "execution_count": null,
   "id": "dac6b023-f6d5-484d-b358-0b3dee594f09",
   "metadata": {},
   "outputs": [],
   "source": []
  }
 ],
 "metadata": {
  "kernelspec": {
   "display_name": "Python 3 (ipykernel)",
   "language": "python",
   "name": "python3"
  },
  "language_info": {
   "codemirror_mode": {
    "name": "ipython",
    "version": 3
   },
   "file_extension": ".py",
   "mimetype": "text/x-python",
   "name": "python",
   "nbconvert_exporter": "python",
   "pygments_lexer": "ipython3",
   "version": "3.11.5"
  }
 },
 "nbformat": 4,
 "nbformat_minor": 5
}
