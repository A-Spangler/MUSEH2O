{
 "cells": [
  {
   "cell_type": "code",
   "execution_count": 1,
   "id": "5b2dec8d",
   "metadata": {},
   "outputs": [
    {
     "name": "stderr",
     "output_type": "stream",
     "text": [
      "/Users/aas6791/anaconda3/lib/python3.11/site-packages/ema_workbench/em_framework/__init__.py:101: UserWarning: ipyparallel not installed - IpyparalleEvaluator not available\n",
      "  warnings.warn(\"ipyparallel not installed - IpyparalleEvaluator not available\")\n"
     ]
    }
   ],
   "source": [
    "import warnings\n",
    "\n",
    "warnings.simplefilter(action=\"ignore\", category=FutureWarning)\n",
    "import sys\n",
    "import matplotlib.pyplot as plt\n",
    "import numpy as np\n",
    "import pandas as pd\n",
    "import seaborn as sns\n",
    "#import ipyparallel\n",
    "from ema_workbench.analysis import feature_scoring\n",
    "import os\n",
    "\n",
    "sys.path.append(\"..\")\n",
    "import rbf_functions"
   ]
  },
  {
   "cell_type": "code",
   "execution_count": 2,
   "id": "f5874843",
   "metadata": {},
   "outputs": [],
   "source": [
    "rbfs = [\n",
    "    rbf_functions.original_rbf,\n",
    "    rbf_functions.squared_exponential_rbf,\n",
    "    rbf_functions.inverse_quadratic_rbf,\n",
    "    rbf_functions.inverse_multiquadric_rbf,\n",
    "    rbf_functions.exponential_rbf,\n",
    "    rbf_functions.matern32_rbf,\n",
    "    rbf_functions.matern52_rbf,\n",
    "]"
   ]
  },
  {
   "cell_type": "code",
   "execution_count": 3,
   "id": "63f8f227",
   "metadata": {},
   "outputs": [
    {
     "ename": "ValueError",
     "evalue": "Length mismatch: Expected axis has 38 elements, new values have 32 elements",
     "output_type": "error",
     "traceback": [
      "\u001b[0;31m---------------------------------------------------------------------------\u001b[0m",
      "\u001b[0;31mValueError\u001b[0m                                Traceback (most recent call last)",
      "Cell \u001b[0;32mIn[3], line 47\u001b[0m\n\u001b[1;32m     12\u001b[0m             df_vars \u001b[38;5;241m=\u001b[39m pd\u001b[38;5;241m.\u001b[39mread_csv(\u001b[38;5;124mf\u001b[39m\u001b[38;5;124m\"\u001b[39m\u001b[38;5;132;01m{\u001b[39;00moutput_dir\u001b[38;5;132;01m}\u001b[39;00m\u001b[38;5;124m/\u001b[39m\u001b[38;5;132;01m{\u001b[39;00mfilename\u001b[38;5;132;01m}\u001b[39;00m\u001b[38;5;124m\"\u001b[39m, header\u001b[38;5;241m=\u001b[39m\u001b[38;5;28;01mNone\u001b[39;00m)\n\u001b[1;32m     13\u001b[0m             columnname \u001b[38;5;241m=\u001b[39m [\n\u001b[1;32m     14\u001b[0m                 \u001b[38;5;124m\"\u001b[39m\u001b[38;5;124mc1\u001b[39m\u001b[38;5;124m\"\u001b[39m,\n\u001b[1;32m     15\u001b[0m                 \u001b[38;5;124m\"\u001b[39m\u001b[38;5;124mr1\u001b[39m\u001b[38;5;124m\"\u001b[39m,\n\u001b[0;32m   (...)\u001b[0m\n\u001b[1;32m     45\u001b[0m                 \u001b[38;5;124m\"\u001b[39m\u001b[38;5;124mw16\u001b[39m\u001b[38;5;124m\"\u001b[39m,\n\u001b[1;32m     46\u001b[0m             ]\n\u001b[0;32m---> 47\u001b[0m             df_vars\u001b[38;5;241m.\u001b[39mcolumns \u001b[38;5;241m=\u001b[39m columnname\n\u001b[1;32m     48\u001b[0m             varset[name] \u001b[38;5;241m=\u001b[39m df_vars\n\u001b[1;32m     49\u001b[0m varset\u001b[38;5;241m.\u001b[39mkeys()\n",
      "File \u001b[0;32m~/anaconda3/lib/python3.11/site-packages/pandas/core/generic.py:6002\u001b[0m, in \u001b[0;36mNDFrame.__setattr__\u001b[0;34m(self, name, value)\u001b[0m\n\u001b[1;32m   6000\u001b[0m \u001b[38;5;28;01mtry\u001b[39;00m:\n\u001b[1;32m   6001\u001b[0m     \u001b[38;5;28mobject\u001b[39m\u001b[38;5;241m.\u001b[39m\u001b[38;5;21m__getattribute__\u001b[39m(\u001b[38;5;28mself\u001b[39m, name)\n\u001b[0;32m-> 6002\u001b[0m     \u001b[38;5;28;01mreturn\u001b[39;00m \u001b[38;5;28mobject\u001b[39m\u001b[38;5;241m.\u001b[39m\u001b[38;5;21m__setattr__\u001b[39m(\u001b[38;5;28mself\u001b[39m, name, value)\n\u001b[1;32m   6003\u001b[0m \u001b[38;5;28;01mexcept\u001b[39;00m \u001b[38;5;167;01mAttributeError\u001b[39;00m:\n\u001b[1;32m   6004\u001b[0m     \u001b[38;5;28;01mpass\u001b[39;00m\n",
      "File \u001b[0;32m~/anaconda3/lib/python3.11/site-packages/pandas/_libs/properties.pyx:69\u001b[0m, in \u001b[0;36mpandas._libs.properties.AxisProperty.__set__\u001b[0;34m()\u001b[0m\n",
      "File \u001b[0;32m~/anaconda3/lib/python3.11/site-packages/pandas/core/generic.py:730\u001b[0m, in \u001b[0;36mNDFrame._set_axis\u001b[0;34m(self, axis, labels)\u001b[0m\n\u001b[1;32m    725\u001b[0m \u001b[38;5;250m\u001b[39m\u001b[38;5;124;03m\"\"\"\u001b[39;00m\n\u001b[1;32m    726\u001b[0m \u001b[38;5;124;03mThis is called from the cython code when we set the `index` attribute\u001b[39;00m\n\u001b[1;32m    727\u001b[0m \u001b[38;5;124;03mdirectly, e.g. `series.index = [1, 2, 3]`.\u001b[39;00m\n\u001b[1;32m    728\u001b[0m \u001b[38;5;124;03m\"\"\"\u001b[39;00m\n\u001b[1;32m    729\u001b[0m labels \u001b[38;5;241m=\u001b[39m ensure_index(labels)\n\u001b[0;32m--> 730\u001b[0m \u001b[38;5;28mself\u001b[39m\u001b[38;5;241m.\u001b[39m_mgr\u001b[38;5;241m.\u001b[39mset_axis(axis, labels)\n\u001b[1;32m    731\u001b[0m \u001b[38;5;28mself\u001b[39m\u001b[38;5;241m.\u001b[39m_clear_item_cache()\n",
      "File \u001b[0;32m~/anaconda3/lib/python3.11/site-packages/pandas/core/internals/managers.py:225\u001b[0m, in \u001b[0;36mBaseBlockManager.set_axis\u001b[0;34m(self, axis, new_labels)\u001b[0m\n\u001b[1;32m    223\u001b[0m \u001b[38;5;28;01mdef\u001b[39;00m \u001b[38;5;21mset_axis\u001b[39m(\u001b[38;5;28mself\u001b[39m, axis: AxisInt, new_labels: Index) \u001b[38;5;241m-\u001b[39m\u001b[38;5;241m>\u001b[39m \u001b[38;5;28;01mNone\u001b[39;00m:\n\u001b[1;32m    224\u001b[0m     \u001b[38;5;66;03m# Caller is responsible for ensuring we have an Index object.\u001b[39;00m\n\u001b[0;32m--> 225\u001b[0m     \u001b[38;5;28mself\u001b[39m\u001b[38;5;241m.\u001b[39m_validate_set_axis(axis, new_labels)\n\u001b[1;32m    226\u001b[0m     \u001b[38;5;28mself\u001b[39m\u001b[38;5;241m.\u001b[39maxes[axis] \u001b[38;5;241m=\u001b[39m new_labels\n",
      "File \u001b[0;32m~/anaconda3/lib/python3.11/site-packages/pandas/core/internals/base.py:70\u001b[0m, in \u001b[0;36mDataManager._validate_set_axis\u001b[0;34m(self, axis, new_labels)\u001b[0m\n\u001b[1;32m     67\u001b[0m     \u001b[38;5;28;01mpass\u001b[39;00m\n\u001b[1;32m     69\u001b[0m \u001b[38;5;28;01melif\u001b[39;00m new_len \u001b[38;5;241m!=\u001b[39m old_len:\n\u001b[0;32m---> 70\u001b[0m     \u001b[38;5;28;01mraise\u001b[39;00m \u001b[38;5;167;01mValueError\u001b[39;00m(\n\u001b[1;32m     71\u001b[0m         \u001b[38;5;124mf\u001b[39m\u001b[38;5;124m\"\u001b[39m\u001b[38;5;124mLength mismatch: Expected axis has \u001b[39m\u001b[38;5;132;01m{\u001b[39;00mold_len\u001b[38;5;132;01m}\u001b[39;00m\u001b[38;5;124m elements, new \u001b[39m\u001b[38;5;124m\"\u001b[39m\n\u001b[1;32m     72\u001b[0m         \u001b[38;5;124mf\u001b[39m\u001b[38;5;124m\"\u001b[39m\u001b[38;5;124mvalues have \u001b[39m\u001b[38;5;132;01m{\u001b[39;00mnew_len\u001b[38;5;132;01m}\u001b[39;00m\u001b[38;5;124m elements\u001b[39m\u001b[38;5;124m\"\u001b[39m\n\u001b[1;32m     73\u001b[0m     )\n",
      "\u001b[0;31mValueError\u001b[0m: Length mismatch: Expected axis has 38 elements, new values have 32 elements"
     ]
    }
   ],
   "source": [
    "refset = {}\n",
    "varset = {}\n",
    "for entry in rbfs:\n",
    "    name = entry.__name__\n",
    "    # load variables\n",
    "    output_dir = os.path.abspath(\"../notebooks/refsets/\")\n",
    "    for filename in os.listdir(output_dir):\n",
    "        if filename == f\"{name}_refset.csv\":\n",
    "            df_refs = pd.read_csv(f\"{output_dir}/{filename}\")\n",
    "            refset[name] = df_refs\n",
    "        elif filename == f\"{name}_refset_variables.csv\":\n",
    "        #elif filename == f\"{name}_refset_with_variables.csv\":\n",
    "            df_vars = pd.read_csv(f\"{output_dir}/{filename}\", header=None)\n",
    "            columnname = [\n",
    "                \"c1\",\n",
    "                \"r1\",\n",
    "                \"c2\",\n",
    "                \"r2\",\n",
    "                \"c3\",\n",
    "                \"r3\",\n",
    "                \"c4\",\n",
    "                \"r4\",\n",
    "                \"c5\",\n",
    "                \"r5\",\n",
    "                \"c6\",\n",
    "                \"r6\",\n",
    "                \"c7\",\n",
    "                \"r7\",\n",
    "                \"c8\",\n",
    "                \"r8\",\n",
    "                \"w01\",\n",
    "                \"w02\",\n",
    "                \"w03\",\n",
    "                \"w04\",\n",
    "                \"w05\",\n",
    "                \"w06\",\n",
    "                \"w07\",\n",
    "                \"w08\",\n",
    "                \"w09\",\n",
    "                \"w10\",\n",
    "                \"w11\",\n",
    "                \"w12\",\n",
    "                \"w13\",\n",
    "                \"w14\",\n",
    "                \"w15\",\n",
    "                \"w16\",\n",
    "            ]\n",
    "            df_vars.columns = columnname\n",
    "            varset[name] = df_vars\n",
    "varset.keys()"
   ]
  },
  {
   "cell_type": "code",
   "execution_count": null,
   "id": "db0d06f7",
   "metadata": {},
   "outputs": [],
   "source": [
    "refset[\"original_rbf\"].head()"
   ]
  },
  {
   "cell_type": "code",
   "execution_count": null,
   "id": "e390eb1e",
   "metadata": {},
   "outputs": [],
   "source": [
    "varset[\"original_rbf\"].head()"
   ]
  },
  {
   "cell_type": "code",
   "execution_count": null,
   "id": "e46a36f2",
   "metadata": {},
   "outputs": [],
   "source": [
    "#### sns.set(rc={'figure.figsize':(11.7, 8.27)})\n",
    "\n",
    "for i in refset:\n",
    "    #     print(i)\n",
    "    x = varset[i]\n",
    "    y = {k: np.asarray(v) for k, v in refset[i].to_dict(\"list\").items()}\n",
    "\n",
    "    scores = feature_scoring.get_feature_scores_all(x, y, alg=\"extra trees\")\n",
    "    g = sns.heatmap(scores, annot=True, cmap=\"viridis\")\n",
    "    #     plt.show()\n",
    "    plt.tight_layout()\n",
    "    #     plt.savefig(f\"feature_score/{i}_fsc\")\n",
    "    #     plt.close()\n",
    "    plt.show()"
   ]
  }
 ],
 "metadata": {
  "kernelspec": {
   "display_name": "Python 3 (ipykernel)",
   "language": "python",
   "name": "python3"
  },
  "language_info": {
   "codemirror_mode": {
    "name": "ipython",
    "version": 3
   },
   "file_extension": ".py",
   "mimetype": "text/x-python",
   "name": "python",
   "nbconvert_exporter": "python",
   "pygments_lexer": "ipython3",
   "version": "3.11.5"
  }
 },
 "nbformat": 4,
 "nbformat_minor": 5
}
