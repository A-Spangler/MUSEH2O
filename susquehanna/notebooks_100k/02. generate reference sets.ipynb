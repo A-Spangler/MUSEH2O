{
 "cells": [
  {
   "cell_type": "code",
   "execution_count": 1,
   "id": "98b0f205",
   "metadata": {},
   "outputs": [],
   "source": [
    "import pandas as pd\n",
    "import pareto\n",
    "import os\n",
    "import sys\n",
    "from itertools import chain\n",
    "from matplotlib import pyplot as plt\n",
    "sys.path.append('..')"
   ]
  },
  {
   "cell_type": "code",
   "execution_count": 2,
   "id": "01a67eaf",
   "metadata": {},
   "outputs": [],
   "source": [
    "import rbf_functions"
   ]
  },
  {
   "cell_type": "markdown",
   "id": "1f3426ef",
   "metadata": {},
   "source": [
    "# Load solutions for each RBF for all seeds:"
   ]
  },
  {
   "cell_type": "code",
   "execution_count": 3,
   "id": "12d7ddf4",
   "metadata": {},
   "outputs": [
    {
     "name": "stdout",
     "output_type": "stream",
     "text": [
      "Amount of solutions for each RBF:\n",
      "squared_exponential_rbf 8227\n",
      "original_rbf 9273\n",
      "inverse_quadratic_rbf 5385\n",
      "inverse_multiquadric_rbf 6296\n",
      "exponential_rbf 4056\n",
      "matern32_rbf 6266\n",
      "matern52_rbf 4482\n"
     ]
    }
   ],
   "source": [
    "rbfs = [rbf_functions.squared_exponential_rbf,\n",
    "        rbf_functions.original_rbf,\n",
    "        rbf_functions.inverse_quadratic_rbf,\n",
    "        rbf_functions.inverse_multiquadric_rbf,\n",
    "        rbf_functions.exponential_rbf,\n",
    "        rbf_functions.matern32_rbf,\n",
    "        rbf_functions.matern52_rbf,\n",
    "       ]\n",
    "\n",
    "pareto_sets = {}\n",
    "for entry in rbfs:\n",
    "    sollist = []\n",
    "    solutions = []\n",
    "    name = entry.__name__\n",
    "    output_dir = f\"../output/{name}/\"\n",
    "    for filename in os.listdir(output_dir):\n",
    "        if filename.endswith('solution.csv'):\n",
    "            sollist.append(filename[:-4])\n",
    "            df_temp = pd.read_csv(f\"{output_dir}{filename}\", header=0)\n",
    "            solutions.append(df_temp.values.tolist())\n",
    "    pareto_sets[name] = list(chain.from_iterable(solutions))\n",
    "\n",
    "pareto_sets.keys()\n",
    "print(\"Amount of solutions for each RBF:\")\n",
    "for rbf in pareto_sets:\n",
    "    print(rbf, len(pareto_sets[rbf]))\n",
    "# print(f\"Loaded into list 'solutions': {', '.join(sollist)}\")"
   ]
  },
  {
   "cell_type": "markdown",
   "id": "7a4466ec",
   "metadata": {},
   "source": [
    "# Create reference set for each RBF, and save:"
   ]
  },
  {
   "cell_type": "code",
   "execution_count": 4,
   "id": "7587856e",
   "metadata": {},
   "outputs": [
    {
     "name": "stdout",
     "output_type": "stream",
     "text": [
      "squared_exponential_rbf 8227\n",
      "squared_exponential_rbf 1357\n",
      "original_rbf 9273\n",
      "original_rbf 1514\n",
      "inverse_quadratic_rbf 5385\n",
      "inverse_quadratic_rbf 1266\n",
      "inverse_multiquadric_rbf 6296\n",
      "inverse_multiquadric_rbf 1157\n",
      "exponential_rbf 4056\n",
      "exponential_rbf 946\n",
      "matern32_rbf 6266\n",
      "matern32_rbf 1294\n",
      "matern52_rbf 4482\n",
      "matern52_rbf 857\n"
     ]
    }
   ],
   "source": [
    "reference_sets = {}\n",
    "for rbf in pareto_sets:\n",
    "    print(rbf, len(pareto_sets[rbf]))\n",
    "    nondominated = pareto.eps_sort([pareto_sets[rbf]], [0,1,2,3,4,5], [0.5, 0.05, 0.05, 0.05, 0.001, 0.05], maximize=[0,1,2,3,5])\n",
    "    reference_sets[rbf] = nondominated\n",
    "    df_nondom = pd.DataFrame(nondominated, columns=['hydropower', 'atomicpowerplant', 'baltimore', 'chester', 'environment', 'recreation'])\n",
    "    print(rbf, len(df_nondom))\n",
    "    df_nondom.to_csv(f\"../notebooks/refsets/{rbf}_refset.csv\", index=False, header=True)"
   ]
  },
  {
   "cell_type": "markdown",
   "id": "48863f26",
   "metadata": {},
   "source": [
    "# Find decision variables that belong to the generated refset:"
   ]
  },
  {
   "cell_type": "code",
   "execution_count": 35,
   "id": "944d04cb",
   "metadata": {},
   "outputs": [],
   "source": [
    "d_refvar = {}\n",
    "d_refsol = {}\n",
    "for entry in rbfs:\n",
    "    name = entry.__name__\n",
    "    df_sol = pd.DataFrame(columns=['hydropower', 'atomicpowerplant', 'baltimore', 'chester', 'environment',\n",
    "           'recreation'])\n",
    "    df_var = pd.DataFrame(columns=[ 0,  1,  2,  3,  4,  5,  6,  7,  8,  9, 10, 11, 12, 13, 14, 15, 16,\n",
    "                 17, 18, 19, 20, 21, 22, 23, 24, 25, 26, 27, 28, 29, 30, 31])\n",
    "    output_dir = f\"../output/{name}\"\n",
    "    for filename in os.listdir(output_dir):\n",
    "        #load \n",
    "        if filename.endswith('solution.csv'):\n",
    "            df_ts = pd.read_csv(f\"{output_dir}/{filename}\", header=0)\n",
    "            df_sol = df_sol.append(df_ts, ignore_index=True)\n",
    "        elif filename.endswith('variables.csv'):\n",
    "            df_tv = pd.read_csv(f\"{output_dir}/{filename}\", header=None)\n",
    "            df_var = df_var.append(df_tv, ignore_index=True)\n",
    "    sol = df_sol.values.tolist()\n",
    "    var = df_var.values.tolist()\n",
    "    ref = reference_sets[name]\n",
    "    refvar = []\n",
    "    refsol = []\n",
    "    for idx, value in enumerate(sol):\n",
    "        if value in ref:\n",
    "            refvar.append(var[idx])\n",
    "            refsol.append(sol[idx])\n",
    "    d_refsol[name] = pd.DataFrame(refsol, columns=['hydropower', 'atomicpowerplant', 'baltimore', 'chester', 'environment',\n",
    "           'recreation'])\n",
    "    d_refvar[name] = pd.DataFrame(refvar)\n",
    "    d_refsol[name].to_csv(f\"../notebooks/refsets/{name}_refset.csv\", index=False, header=True)\n",
    "    d_refvar[name].to_csv(f\"../notebooks/refsets/{name}_refset_variables.csv\", index=False, header=False)"
   ]
  },
  {
   "cell_type": "code",
   "execution_count": 37,
   "id": "7ca777fb",
   "metadata": {},
   "outputs": [
    {
     "name": "stdout",
     "output_type": "stream",
     "text": [
      "squared_exponential_rbf\n",
      "refset: 1357\n",
      "varset: 1357\n",
      "original_rbf\n",
      "refset: 1514\n",
      "varset: 1514\n",
      "inverse_quadratic_rbf\n",
      "refset: 1266\n",
      "varset: 1266\n",
      "inverse_multiquadric_rbf\n",
      "refset: 1157\n",
      "varset: 1157\n",
      "exponential_rbf\n",
      "refset: 946\n",
      "varset: 946\n",
      "matern32_rbf\n",
      "refset: 1294\n",
      "varset: 1294\n",
      "matern52_rbf\n",
      "refset: 857\n",
      "varset: 857\n"
     ]
    }
   ],
   "source": [
    "for entry in rbfs:\n",
    "    name = entry.__name__\n",
    "    print(name)\n",
    "    print(f\"refset: {len(d_refsol[name])}\")\n",
    "    print(f\"varset: {len(d_refvar[name])}\")"
   ]
  },
  {
   "cell_type": "markdown",
   "id": "a3c75064",
   "metadata": {},
   "source": [
    "# Generate global reference set for all RBFs:"
   ]
  },
  {
   "cell_type": "code",
   "execution_count": 22,
   "id": "6219285b",
   "metadata": {},
   "outputs": [
    {
     "name": "stdout",
     "output_type": "stream",
     "text": [
      "squared_exponential_rbf 8227\n",
      "original_rbf 9273\n",
      "inverse_quadratic_rbf 5385\n",
      "inverse_multiquadric_rbf 6296\n",
      "exponential_rbf 4056\n",
      "matern32_rbf 6266\n",
      "matern52_rbf 4482\n",
      "total: 43985\n"
     ]
    },
    {
     "data": {
      "text/plain": [
       "43985"
      ]
     },
     "execution_count": 22,
     "metadata": {},
     "output_type": "execute_result"
    }
   ],
   "source": [
    "x = 0\n",
    "for rbf in pareto_sets:\n",
    "    x += len(pareto_sets[rbf])\n",
    "    print(rbf, len(pareto_sets[rbf]))\n",
    "print(\"total:\", x)\n",
    "    \n",
    "pareto_set = {}\n",
    "sollist = []\n",
    "solutions = []\n",
    "for entry in rbfs:\n",
    "    name = entry.__name__\n",
    "    output_dir = f\"../output/{name}/\"\n",
    "    for filename in os.listdir(output_dir):\n",
    "        if filename.endswith('solution.csv'):\n",
    "            sollist.append(filename[:-4])\n",
    "            df_temp = pd.read_csv(f\"{output_dir}{filename}\", header=0)\n",
    "            solutions.append(df_temp.values.tolist())\n",
    "pareto_set = list(chain.from_iterable(solutions))\n",
    "len(pareto_set)"
   ]
  },
  {
   "cell_type": "code",
   "execution_count": 25,
   "id": "d098d957",
   "metadata": {},
   "outputs": [
    {
     "name": "stdout",
     "output_type": "stream",
     "text": [
      "43985\n",
      "1726\n"
     ]
    }
   ],
   "source": [
    "print(len(pareto_set))\n",
    "nondominated = pareto.eps_sort([pareto_set], [0,1,2,3,4,5], [0.5, 0.05, 0.05, 0.05, 0.001, 0.05], maximize=[0,1,2,3,5])\n",
    "df_nondom = pd.DataFrame(nondominated, columns=['hydropower', 'atomicpowerplant', 'baltimore', 'chester', 'environment', 'recreation'])\n",
    "print(len(nondominated))\n",
    "df_nondom.to_csv(f\"../notebooks/nboutput/all_rbf_refset.csv\", index=False, header=True)"
   ]
  }
 ],
 "metadata": {
  "kernelspec": {
   "display_name": "Python 3 (ipykernel)",
   "language": "python",
   "name": "python3"
  },
  "language_info": {
   "codemirror_mode": {
    "name": "ipython",
    "version": 3
   },
   "file_extension": ".py",
   "mimetype": "text/x-python",
   "name": "python",
   "nbconvert_exporter": "python",
   "pygments_lexer": "ipython3",
   "version": "3.9.12"
  }
 },
 "nbformat": 4,
 "nbformat_minor": 5
}
