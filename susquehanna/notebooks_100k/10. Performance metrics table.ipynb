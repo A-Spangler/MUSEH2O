{
 "cells": [
  {
   "cell_type": "code",
   "execution_count": 2,
   "id": "8289a039",
   "metadata": {},
   "outputs": [],
   "source": [
    "import sys\n",
    "import pandas as pd\n",
    "\n",
    "sys.path.append(\"..\")\n",
    "import os\n",
    "import rbf_functions"
   ]
  },
  {
   "cell_type": "code",
   "execution_count": 3,
   "id": "27081916",
   "metadata": {},
   "outputs": [],
   "source": [
    "rbfs = [\n",
    "    rbf_functions.original_rbf,\n",
    "    rbf_functions.squared_exponential_rbf,\n",
    "    rbf_functions.inverse_quadratic_rbf,\n",
    "    rbf_functions.inverse_multiquadric_rbf,\n",
    "    rbf_functions.exponential_rbf,\n",
    "    rbf_functions.matern32_rbf,\n",
    "    rbf_functions.matern52_rbf,\n",
    "]"
   ]
  },
  {
   "cell_type": "markdown",
   "id": "9f4b6c79",
   "metadata": {},
   "source": [
    "# Load data"
   ]
  },
  {
   "cell_type": "code",
   "execution_count": 6,
   "id": "500f3c5a",
   "metadata": {},
   "outputs": [],
   "source": [
    "gddata = {}\n",
    "eidata = {}\n",
    "hvdata = {}\n",
    "varlist = [\"10\", \"20\", \"30\", \"40\", \"50\", \"60\", \"70\", \"80\", \"90\", \"100\"]\n",
    "for entry in rbfs:\n",
    "    rbf = entry.__name__\n",
    "    df_gd = pd.read_csv(f\"gd_all/{rbf}_gd_all.csv\")\n",
    "    df_ei = pd.read_csv(f\"ei_all/{rbf}_ei_all.csv\")\n",
    "    df_hv = pd.read_csv(f\"hv_allref/{rbf}_all_ref_hv.csv\")\n",
    "    varlist = [\"10\", \"20\", \"30\", \"40\", \"50\", \"60\", \"70\", \"80\", \"90\", \"100\"]\n",
    "    gddata[rbf] = {}\n",
    "    eidata[rbf] = {}\n",
    "    hvdata[rbf] = {}\n",
    "    for i in varlist:  # add metric value at 100.000 nfe to dict for each seed\n",
    "        gddata[rbf][i] = df_gd[i].dropna().iloc[-1]\n",
    "        eidata[rbf][i] = df_ei[i].dropna().iloc[-1]\n",
    "        hvdata[rbf][i] = df_hv[i].dropna().iloc[-1]\n",
    "df_gd_m = pd.DataFrame.from_dict(gddata, orient=\"index\")\n",
    "df_ei_m = pd.DataFrame.from_dict(eidata, orient=\"index\")\n",
    "df_hv_m = pd.DataFrame.from_dict(hvdata, orient=\"index\")"
   ]
  },
  {
   "cell_type": "code",
   "execution_count": 12,
   "id": "09501719",
   "metadata": {},
   "outputs": [
    {
     "data": {
      "text/plain": [
       "{'original_rbf': 1514,\n",
       " 'squared_exponential_rbf': 1357,\n",
       " 'inverse_quadratic_rbf': 1266,\n",
       " 'inverse_multiquadric_rbf': 1157,\n",
       " 'exponential_rbf': 946,\n",
       " 'matern32_rbf': 1294,\n",
       " 'matern52_rbf': 857}"
      ]
     },
     "execution_count": 12,
     "metadata": {},
     "output_type": "execute_result"
    }
   ],
   "source": [
    "paretosets = {}\n",
    "for entry in rbfs:\n",
    "    name = entry.__name__\n",
    "    # load variables\n",
    "    varlist = []\n",
    "    variables = []\n",
    "\n",
    "    output_dir = os.path.abspath(\"../notebooks/refsets/\")\n",
    "    for filename in os.listdir(output_dir):\n",
    "        if filename == f\"{name}_refset.csv\":\n",
    "            varlist.append(filename[:-4])\n",
    "            df_vars = pd.read_csv(f\"{output_dir}\\{filename}\")\n",
    "            paretosets[name] = len(df_vars)\n",
    "    variables = df_vars.values\n",
    "#     print(f\"Loaded: {', '.join(varlist)}\")\n",
    "\n",
    "paretosets"
   ]
  },
  {
   "cell_type": "code",
   "execution_count": 14,
   "id": "f281eeda",
   "metadata": {},
   "outputs": [
    {
     "data": {
      "text/html": [
       "<div>\n",
       "<style scoped>\n",
       "    .dataframe tbody tr th:only-of-type {\n",
       "        vertical-align: middle;\n",
       "    }\n",
       "\n",
       "    .dataframe tbody tr th {\n",
       "        vertical-align: top;\n",
       "    }\n",
       "\n",
       "    .dataframe thead th {\n",
       "        text-align: right;\n",
       "    }\n",
       "</style>\n",
       "<table border=\"1\" class=\"dataframe\">\n",
       "  <thead>\n",
       "    <tr style=\"text-align: right;\">\n",
       "      <th></th>\n",
       "      <th>0</th>\n",
       "    </tr>\n",
       "  </thead>\n",
       "  <tbody>\n",
       "    <tr>\n",
       "      <th>original_rbf</th>\n",
       "      <td>1514</td>\n",
       "    </tr>\n",
       "    <tr>\n",
       "      <th>squared_exponential_rbf</th>\n",
       "      <td>1357</td>\n",
       "    </tr>\n",
       "    <tr>\n",
       "      <th>inverse_quadratic_rbf</th>\n",
       "      <td>1266</td>\n",
       "    </tr>\n",
       "    <tr>\n",
       "      <th>inverse_multiquadric_rbf</th>\n",
       "      <td>1157</td>\n",
       "    </tr>\n",
       "    <tr>\n",
       "      <th>exponential_rbf</th>\n",
       "      <td>946</td>\n",
       "    </tr>\n",
       "    <tr>\n",
       "      <th>matern32_rbf</th>\n",
       "      <td>1294</td>\n",
       "    </tr>\n",
       "    <tr>\n",
       "      <th>matern52_rbf</th>\n",
       "      <td>857</td>\n",
       "    </tr>\n",
       "  </tbody>\n",
       "</table>\n",
       "</div>"
      ],
      "text/plain": [
       "                             0\n",
       "original_rbf              1514\n",
       "squared_exponential_rbf   1357\n",
       "inverse_quadratic_rbf     1266\n",
       "inverse_multiquadric_rbf  1157\n",
       "exponential_rbf            946\n",
       "matern32_rbf              1294\n",
       "matern52_rbf               857"
      ]
     },
     "execution_count": 14,
     "metadata": {},
     "output_type": "execute_result"
    }
   ],
   "source": [
    "df_sol = pd.DataFrame.from_dict(paretosets, orient=\"index\")\n",
    "df_sol"
   ]
  },
  {
   "cell_type": "code",
   "execution_count": 78,
   "id": "8fcd55f0",
   "metadata": {},
   "outputs": [
    {
     "data": {
      "text/html": [
       "<div>\n",
       "<style scoped>\n",
       "    .dataframe tbody tr th:only-of-type {\n",
       "        vertical-align: middle;\n",
       "    }\n",
       "\n",
       "    .dataframe tbody tr th {\n",
       "        vertical-align: top;\n",
       "    }\n",
       "\n",
       "    .dataframe thead th {\n",
       "        text-align: right;\n",
       "    }\n",
       "</style>\n",
       "<table border=\"1\" class=\"dataframe\">\n",
       "  <thead>\n",
       "    <tr style=\"text-align: right;\">\n",
       "      <th></th>\n",
       "      <th>solutions</th>\n",
       "      <th>Generational Distance avg</th>\n",
       "      <th>Epsilon Indicator avg</th>\n",
       "      <th>Hypervolume avg</th>\n",
       "    </tr>\n",
       "  </thead>\n",
       "  <tbody>\n",
       "    <tr>\n",
       "      <th>original_rbf</th>\n",
       "      <td>1514</td>\n",
       "      <td>0.004864</td>\n",
       "      <td>0.308056</td>\n",
       "      <td>0.426105</td>\n",
       "    </tr>\n",
       "    <tr>\n",
       "      <th>squared_exponential_rbf</th>\n",
       "      <td>1357</td>\n",
       "      <td>0.006807</td>\n",
       "      <td>0.336470</td>\n",
       "      <td>0.378210</td>\n",
       "    </tr>\n",
       "    <tr>\n",
       "      <th>inverse_quadratic_rbf</th>\n",
       "      <td>1266</td>\n",
       "      <td>0.015453</td>\n",
       "      <td>0.425216</td>\n",
       "      <td>0.216025</td>\n",
       "    </tr>\n",
       "    <tr>\n",
       "      <th>inverse_multiquadric_rbf</th>\n",
       "      <td>1157</td>\n",
       "      <td>0.014110</td>\n",
       "      <td>0.522231</td>\n",
       "      <td>0.228578</td>\n",
       "    </tr>\n",
       "    <tr>\n",
       "      <th>exponential_rbf</th>\n",
       "      <td>946</td>\n",
       "      <td>0.019406</td>\n",
       "      <td>0.343168</td>\n",
       "      <td>0.102366</td>\n",
       "    </tr>\n",
       "    <tr>\n",
       "      <th>matern32_rbf</th>\n",
       "      <td>1294</td>\n",
       "      <td>0.011718</td>\n",
       "      <td>0.268653</td>\n",
       "      <td>0.233496</td>\n",
       "    </tr>\n",
       "    <tr>\n",
       "      <th>matern52_rbf</th>\n",
       "      <td>857</td>\n",
       "      <td>0.011413</td>\n",
       "      <td>0.361647</td>\n",
       "      <td>0.196415</td>\n",
       "    </tr>\n",
       "  </tbody>\n",
       "</table>\n",
       "</div>"
      ],
      "text/plain": [
       "                          solutions  Generational Distance avg  \\\n",
       "original_rbf                   1514                   0.004864   \n",
       "squared_exponential_rbf        1357                   0.006807   \n",
       "inverse_quadratic_rbf          1266                   0.015453   \n",
       "inverse_multiquadric_rbf       1157                   0.014110   \n",
       "exponential_rbf                 946                   0.019406   \n",
       "matern32_rbf                   1294                   0.011718   \n",
       "matern52_rbf                    857                   0.011413   \n",
       "\n",
       "                          Epsilon Indicator avg  Hypervolume avg  \n",
       "original_rbf                           0.308056         0.426105  \n",
       "squared_exponential_rbf                0.336470         0.378210  \n",
       "inverse_quadratic_rbf                  0.425216         0.216025  \n",
       "inverse_multiquadric_rbf               0.522231         0.228578  \n",
       "exponential_rbf                        0.343168         0.102366  \n",
       "matern32_rbf                           0.268653         0.233496  \n",
       "matern52_rbf                           0.361647         0.196415  "
      ]
     },
     "execution_count": 78,
     "metadata": {},
     "output_type": "execute_result"
    }
   ],
   "source": [
    "df_table = pd.DataFrame()\n",
    "df_table[\"solutions\"] = df_sol[0]\n",
    "df_table[\"Generational Distance avg\"] = df_gd_m.T.mean()\n",
    "df_table[\"Epsilon Indicator avg\"] = df_ei_m.T.mean()\n",
    "df_table[\"Hypervolume avg\"] = df_hv_m.T.mean()\n",
    "df_table"
   ]
  }
 ],
 "metadata": {
  "kernelspec": {
   "display_name": "Python 3.8",
   "language": "python",
   "name": "py38"
  },
  "language_info": {
   "codemirror_mode": {
    "name": "ipython",
    "version": 3
   },
   "file_extension": ".py",
   "mimetype": "text/x-python",
   "name": "python",
   "nbconvert_exporter": "python",
   "pygments_lexer": "ipython3",
   "version": "3.8.8"
  }
 },
 "nbformat": 4,
 "nbformat_minor": 5
}
