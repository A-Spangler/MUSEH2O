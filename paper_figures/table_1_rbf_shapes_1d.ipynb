import sys
import numpy as np
import matplotlib.pyplot as plt
import seaborn as sns
sys.path.append('..')
import rbf.rbf_functions as rbf_functions

rbfs = [ rbf_functions.original_rbf,
        rbf_functions.squared_exponential_rbf,
        rbf_functions.inverse_quadratic_rbf,
        rbf_functions.inverse_multiquadric_rbf,
        rbf_functions.exponential_rbf,
        rbf_functions.matern32_rbf,
        rbf_functions.matern52_rbf,
       ]
centers = np.array([
                    [0.,],
                    [0.,],
                    [0.,]
                   ])
radii = np.array([[0.1],
                  [0.1],
                  [0.1]
                 ])
weights = np.array([[1/3], [1/3], [1/3]])

rbf_input = np.array([0,])


# setup a grid for the inputs

grid_size = 1001
x = np.linspace(-1, 1, grid_size)
fontsize=30

# run the rbf for each point

scores = {}
for function in rbfs:
    scores[function.__name__] = np.empty(x.shape)

for i, x_i in enumerate(x):
    rbf_input = np.array([x_i,])

    for function in rbfs:
        score = function(rbf_input, centers, radii, weights)
        scores[function.__name__][i] = score

# visualize results
plt.rcParams['figure.figsize'] = [12, 12]

sns.set_style('white')
colors = sns.color_palette()

for i, (k, score) in enumerate(scores.items()):
    fig, ax = plt.subplots()
    ax.plot(x, score, c=colors[i], lw=10, label=k)
    ax.set_xlabel('Input (x)', fontsize=fontsize)
    ax.set_ylabel('Output ($\Phi(x)$)', fontsize=fontsize)
    sns.despine()
    # ax.legend()
    ax.locator_params(axis='y', nbins=2)
    ax.locator_params(axis='x', nbins=3)
    plt.rc('font', size=fontsize)
    plt.savefig('./figs/table1_rbf_1d_shape/'+f'{k}_shape.pdf')
    plt.show()
