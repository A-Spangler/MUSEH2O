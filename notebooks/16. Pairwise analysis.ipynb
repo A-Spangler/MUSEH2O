{
 "cells": [
  {
   "cell_type": "code",
   "execution_count": null,
   "id": "69a4fd8f",
   "metadata": {},
   "outputs": [],
   "source": [
    "import sys\n",
    "import pandas as pd\n",
    "import seaborn as sns\n",
    "import matplotlib.pyplot as plt\n",
    "plt.rcParams['figure.figsize'] = [12, 8]\n",
    "sys.path.append('..')\n",
    "import rbf_functions"
   ]
  },
  {
   "cell_type": "code",
   "execution_count": null,
   "id": "f2d8ed1b",
   "metadata": {},
   "outputs": [],
   "source": [
    "rbfs = [rbf_functions.original_rbf,\n",
    "        rbf_functions.squared_exponential_rbf,\n",
    "        rbf_functions.inverse_quadratic_rbf,\n",
    "        rbf_functions.inverse_multiquadric_rbf,\n",
    "        rbf_functions.exponential_rbf,\n",
    "        rbf_functions.matern32_rbf,\n",
    "        rbf_functions.matern52_rbf,\n",
    "       ]"
   ]
  },
  {
   "cell_type": "code",
   "execution_count": null,
   "id": "b191d515",
   "metadata": {},
   "outputs": [],
   "source": [
    "pareto_sets = {}\n",
    "for entry in rbfs:\n",
    "    name = entry.__name__\n",
    "    output_dir = f\"../refsets/\"\n",
    "    results = pd.read_csv(output_dir + name+ '_refset.csv')\n",
    "    pareto_sets[name] = results"
   ]
  },
  {
   "cell_type": "code",
   "execution_count": null,
   "id": "05ffd65a",
   "metadata": {},
   "outputs": [],
   "source": [
    "pareto_sets['original_rbf']\n",
    "pareto_sets['squared_exponential_rbf']"
   ]
  }
 ],
 "metadata": {
  "kernelspec": {
   "display_name": "Python 3.8",
   "language": "python",
   "name": "py38"
  },
  "language_info": {
   "codemirror_mode": {
    "name": "ipython",
    "version": 3
   },
   "file_extension": ".py",
   "mimetype": "text/x-python",
   "name": "python",
   "nbconvert_exporter": "python",
   "pygments_lexer": "ipython3",
   "version": "3.8.8"
  }
 },
 "nbformat": 4,
 "nbformat_minor": 5
}
