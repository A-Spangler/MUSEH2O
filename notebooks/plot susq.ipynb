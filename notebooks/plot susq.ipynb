{
 "cells": [
  {
   "cell_type": "code",
   "execution_count": 10,
   "id": "numerous-understanding",
   "metadata": {},
   "outputs": [],
   "source": [
    "import os\n",
    "import random\n",
    "import numpy as np\n",
    "import pandas as pd\n",
    "from platypus import Problem, EpsNSGAII, Real, ProcessPoolEvaluator\n",
    "from platypus import (Solution, EpsilonBoxArchive, GenerationalDistance, InvertedGenerationalDistance,\n",
    "                      Hypervolume, EpsilonIndicator, Spacing, Archive)\n",
    "import functools\n",
    "import csv"
   ]
  },
  {
   "cell_type": "code",
   "execution_count": 4,
   "id": "warming-colonial",
   "metadata": {
    "scrolled": true
   },
   "outputs": [],
   "source": [
    "# import sys\n",
    "# sys.path.append(os.path.abspath(\"..\"))\n",
    "os.chdir(\"C:/Users/MarkW/OneDrive/Documenten/GitHub/MUSEH2O\")\n",
    "from susquehanna_model import susquehanna_model\n"
   ]
  },
  {
   "cell_type": "code",
   "execution_count": 16,
   "id": "moral-minute",
   "metadata": {},
   "outputs": [],
   "source": [
    "# class TrackProgress:\n",
    "#     def __init__(self):\n",
    "#         self.nfe = []\n",
    "#         self.improvements = []\n",
    "#         self.objectives = {}\n",
    "\n",
    "#     def __call__(self, algorithm):\n",
    "#         self.nfe.append(algorithm.nfe)\n",
    "#         self.improvements.append(algorithm.archive.improvements)\n",
    "#         temp = []\n",
    "#         for solution in algorithm.archive:\n",
    "#             temp.append(list(solution.objectives))\n",
    "#         self.objectives[algorithm.nfe] = temp\n",
    "\n",
    "#     def to_dataframe(self):\n",
    "#         df_imp = pd.DataFrame.from_dict(dict(nfe=self.nfe, improvements=self.improvements))\n",
    "#         df_hv = pd.concat(self.objectives, axis=0)\n",
    "#         return df_imp, df_hv\n",
    "\n",
    "class TrackProgress:\n",
    "    def __init__(self):\n",
    "        self.nfe = []\n",
    "        self.improvements = []\n",
    "        self.objectives = {}\n",
    "\n",
    "    def __call__(self, algorithm):\n",
    "        self.nfe.append(algorithm.nfe)\n",
    "        self.improvements.append(algorithm.archive.improvements)\n",
    "        temp = {}\n",
    "        for i, solution in enumerate(algorithm.archive):\n",
    "            temp[i] = list(solution.objectives)\n",
    "        self.objectives[algorithm.nfe] = pd.DataFrame.from_dict(temp, orient=\"index\")\n",
    "\n",
    "    def to_dataframe(self):\n",
    "        df_imp = pd.DataFrame.from_dict(dict(nfe=self.nfe, improvements=self.improvements))\n",
    "        df_hv = pd.concat(self.objectives, axis=0)\n",
    "        return df_imp, df_hv    \n",
    "    \n",
    "track_progress = TrackProgress()\n",
    "\n",
    "def store_results(algorithm, output_dir, base_file_name):\n",
    "    header = [\"hydropower\", \"atomicpowerplant\", \"baltimore\", \"chester\", \"environment\", \"recreation\"]\n",
    "    with open(f\"{output_dir}/{base_file_name}_solution.csv\", \"w\", encoding=\"UTF8\", newline=\"\") as f:\n",
    "        writer = csv.writer(f)\n",
    "        writer.writerow(header)\n",
    "        for solution in algorithm.result:\n",
    "            writer.writerow(solution.objectives)\n",
    "\n",
    "    with open(f\"{output_dir}/{base_file_name}_variables.csv\", \"w\", encoding=\"UTF8\", newline=\"\") as f:\n",
    "        writer = csv.writer(f)\n",
    "        for solution in algorithm.result:\n",
    "            writer.writerow(solution.variables)\n",
    "\n",
    "#set seed\n",
    "seeds = [10] # 345, 456, 567]\n",
    "# seeds = [1234, 2345] [3456, 4567, 5678]\n",
    "# RBFlist = [\"multiQuadric\", \"multiQuadric2\"] #[\"exponential\", \"matern32\"] # [\"gaussian\", \"SE\", \"invmultiquadric\", \"invquadratic\"]\n",
    "# for RBF in RBFlist:\n",
    "for seed in seeds:\n",
    "    random.seed(seed)\n",
    "    RBFType = \"se\"\n",
    "    numberOfInput = 2 # (time, storage of Conowingo)\n",
    "    numberOfOutput = 4  # Atomic, Baltimore,Chester, Downstream:- hydropower, environmental\n",
    "    numberOfRBF = 4  # numberOfInput + 2\n",
    "    # N = 2 * n * m + K * n  # check 32 with 2 inputs, 50 with 4 inputs\n",
    "\n",
    "    # Initialize model\n",
    "    nobjs = 6\n",
    "    nvars = int(numberOfRBF * 8)  # 8 = 2 centers + 2 radius + 4 weights\n",
    "    n_years = 1\n",
    "    susquehanna_river = susquehanna_model(108.5, 505.0, 5, n_years)  # l0, l0_MR, d0, years\n",
    "    # l0 = start level cono, l0_MR = start level muddy run, d0 = startday > friday = 5\n",
    "    susquehanna_river.load_data(0)  # 0 = historic, 1 = stochastic\n",
    "    susquehanna_river.set_log(False)\n",
    "\n",
    "    susquehanna_river.setRBF(numberOfRBF, numberOfInput, numberOfOutput, RBFType)\n",
    "\n",
    "    # Lower and Upper Bound for problem.types\n",
    "    LB = [-1, 0, -1, 0, 0, 0, 0, 0] * numberOfRBF #+ [0, 0]\n",
    "    UB = [1, 1, 1, 1, 1, 1, 1, 1] * numberOfRBF # + [np.pi * 2, np.pi * 2]\n",
    "    # np.pi*2 for phaseshift upperbounds (J. Quinn Como model) check borg optimization_serial flood C model\n",
    "    EPS = [0.5, 0.05, 0.05, 0.05, 0.05, 0.001]\n",
    "\n",
    "    # platypus MOEA, no contraints\n",
    "    problem = Problem(nvars, nobjs)\n",
    "    # problem.types[:] = Real(-1, 1)\n",
    "    problem.types[:] = [Real(LB[i], UB[i]) for i in range(nvars)]\n",
    "    problem.function = susquehanna_river.evaluate  # historical (deterministic) optimization\n",
    "    # problem.function = functools.partial(susquehanna_river.evaluates, opt_met=1) #way to add arguments\n",
    "    # problem.function = susquehanna_river.evaluateMC  # stochastic optimization\n",
    "    # problem.directions[:] = Problem.MINIMIZE\n",
    "    problem.directions[0] = Problem.MINIMIZE  # hydropower\n",
    "    problem.directions[1] = Problem.MINIMIZE  # atomicpowerplant\n",
    "    problem.directions[2] = Problem.MINIMIZE  # baltimore\n",
    "    problem.directions[3] = Problem.MINIMIZE  # chester\n",
    "    problem.directions[4] = Problem.MAXIMIZE  # environment\n",
    "    problem.directions[5] = Problem.MINIMIZE  # recreation\n",
    "\n",
    "    ##added\n",
    "    with ProcessPoolEvaluator() as evaluator:\n",
    "        algorithm = EpsNSGAII(problem, epsilons=EPS, evaluator=evaluator)\n",
    "        algorithm.run(5000, callback=track_progress)\n",
    "\n",
    "    df_conv.to_csv(f\"output/{RBFType}_{seed}_convergence2.csv\")\n",
    "    df_hv.to_csv(f\"output/{RBFType}_{seed}_hypervolume2.csv\")\n",
    "\n",
    "    store_results(algorithm, \"output\", f\"{RBFType}_{seed}_2\")\n",
    "    # results\n",
    "#     print(\"results:\")\n",
    "#     for solution in algorithm.result:\n",
    "#         print(solution.objectives)\n",
    "#     with open(f\"./output/{RBFType}_{modelseed}.pickle\", \"wb\") as f:\n",
    "#         pickle.dump(algorithm.result, f)\n",
    "        # save results\n",
    "\n",
    "#     header = ['hydropower', 'atomicpowerplant', 'baltimore', 'chester', 'environment', 'recreation']\n",
    "#     with open(f'{RBFType}_{modelseed}_solution.csv', 'w', encoding='UTF8', newline='') as f:\n",
    "#         writer = csv.writer(f)\n",
    "#         writer.writerow(header)\n",
    "#         for solution in algorithm.result:\n",
    "#             writer.writerow(solution.objectives)\n",
    "\n",
    "#     with open(f'{RBFType}_{modelseed}_variables.csv', 'w', encoding='UTF8', newline='') as f:\n",
    "#         writer = csv.writer(f)\n",
    "#         for solution in algorithm.result:\n",
    "#             writer.writerow(solution.variables)\n"
   ]
  },
  {
   "cell_type": "code",
   "execution_count": 6,
   "id": "mineral-penny",
   "metadata": {},
   "outputs": [],
   "source": [
    "df_conv, df_hv = track_progress.to_dataframe()"
   ]
  },
  {
   "cell_type": "code",
   "execution_count": 11,
   "id": "nervous-touch",
   "metadata": {},
   "outputs": [],
   "source": [
    "df_conv.to_csv(f\"output/{RBFType}_{seed}_convergence.csv\")\n",
    "df_hv.to_csv(f\"output/{RBFType}_{seed}_hypervolume.csv\")\n",
    "\n",
    "store_results(algorithm, \"output\", f\"{RBFType}_{seed}\")"
   ]
  },
  {
   "cell_type": "code",
   "execution_count": 111,
   "id": "secure-liabilities",
   "metadata": {},
   "outputs": [],
   "source": [
    "#https://github.com/Project-Platypus/Platypus/issues/71\n",
    "df_imp, df_obj = track_progress.to_dataframe()\n",
    "df_hv.to_csv(\"test.csv\")"
   ]
  },
  {
   "cell_type": "code",
   "execution_count": null,
   "id": "atomic-subscription",
   "metadata": {},
   "outputs": [],
   "source": []
  },
  {
   "cell_type": "code",
   "execution_count": 5,
   "id": "generic-selling",
   "metadata": {},
   "outputs": [],
   "source": [
    "df_hv = pd.read_csv(\"test.csv\")"
   ]
  },
  {
   "cell_type": "code",
   "execution_count": 11,
   "id": "attractive-galaxy",
   "metadata": {},
   "outputs": [
    {
     "data": {
      "text/plain": [
       "'[-29.561950682320717, -0.14030854687773872, -0.08774643586987847, -0.11140600063577351, 0.1481376874739016, -0.8928571428571429]'"
      ]
     },
     "execution_count": 11,
     "metadata": {},
     "output_type": "execute_result"
    }
   ],
   "source": [
    "df_hv.iloc[0,1]"
   ]
  },
  {
   "cell_type": "code",
   "execution_count": 15,
   "id": "divine-battle",
   "metadata": {},
   "outputs": [
    {
     "name": "stderr",
     "output_type": "stream",
     "text": [
      "INFO:Platypus:Started process pool evaluator\n",
      "INFO:Platypus:Using user-defined number of processes: 4\n",
      "INFO:Platypus:EpsNSGAII starting\n",
      "INFO:Platypus:EpsNSGAII finished; Total NFE: 1000, Elapsed Time: 0:01:32.396103\n",
      "INFO:Platypus:Closed process pool evaluator\n"
     ]
    }
   ],
   "source": [
    "with ProcessPoolEvaluator(4) as evaluator:\n",
    "    algorithm = EpsNSGAII(problem, epsilons=EPS, evaluator=evaluator)\n",
    "    algorithm.run(1000)"
   ]
  },
  {
   "cell_type": "code",
   "execution_count": 127,
   "id": "stretch-investigator",
   "metadata": {},
   "outputs": [
    {
     "ename": "TypeError",
     "evalue": "'EpsNSGAII' object is not subscriptable",
     "output_type": "error",
     "traceback": [
      "\u001b[1;31m---------------------------------------------------------------------------\u001b[0m",
      "\u001b[1;31mTypeError\u001b[0m                                 Traceback (most recent call last)",
      "\u001b[1;32m<ipython-input-127-30043e49076d>\u001b[0m in \u001b[0;36m<module>\u001b[1;34m\u001b[0m\n\u001b[0;32m      1\u001b[0m \u001b[1;31m# for i in algorithm.result:\u001b[0m\u001b[1;33m\u001b[0m\u001b[1;33m\u001b[0m\u001b[1;33m\u001b[0m\u001b[0m\n\u001b[0;32m      2\u001b[0m \u001b[1;31m#     print(i.objectives)\u001b[0m\u001b[1;33m\u001b[0m\u001b[1;33m\u001b[0m\u001b[1;33m\u001b[0m\u001b[0m\n\u001b[1;32m----> 3\u001b[1;33m \u001b[0malgorithm\u001b[0m\u001b[1;33m[\u001b[0m\u001b[1;36m0\u001b[0m\u001b[1;33m]\u001b[0m\u001b[1;33m.\u001b[0m\u001b[0mvariables\u001b[0m\u001b[1;33m\u001b[0m\u001b[1;33m\u001b[0m\u001b[0m\n\u001b[0m",
      "\u001b[1;31mTypeError\u001b[0m: 'EpsNSGAII' object is not subscriptable"
     ]
    }
   ],
   "source": [
    "# for i in algorithm.result:\n",
    "#     print(i.objectives)\n",
    "algorithm[0].variables"
   ]
  },
  {
   "cell_type": "code",
   "execution_count": 16,
   "id": "buried-arthur",
   "metadata": {},
   "outputs": [
    {
     "name": "stdout",
     "output_type": "stream",
     "text": [
      "12 solutions found:\n",
      "[-8.133568166143974, -0.05168536325430313, -0.05316376765499013, -0.04228379013032747, 0.3637330856484424, -0.8928571428571429]\n",
      "[-7.815032938514468, -0.016316670220005224, -0.012439606777430471, -0.007758213852241293, 0.3695243870419312, -1.0]\n",
      "[-7.5563314430777, -0.02291796250256137, -0.011800066535458318, -0.011144780422842265, 0.40022385086161844, -0.9642857142857143]\n",
      "[-7.05776590111464, -0.0001972081356128885, -0.0004702521047483695, -0.0005058115574124188, 0.45024352097453313, -0.8214285714285714]\n",
      "[-10.644477230508537, -0.25184268367774765, -0.24230379638275218, -0.242878069915863, 0.2766050077153042, -0.9642857142857143]\n",
      "[-9.421495719141252, -0.052000627613988826, -0.1788026789183237, -0.1437748533580995, 0.32946639965983887, -0.9285714285714286]\n",
      "[-8.954602988002325, -0.08067990912342383, -0.060636958776585946, -0.05564795553450374, 0.3330046698132083, -1.0]\n",
      "[-9.0036077675972, -0.02448002204252023, -0.048010876912318576, -0.03787481486320466, 0.3256803120351604, -0.9642857142857143]\n",
      "[-17.65494328888837, -0.37152100845082836, -0.4547843251036673, -0.4360411303633983, 0.16266284963761152, -1.0]\n",
      "[-9.555925876531319, -0.05151385220922943, -0.17371497097767288, -0.16459929537810705, 0.32335873133323295, -0.8928571428571429]\n",
      "[-8.728185688706985, -0.10441025630199903, -0.09732089081742436, -0.08781213308649118, 0.3453284084095168, -0.9285714285714286]\n",
      "[-8.224804568518593, -0.050679984963363324, -0.03421795427226425, -0.03670937141642202, 0.3547916512268026, -0.9642857142857143]\n"
     ]
    }
   ],
   "source": [
    "# results\n",
    "soll= [] \n",
    "for solution in algorithm.result:\n",
    "    soll.append(solution.objectives)\n",
    "# #corrosponding decision varibles:\n",
    "varl = []\n",
    "for solution in algorithm.result:\n",
    "    varl.append(solution.variables)\n",
    "# # print(varl)\n",
    "\n",
    "print(f\"{len(soll)} solutions found:\")\n",
    "for i in soll:\n",
    "    print(i)\n",
    "\n",
    "# with open(\"./output/gaussian.txt\", \"w\") as f:\n",
    "#     for solution in algorithm.result:\n",
    "#         f.write(\"%s\\n\" % solution.objectives)\n",
    "#     for solution in algorithm.result:\n",
    "#         f.write(\"%s\\n\" % solution.variables)\n",
    "\n",
    "# serialize results in pickle file\n",
    "# with open(\"./output/gaussian.pickle\", \"wb\") as f:\n",
    "#     pickle.dump(algorithm.result, f)"
   ]
  },
  {
   "cell_type": "code",
   "execution_count": 6,
   "id": "integral-reporter",
   "metadata": {},
   "outputs": [],
   "source": [
    "o = open(\"output\\gaussian.pickle\", \"rb\")\n",
    "r = pickle.load(o)\n",
    "for solution in r:\n",
    "    print(solution.objectives)\n",
    "    print(solution.variables)"
   ]
  },
  {
   "cell_type": "code",
   "execution_count": 117,
   "id": "separate-russia",
   "metadata": {},
   "outputs": [
    {
     "name": "stdout",
     "output_type": "stream",
     "text": [
      "Loaded into list 'solutions': SE_100_solution, SE_10_solution, SE_20_solution, SE_30_solution, SE_40_solution, SE_50_solution, SE_60_solution, SE_70_solution, SE_80_solution, SE_90_solution\n"
     ]
    }
   ],
   "source": [
    "# https://github.com/quaquel/epa1361_open/blob/master/Week%205-6%20-%20robustness%20and%20direct%20search/assignment%207%20-%20MOEA%20tutorial.ipynb\n",
    "# reference_set = EpsilonBoxArchive([0.02, 0.02, 0.02])\n",
    "# reference_set = EpsilonBoxArchive([0.5, 0.05, 0.05, 0.05, 0.05, 0.001])\n",
    "# for x in range(1000):\n",
    "#     solution = Solution(problem)\n",
    "# #     solution.variables = [random.uniform(0,1) if i < problem.nobjs-1 else 0.5 for i in range(problem.nvars)]\n",
    "#     variables = [random.uniform(0,1) for i in range(problem.nvars)]\n",
    "#     for i in range(problem.nvars):\n",
    "#         if i % 8 == 0:\n",
    "#             variables[i] = random.uniform(-1,1)\n",
    "#         elif (i-2) % 8 == 0:\n",
    "#             variables[i] = random.uniform(-1,1)\n",
    "#     solution.variables = variables\n",
    "#     solution.evaluate()\n",
    "#     reference_set.add(solution)\n",
    "import pareto\n",
    "from itertools import chain\n",
    "# load solutions\n",
    "sollist = []\n",
    "solutions = []\n",
    "for filename in os.listdir('SE_100000'):\n",
    "    if filename.endswith('solution.csv'):\n",
    "        sollist.append(filename[:-4])\n",
    "        df_temp = pd.read_csv(f\"SE_100000/{filename}\", header=0)\n",
    "        solutions.append(df_temp.values.tolist())\n",
    "solutions = list(chain.from_iterable(solutions))\n",
    "print(f\"Loaded into list 'solutions': {', '.join(sollist)}\")\n",
    "\n",
    "reference_set = pareto.eps_sort([solutions], [0,1,2,3,4,5], [0.5, 0.05, 0.05, 0.05, 0.05, 0.001], maximize=[4])\n",
    "\n"
   ]
  },
  {
   "cell_type": "code",
   "execution_count": 119,
   "id": "sought-royalty",
   "metadata": {},
   "outputs": [
    {
     "ename": "AttributeError",
     "evalue": "'list' object has no attribute 'constraint_violation'",
     "output_type": "error",
     "traceback": [
      "\u001b[1;31m---------------------------------------------------------------------------\u001b[0m",
      "\u001b[1;31mAttributeError\u001b[0m                            Traceback (most recent call last)",
      "\u001b[1;32m<ipython-input-119-c79466aa17a0>\u001b[0m in \u001b[0;36m<module>\u001b[1;34m\u001b[0m\n\u001b[1;32m----> 1\u001b[1;33m \u001b[0mHypervolume\u001b[0m\u001b[1;33m(\u001b[0m\u001b[0mreference_set\u001b[0m\u001b[1;33m)\u001b[0m\u001b[1;33m\u001b[0m\u001b[1;33m\u001b[0m\u001b[0m\n\u001b[0m",
      "\u001b[1;32mD:\\Applications\\Anaconda3\\envs\\py38\\lib\\site-packages\\platypus\\indicators.py\u001b[0m in \u001b[0;36m__init__\u001b[1;34m(self, reference_set, minimum, maximum)\u001b[0m\n\u001b[0;32m    111\u001b[0m             \u001b[1;32mif\u001b[0m \u001b[0mminimum\u001b[0m \u001b[1;32mis\u001b[0m \u001b[1;32mnot\u001b[0m \u001b[1;32mNone\u001b[0m \u001b[1;32mor\u001b[0m \u001b[0mmaximum\u001b[0m \u001b[1;32mis\u001b[0m \u001b[1;32mnot\u001b[0m \u001b[1;32mNone\u001b[0m\u001b[1;33m:\u001b[0m\u001b[1;33m\u001b[0m\u001b[1;33m\u001b[0m\u001b[0m\n\u001b[0;32m    112\u001b[0m                 \u001b[1;32mraise\u001b[0m \u001b[0mValueError\u001b[0m\u001b[1;33m(\u001b[0m\u001b[1;34m\"minimum and maximum must not be specified if reference_set is defined\"\u001b[0m\u001b[1;33m)\u001b[0m\u001b[1;33m\u001b[0m\u001b[1;33m\u001b[0m\u001b[0m\n\u001b[1;32m--> 113\u001b[1;33m             \u001b[0mself\u001b[0m\u001b[1;33m.\u001b[0m\u001b[0mreference_set\u001b[0m \u001b[1;33m=\u001b[0m \u001b[1;33m[\u001b[0m\u001b[0ms\u001b[0m \u001b[1;32mfor\u001b[0m \u001b[0ms\u001b[0m \u001b[1;32min\u001b[0m \u001b[0mreference_set\u001b[0m \u001b[1;32mif\u001b[0m \u001b[0ms\u001b[0m\u001b[1;33m.\u001b[0m\u001b[0mconstraint_violation\u001b[0m\u001b[1;33m==\u001b[0m\u001b[1;36m0.0\u001b[0m\u001b[1;33m]\u001b[0m\u001b[1;33m\u001b[0m\u001b[1;33m\u001b[0m\u001b[0m\n\u001b[0m\u001b[0;32m    114\u001b[0m             \u001b[0mself\u001b[0m\u001b[1;33m.\u001b[0m\u001b[0mminimum\u001b[0m\u001b[1;33m,\u001b[0m \u001b[0mself\u001b[0m\u001b[1;33m.\u001b[0m\u001b[0mmaximum\u001b[0m \u001b[1;33m=\u001b[0m \u001b[0mnormalize\u001b[0m\u001b[1;33m(\u001b[0m\u001b[0mreference_set\u001b[0m\u001b[1;33m)\u001b[0m\u001b[1;33m\u001b[0m\u001b[1;33m\u001b[0m\u001b[0m\n\u001b[0;32m    115\u001b[0m         \u001b[1;32melse\u001b[0m\u001b[1;33m:\u001b[0m\u001b[1;33m\u001b[0m\u001b[1;33m\u001b[0m\u001b[0m\n",
      "\u001b[1;32mD:\\Applications\\Anaconda3\\envs\\py38\\lib\\site-packages\\platypus\\indicators.py\u001b[0m in \u001b[0;36m<listcomp>\u001b[1;34m(.0)\u001b[0m\n\u001b[0;32m    111\u001b[0m             \u001b[1;32mif\u001b[0m \u001b[0mminimum\u001b[0m \u001b[1;32mis\u001b[0m \u001b[1;32mnot\u001b[0m \u001b[1;32mNone\u001b[0m \u001b[1;32mor\u001b[0m \u001b[0mmaximum\u001b[0m \u001b[1;32mis\u001b[0m \u001b[1;32mnot\u001b[0m \u001b[1;32mNone\u001b[0m\u001b[1;33m:\u001b[0m\u001b[1;33m\u001b[0m\u001b[1;33m\u001b[0m\u001b[0m\n\u001b[0;32m    112\u001b[0m                 \u001b[1;32mraise\u001b[0m \u001b[0mValueError\u001b[0m\u001b[1;33m(\u001b[0m\u001b[1;34m\"minimum and maximum must not be specified if reference_set is defined\"\u001b[0m\u001b[1;33m)\u001b[0m\u001b[1;33m\u001b[0m\u001b[1;33m\u001b[0m\u001b[0m\n\u001b[1;32m--> 113\u001b[1;33m             \u001b[0mself\u001b[0m\u001b[1;33m.\u001b[0m\u001b[0mreference_set\u001b[0m \u001b[1;33m=\u001b[0m \u001b[1;33m[\u001b[0m\u001b[0ms\u001b[0m \u001b[1;32mfor\u001b[0m \u001b[0ms\u001b[0m \u001b[1;32min\u001b[0m \u001b[0mreference_set\u001b[0m \u001b[1;32mif\u001b[0m \u001b[0ms\u001b[0m\u001b[1;33m.\u001b[0m\u001b[0mconstraint_violation\u001b[0m\u001b[1;33m==\u001b[0m\u001b[1;36m0.0\u001b[0m\u001b[1;33m]\u001b[0m\u001b[1;33m\u001b[0m\u001b[1;33m\u001b[0m\u001b[0m\n\u001b[0m\u001b[0;32m    114\u001b[0m             \u001b[0mself\u001b[0m\u001b[1;33m.\u001b[0m\u001b[0mminimum\u001b[0m\u001b[1;33m,\u001b[0m \u001b[0mself\u001b[0m\u001b[1;33m.\u001b[0m\u001b[0mmaximum\u001b[0m \u001b[1;33m=\u001b[0m \u001b[0mnormalize\u001b[0m\u001b[1;33m(\u001b[0m\u001b[0mreference_set\u001b[0m\u001b[1;33m)\u001b[0m\u001b[1;33m\u001b[0m\u001b[1;33m\u001b[0m\u001b[0m\n\u001b[0;32m    115\u001b[0m         \u001b[1;32melse\u001b[0m\u001b[1;33m:\u001b[0m\u001b[1;33m\u001b[0m\u001b[1;33m\u001b[0m\u001b[0m\n",
      "\u001b[1;31mAttributeError\u001b[0m: 'list' object has no attribute 'constraint_violation'"
     ]
    }
   ],
   "source": [
    "Hypervolume(reference_set)"
   ]
  },
  {
   "cell_type": "code",
   "execution_count": 35,
   "id": "separated-moscow",
   "metadata": {},
   "outputs": [
    {
     "name": "stdout",
     "output_type": "stream",
     "text": [
      "44 solutions found in the reference set\n"
     ]
    }
   ],
   "source": [
    "refsetl = []\n",
    "for solution in reference_set:\n",
    "    refsetl.append(solution.objectives)\n",
    "print(f\"{len(refsetl)} solutions found in the reference set\")"
   ]
  },
  {
   "cell_type": "code",
   "execution_count": 118,
   "id": "operating-receptor",
   "metadata": {},
   "outputs": [
    {
     "ename": "AttributeError",
     "evalue": "'list' object has no attribute 'constraint_violation'",
     "output_type": "error",
     "traceback": [
      "\u001b[1;31m---------------------------------------------------------------------------\u001b[0m",
      "\u001b[1;31mAttributeError\u001b[0m                            Traceback (most recent call last)",
      "\u001b[1;32m<ipython-input-118-1ab97ff43374>\u001b[0m in \u001b[0;36m<module>\u001b[1;34m\u001b[0m\n\u001b[0;32m      1\u001b[0m \u001b[1;31m# compute the indicators\u001b[0m\u001b[1;33m\u001b[0m\u001b[1;33m\u001b[0m\u001b[1;33m\u001b[0m\u001b[0m\n\u001b[1;32m----> 2\u001b[1;33m \u001b[0mgd\u001b[0m \u001b[1;33m=\u001b[0m \u001b[0mGenerationalDistance\u001b[0m\u001b[1;33m(\u001b[0m\u001b[0mreference_set\u001b[0m\u001b[1;33m)\u001b[0m\u001b[1;33m\u001b[0m\u001b[1;33m\u001b[0m\u001b[0m\n\u001b[0m\u001b[0;32m      3\u001b[0m \u001b[0mprint\u001b[0m\u001b[1;33m(\u001b[0m\u001b[1;34m\"Generational Distance:\"\u001b[0m\u001b[1;33m,\u001b[0m \u001b[0mgd\u001b[0m\u001b[1;33m.\u001b[0m\u001b[0mcalculate\u001b[0m\u001b[1;33m(\u001b[0m\u001b[0malgorithm\u001b[0m\u001b[1;33m.\u001b[0m\u001b[0mresult\u001b[0m\u001b[1;33m)\u001b[0m\u001b[1;33m)\u001b[0m\u001b[1;33m\u001b[0m\u001b[1;33m\u001b[0m\u001b[0m\n\u001b[0;32m      4\u001b[0m \u001b[1;33m\u001b[0m\u001b[0m\n\u001b[0;32m      5\u001b[0m \u001b[0migd\u001b[0m \u001b[1;33m=\u001b[0m \u001b[0mInvertedGenerationalDistance\u001b[0m\u001b[1;33m(\u001b[0m\u001b[0mreference_set\u001b[0m\u001b[1;33m)\u001b[0m\u001b[1;33m\u001b[0m\u001b[1;33m\u001b[0m\u001b[0m\n",
      "\u001b[1;32mD:\\Applications\\Anaconda3\\envs\\py38\\lib\\site-packages\\platypus\\indicators.py\u001b[0m in \u001b[0;36m__init__\u001b[1;34m(self, reference_set, d)\u001b[0m\n\u001b[0;32m     45\u001b[0m     \u001b[1;32mdef\u001b[0m \u001b[0m__init__\u001b[0m\u001b[1;33m(\u001b[0m\u001b[0mself\u001b[0m\u001b[1;33m,\u001b[0m \u001b[0mreference_set\u001b[0m\u001b[1;33m,\u001b[0m \u001b[0md\u001b[0m \u001b[1;33m=\u001b[0m \u001b[1;36m2.0\u001b[0m\u001b[1;33m)\u001b[0m\u001b[1;33m:\u001b[0m\u001b[1;33m\u001b[0m\u001b[1;33m\u001b[0m\u001b[0m\n\u001b[0;32m     46\u001b[0m         \u001b[0msuper\u001b[0m\u001b[1;33m(\u001b[0m\u001b[0mGenerationalDistance\u001b[0m\u001b[1;33m,\u001b[0m \u001b[0mself\u001b[0m\u001b[1;33m)\u001b[0m\u001b[1;33m.\u001b[0m\u001b[0m__init__\u001b[0m\u001b[1;33m(\u001b[0m\u001b[1;33m)\u001b[0m\u001b[1;33m\u001b[0m\u001b[1;33m\u001b[0m\u001b[0m\n\u001b[1;32m---> 47\u001b[1;33m         \u001b[0mself\u001b[0m\u001b[1;33m.\u001b[0m\u001b[0mreference_set\u001b[0m \u001b[1;33m=\u001b[0m \u001b[1;33m[\u001b[0m\u001b[0ms\u001b[0m \u001b[1;32mfor\u001b[0m \u001b[0ms\u001b[0m \u001b[1;32min\u001b[0m \u001b[0mreference_set\u001b[0m \u001b[1;32mif\u001b[0m \u001b[0ms\u001b[0m\u001b[1;33m.\u001b[0m\u001b[0mconstraint_violation\u001b[0m\u001b[1;33m==\u001b[0m\u001b[1;36m0.0\u001b[0m\u001b[1;33m]\u001b[0m\u001b[1;33m\u001b[0m\u001b[1;33m\u001b[0m\u001b[0m\n\u001b[0m\u001b[0;32m     48\u001b[0m         \u001b[0mself\u001b[0m\u001b[1;33m.\u001b[0m\u001b[0md\u001b[0m \u001b[1;33m=\u001b[0m \u001b[0md\u001b[0m\u001b[1;33m\u001b[0m\u001b[1;33m\u001b[0m\u001b[0m\n\u001b[0;32m     49\u001b[0m         \u001b[0mself\u001b[0m\u001b[1;33m.\u001b[0m\u001b[0mminimum\u001b[0m\u001b[1;33m,\u001b[0m \u001b[0mself\u001b[0m\u001b[1;33m.\u001b[0m\u001b[0mmaximum\u001b[0m \u001b[1;33m=\u001b[0m \u001b[0mnormalize\u001b[0m\u001b[1;33m(\u001b[0m\u001b[0mreference_set\u001b[0m\u001b[1;33m)\u001b[0m\u001b[1;33m\u001b[0m\u001b[1;33m\u001b[0m\u001b[0m\n",
      "\u001b[1;32mD:\\Applications\\Anaconda3\\envs\\py38\\lib\\site-packages\\platypus\\indicators.py\u001b[0m in \u001b[0;36m<listcomp>\u001b[1;34m(.0)\u001b[0m\n\u001b[0;32m     45\u001b[0m     \u001b[1;32mdef\u001b[0m \u001b[0m__init__\u001b[0m\u001b[1;33m(\u001b[0m\u001b[0mself\u001b[0m\u001b[1;33m,\u001b[0m \u001b[0mreference_set\u001b[0m\u001b[1;33m,\u001b[0m \u001b[0md\u001b[0m \u001b[1;33m=\u001b[0m \u001b[1;36m2.0\u001b[0m\u001b[1;33m)\u001b[0m\u001b[1;33m:\u001b[0m\u001b[1;33m\u001b[0m\u001b[1;33m\u001b[0m\u001b[0m\n\u001b[0;32m     46\u001b[0m         \u001b[0msuper\u001b[0m\u001b[1;33m(\u001b[0m\u001b[0mGenerationalDistance\u001b[0m\u001b[1;33m,\u001b[0m \u001b[0mself\u001b[0m\u001b[1;33m)\u001b[0m\u001b[1;33m.\u001b[0m\u001b[0m__init__\u001b[0m\u001b[1;33m(\u001b[0m\u001b[1;33m)\u001b[0m\u001b[1;33m\u001b[0m\u001b[1;33m\u001b[0m\u001b[0m\n\u001b[1;32m---> 47\u001b[1;33m         \u001b[0mself\u001b[0m\u001b[1;33m.\u001b[0m\u001b[0mreference_set\u001b[0m \u001b[1;33m=\u001b[0m \u001b[1;33m[\u001b[0m\u001b[0ms\u001b[0m \u001b[1;32mfor\u001b[0m \u001b[0ms\u001b[0m \u001b[1;32min\u001b[0m \u001b[0mreference_set\u001b[0m \u001b[1;32mif\u001b[0m \u001b[0ms\u001b[0m\u001b[1;33m.\u001b[0m\u001b[0mconstraint_violation\u001b[0m\u001b[1;33m==\u001b[0m\u001b[1;36m0.0\u001b[0m\u001b[1;33m]\u001b[0m\u001b[1;33m\u001b[0m\u001b[1;33m\u001b[0m\u001b[0m\n\u001b[0m\u001b[0;32m     48\u001b[0m         \u001b[0mself\u001b[0m\u001b[1;33m.\u001b[0m\u001b[0md\u001b[0m \u001b[1;33m=\u001b[0m \u001b[0md\u001b[0m\u001b[1;33m\u001b[0m\u001b[1;33m\u001b[0m\u001b[0m\n\u001b[0;32m     49\u001b[0m         \u001b[0mself\u001b[0m\u001b[1;33m.\u001b[0m\u001b[0mminimum\u001b[0m\u001b[1;33m,\u001b[0m \u001b[0mself\u001b[0m\u001b[1;33m.\u001b[0m\u001b[0mmaximum\u001b[0m \u001b[1;33m=\u001b[0m \u001b[0mnormalize\u001b[0m\u001b[1;33m(\u001b[0m\u001b[0mreference_set\u001b[0m\u001b[1;33m)\u001b[0m\u001b[1;33m\u001b[0m\u001b[1;33m\u001b[0m\u001b[0m\n",
      "\u001b[1;31mAttributeError\u001b[0m: 'list' object has no attribute 'constraint_violation'"
     ]
    }
   ],
   "source": [
    "\n",
    "\n",
    "# compute the indicators\n",
    "gd = GenerationalDistance(reference_set)\n",
    "print(\"Generational Distance:\", gd.calculate(algorithm.result))\n",
    "\n",
    "igd = InvertedGenerationalDistance(reference_set)\n",
    "print(\"Inverted Generational Distance:\", igd.calculate(algorithm.result))\n",
    "\n",
    "hyp = Hypervolume(reference_set)\n",
    "print(\"Hypervolume:\", hyp.calculate(algorithm.result))\n",
    "\n",
    "ei = EpsilonIndicator(reference_set)\n",
    "print(\"Epsilon Indicator:\", ei.calculate(algorithm.result))\n",
    "\n",
    "sp = Spacing()\n",
    "print(\"Spacing:\", sp.calculate(algorithm.result))"
   ]
  },
  {
   "cell_type": "code",
   "execution_count": 25,
   "id": "enhanced-november",
   "metadata": {
    "scrolled": true
   },
   "outputs": [
    {
     "data": {
      "image/png": "[encoded data removed]",
      "text/plain": [
       "<Figure size 432x288 with 1 Axes>"
      ]
     },
     "metadata": {
      "needs_background": "light"
     },
     "output_type": "display_data"
    }
   ],
   "source": [
    "# plot the result versus the reference set\n",
    "import matplotlib.pyplot as plt\n",
    "from mpl_toolkits.mplot3d import Axes3D\n",
    "\n",
    "fig = plt.figure()\n",
    "ax = fig.add_subplot(1, 1, 1, projection='3d')\n",
    "ax.scatter([s.objectives[0] for s in reference_set],\n",
    "           [s.objectives[1] for s in reference_set],\n",
    "           [s.objectives[2] for s in reference_set],\n",
    "#            [s.objectives[3] for s in reference_set],\n",
    "#            [s.objectives[4] for s in reference_set],\n",
    "#            [s.objectives[5] for s in reference_set],\n",
    "           c=\"red\",\n",
    "           edgecolors=\"none\",\n",
    "           label=\"Reference Set\")\n",
    "ax.scatter([s.objectives[0] for s in algorithm.result],\n",
    "           [s.objectives[1] for s in algorithm.result],\n",
    "           [s.objectives[2] for s in algorithm.result],\n",
    "#            [s.objectives[3] for s in algorithm.result],\n",
    "#            [s.objectives[4] for s in algorithm.result],\n",
    "#            [s.objectives[5] for s in algorithm.result],\n",
    "           c=\"blue\",\n",
    "           edgecolors=\"none\",\n",
    "           label = \"EpsNSGA-II Result\")\n",
    "ax.set_title(\"Reference Set\")\n",
    "ax.set_xlim([-50, 50])\n",
    "ax.set_ylim([-50, 50])\n",
    "ax.set_zlim([-10, 30])\n",
    "ax.set_xlabel(\"$f_1(x)$\")\n",
    "ax.set_ylabel(\"$f_2(y)$\")\n",
    "ax.set_zlabel(\"$f_3(z)$\")\n",
    "ax.view_init(elev=30.0, azim=15.0)\n",
    "ax.locator_params(nbins=4)\n",
    "ax.legend()\n",
    "plt.show()"
   ]
  },
  {
   "cell_type": "code",
   "execution_count": 26,
   "id": "junior-macintosh",
   "metadata": {},
   "outputs": [
    {
     "data": {
      "application/vnd.plotly.v1+json": {
       "config": {
        "plotlyServerURL": "https://plot.ly"
       },
       "data": [
        {
         "dimensions": [
          {
           "label": "Hydropower",
           "values": [
            11.085042459445663,
            9.521154161685349,
            8.596015976734323,
            10.10385648105055,
            10.95963845427792,
            8.508377860158907,
            9.14870190803677,
            11.219184480793169,
            8.931061458317865,
            11.235799510048228,
            10.471630611349518,
            8.076135255509902,
            12.809315974242908,
            12.18320009474098,
            8.290962713633975,
            10.303928152278477,
            23.781161333774957,
            61.75210409155643,
            11.640761504096673,
            8.851168755701458,
            8.159482192034265,
            10.910002775330732,
            10.585025902672596,
            26.964131721405323,
            12.873054467326611,
            14.252125517121907,
            23.313049061982923,
            8.65317201166962,
            65.49387714177554,
            12.692885383783167,
            8.95648344738002,
            13.680617220071937,
            21.72193628058347,
            10.959420899150082,
            8.762374745320386,
            7.356171092986873,
            21.866840865029193,
            7.566646597778166,
            10.915855354524004,
            7.959043064025386,
            26.532377320516314,
            13.283666761784536,
            26.28268719449595,
            10.55675452355283,
            15.24892002569346,
            13.987780278485173,
            60.582813604081586,
            19.980064693708503,
            11.04963454861534,
            27.804218689992616,
            7.910486947700479,
            22.57353576294313,
            22.667843790381315,
            8.446988326160362,
            24.33703435361254,
            24.691222078278102,
            22.979285567530077,
            24.367821672953415,
            17.750903015021567,
            10.8382420266656,
            12.880009333811312,
            7.930789648330904,
            14.075041166912108,
            8.433125286283085,
            18.27528657372592,
            10.704927140684436,
            7.868008993551076
           ]
          },
          {
           "label": "AtomicPowerplant",
           "values": [
            0.1627968288436509,
            0.13414006212778784,
            0.06858142711353268,
            0.12404570681367073,
            0.5847813517231905,
            0.07018551820909985,
            0.25510018233555926,
            0.3135562233639543,
            0.17221563782659133,
            0.32165233064362336,
            0.5106794773073488,
            0.10605448697740115,
            0.48273448650263273,
            0.2562397159256738,
            0.34088289898527724,
            0.4974178699867696,
            0.6171766039600878,
            0.671663853284613,
            0.4605476101233379,
            0.06717531928036974,
            0.15985872155721692,
            0.35536966066606285,
            0.4634427939886149,
            0.5971777312216174,
            0.19075439469959385,
            0.5592889430307438,
            0.5738986463167376,
            0.33530486769294027,
            0.6570531127759877,
            0.2373123018622095,
            0.13969786792655864,
            0.3210075620152175,
            0.5970800900121989,
            0.44312499850839,
            0.17668051817584451,
            0.268331042230333,
            0.635636145009663,
            0.013989026796436889,
            0.1615375944887085,
            0.20064659215479724,
            0.5710649612762667,
            0.36985732759346185,
            0.553407196794485,
            0.2725979864757474,
            0.3950396235022825,
            0.6013404388228698,
            0.6739545026620076,
            0.44660960688341683,
            0.20878219335082457,
            0.4002085549703722,
            0.34338538109617855,
            0.4552714558392733,
            0.6292224062057885,
            0.2765491918886793,
            0.5405183657761361,
            0.568865592944695,
            0.6086539296634796,
            0.578234349905043,
            0.3070500593589687,
            0.31901684514613904,
            0.2976728878568088,
            0.30061439453680705,
            0.5476852170471904,
            0.14624849341811447,
            0.5831318378311751,
            0.18530829462685947,
            0.014807516149141924
           ]
          },
          {
           "label": "Baltimore",
           "values": [
            0.12455988492745905,
            0.10480597702937952,
            0.046469071874426955,
            0.0776136085139481,
            0.29848721221832397,
            0.05057944317083773,
            0.23487154269658345,
            0.27039416717744374,
            0.25879607439290053,
            0.35819653503351084,
            0.2824143579079406,
            0.12137978814283773,
            0.2560446052582748,
            0.35038547148351556,
            0.20183073633043475,
            0.37393982205081144,
            0.27996888563084654,
            0.578931959923093,
            0.32984242367558775,
            0.1773680065333797,
            0.14522630184159774,
            0.226458456256523,
            0.33188967018195203,
            0.35394234060273083,
            0.4185896101610319,
            0.29105065224845117,
            0.43059070916988945,
            0.14202164312975335,
            0.551002296866162,
            0.4180470125352873,
            0.08778031629748234,
            0.22332438939025756,
            0.4382612190653436,
            0.3149798937170468,
            0.0731267431822241,
            0.2276047032054396,
            0.4281181367258341,
            0.012308024246285836,
            0.2065583828839493,
            0.1786331593386529,
            0.35482137744038794,
            0.2777322554470853,
            0.45870916104729703,
            0.18672132591766158,
            0.3627180765751651,
            0.3631211364538494,
            0.5879392122976876,
            0.4606962929871833,
            0.1008534967466447,
            0.4206665104621248,
            0.10738322723743776,
            0.4583227399678501,
            0.2559732328547145,
            0.1883268221119191,
            0.3373942980512431,
            0.3297331421725047,
            0.375086369756151,
            0.33585201940705395,
            0.18011299377537696,
            0.14223308673524657,
            0.3653088441210753,
            0.16065827914513559,
            0.20025931137041403,
            0.20267042871890878,
            0.4596468504234825,
            0.1520657737095647,
            0.01454140776245227
           ]
          },
          {
           "label": "Chester",
           "values": [
            0.15296098276710338,
            0.11740645323481887,
            0.05269454307920077,
            0.10047195458044302,
            0.20675006885546568,
            0.05581192565273249,
            0.18985921820556428,
            0.2146739842048674,
            0.22629186446159621,
            0.3044421543513082,
            0.3844179409404524,
            0.1452761132304009,
            0.26185034003925095,
            0.30994458968781397,
            0.12415115210741695,
            0.3227319633547086,
            0.492165092262811,
            0.5887024946071379,
            0.30946196806741305,
            0.30106810643316984,
            0.2032278766182405,
            0.27553883655816763,
            0.09293923794106893,
            0.3283845280275802,
            0.2743158637939209,
            0.37064136009855647,
            0.28101830706153624,
            0.1337752903849689,
            0.5537912937764549,
            0.15630392131514492,
            0.37858094890755634,
            0.483282688889179,
            0.43254162658718043,
            0.2774713346430485,
            0.2215391628576915,
            0.3177550866188264,
            0.5214703152306142,
            0.011967145132100829,
            0.44996366316014597,
            0.2773294722110187,
            0.43217243821681417,
            0.45719124107309117,
            0.3530265536923069,
            0.26797559033657664,
            0.30007417532326885,
            0.4123977203024197,
            0.6001416870887302,
            0.4057921844490117,
            0.45200293965880123,
            0.34413839997492074,
            0.15913364262410826,
            0.4028050091980837,
            0.5258189128538083,
            0.30991387014575594,
            0.4097873801649014,
            0.41200409931886767,
            0.46725381928985005,
            0.373831744860419,
            0.32958391271751114,
            0.30977518968193535,
            0.4505065441486352,
            0.22516245386084136,
            0.3573093264972985,
            0.2431805554026048,
            0.5362141858752184,
            0.4559166539782426,
            0.00873653677957821
           ]
          },
          {
           "label": "Environment",
           "values": [
            -0.2523610314231593,
            -0.3289645509305118,
            -0.3531260962044363,
            -0.30422362652056584,
            -0.2397290087965832,
            -0.350949514497273,
            -0.30268611658731714,
            -0.25399129683455646,
            -0.3010612198883401,
            -0.24465181729005442,
            -0.2593372971338577,
            -0.36376084470010894,
            -0.204629366052755,
            -0.21527347578751907,
            -0.31095672124507995,
            -0.2511409926628171,
            -0.15233545998467454,
            -0.1023137654401951,
            -0.23512087068349005,
            -0.3050605608119582,
            -0.35633804397430796,
            -0.25050492925944473,
            -0.25093477099397465,
            -0.1538014231017011,
            -0.20913860934475983,
            -0.20493878720781147,
            -0.16088372453850566,
            -0.3025366055673352,
            -0.08933248774525124,
            -0.21032805809738062,
            -0.3193042517777372,
            -0.21597297861520032,
            -0.15118955020492897,
            -0.21875246992460626,
            -0.3285488668554086,
            -0.3703714018949246,
            -0.1553859460358194,
            -0.4021238293806392,
            -0.24329023160941776,
            -0.3586508879341286,
            -0.15610448970544125,
            -0.20416502312639248,
            -0.15259400079163815,
            -0.25189530460436443,
            -0.20224827696982692,
            -0.20033970428817885,
            -0.1017774777266943,
            -0.16236255032749625,
            -0.23160858673351392,
            -0.15180794670001443,
            -0.31164949395462876,
            -0.15016336232826205,
            -0.15295137448582702,
            -0.3238373538506586,
            -0.156840308371763,
            -0.15464510685142976,
            -0.15197554995460671,
            -0.1595923098641783,
            -0.20401798710277935,
            -0.2538012356896737,
            -0.2063885140034778,
            -0.31796907175871403,
            -0.20236697341630883,
            -0.3350347048185878,
            -0.17900623109202854,
            -0.2567829652290476,
            -0.3634953256658122
           ]
          },
          {
           "label": "Recreation",
           "values": [
            1,
            1,
            0.9642857142857143,
            1,
            0.9642857142857143,
            0.9285714285714286,
            1,
            0.9642857142857143,
            0.8214285714285714,
            1,
            0.9285714285714286,
            0.9642857142857143,
            1,
            1,
            1,
            1,
            0.9642857142857143,
            1,
            0.9642857142857143,
            0.9285714285714286,
            0.9285714285714286,
            0.8928571428571429,
            0.8571428571428572,
            0.8928571428571429,
            0.9642857142857143,
            0.9285714285714286,
            1,
            0.8571428571428572,
            1,
            0.8928571428571429,
            0.8928571428571429,
            0.8928571428571429,
            1,
            1,
            0.8571428571428572,
            0.8214285714285714,
            0.9642857142857143,
            0.8928571428571429,
            1,
            0.9285714285714286,
            0.8571428571428572,
            0.9285714285714286,
            0.9642857142857143,
            0.9285714285714286,
            0.9642857142857143,
            0.9285714285714286,
            1,
            1,
            0.9642857142857143,
            0.9285714285714286,
            0.9285714285714286,
            0.9285714285714286,
            0.9285714285714286,
            1,
            1,
            0.9285714285714286,
            1,
            1,
            0.9642857142857143,
            0.9642857142857143,
            0.8571428571428572,
            0.8928571428571429,
            1,
            0.9642857142857143,
            0.8928571428571429,
            0.8928571428571429,
            1
           ]
          }
         ],
         "domain": {
          "x": [
           0,
           1
          ],
          "y": [
           0,
           1
          ]
         },
         "line": {
          "color": [
           11.085042459445663,
           9.521154161685349,
           8.596015976734323,
           10.10385648105055,
           10.95963845427792,
           8.508377860158907,
           9.14870190803677,
           11.219184480793169,
           8.931061458317865,
           11.235799510048228,
           10.471630611349518,
           8.076135255509902,
           12.809315974242908,
           12.18320009474098,
           8.290962713633975,
           10.303928152278477,
           23.781161333774957,
           61.75210409155643,
           11.640761504096673,
           8.851168755701458,
           8.159482192034265,
           10.910002775330732,
           10.585025902672596,
           26.964131721405323,
           12.873054467326611,
           14.252125517121907,
           23.313049061982923,
           8.65317201166962,
           65.49387714177554,
           12.692885383783167,
           8.95648344738002,
           13.680617220071937,
           21.72193628058347,
           10.959420899150082,
           8.762374745320386,
           7.356171092986873,
           21.866840865029193,
           7.566646597778166,
           10.915855354524004,
           7.959043064025386,
           26.532377320516314,
           13.283666761784536,
           26.28268719449595,
           10.55675452355283,
           15.24892002569346,
           13.987780278485173,
           60.582813604081586,
           19.980064693708503,
           11.04963454861534,
           27.804218689992616,
           7.910486947700479,
           22.57353576294313,
           22.667843790381315,
           8.446988326160362,
           24.33703435361254,
           24.691222078278102,
           22.979285567530077,
           24.367821672953415,
           17.750903015021567,
           10.8382420266656,
           12.880009333811312,
           7.930789648330904,
           14.075041166912108,
           8.433125286283085,
           18.27528657372592,
           10.704927140684436,
           7.868008993551076
          ],
          "coloraxis": "coloraxis"
         },
         "name": "",
         "type": "parcoords"
        }
       ],
       "layout": {
        "coloraxis": {
         "colorbar": {
          "title": {
           "text": "Hydropower"
          }
         },
         "colorscale": [
          [
           0,
           "#0d0887"
          ],
          [
           0.1111111111111111,
           "#46039f"
          ],
          [
           0.2222222222222222,
           "#7201a8"
          ],
          [
           0.3333333333333333,
           "#9c179e"
          ],
          [
           0.4444444444444444,
           "#bd3786"
          ],
          [
           0.5555555555555556,
           "#d8576b"
          ],
          [
           0.6666666666666666,
           "#ed7953"
          ],
          [
           0.7777777777777778,
           "#fb9f3a"
          ],
          [
           0.8888888888888888,
           "#fdca26"
          ],
          [
           1,
           "#f0f921"
          ]
         ]
        },
        "legend": {
         "tracegroupgap": 0
        },
        "margin": {
         "t": 60
        },
        "template": {
         "data": {
          "bar": [
           {
            "error_x": {
             "color": "#2a3f5f"
            },
            "error_y": {
             "color": "#2a3f5f"
            },
            "marker": {
             "line": {
              "color": "#E5ECF6",
              "width": 0.5
             },
             "pattern": {
              "fillmode": "overlay",
              "size": 10,
              "solidity": 0.2
             }
            },
            "type": "bar"
           }
          ],
          "barpolar": [
           {
            "marker": {
             "line": {
              "color": "#E5ECF6",
              "width": 0.5
             },
             "pattern": {
              "fillmode": "overlay",
              "size": 10,
              "solidity": 0.2
             }
            },
            "type": "barpolar"
           }
          ],
          "carpet": [
           {
            "aaxis": {
             "endlinecolor": "#2a3f5f",
             "gridcolor": "white",
             "linecolor": "white",
             "minorgridcolor": "white",
             "startlinecolor": "#2a3f5f"
            },
            "baxis": {
             "endlinecolor": "#2a3f5f",
             "gridcolor": "white",
             "linecolor": "white",
             "minorgridcolor": "white",
             "startlinecolor": "#2a3f5f"
            },
            "type": "carpet"
           }
          ],
          "choropleth": [
           {
            "colorbar": {
             "outlinewidth": 0,
             "ticks": ""
            },
            "type": "choropleth"
           }
          ],
          "contour": [
           {
            "colorbar": {
             "outlinewidth": 0,
             "ticks": ""
            },
            "colorscale": [
             [
              0,
              "#0d0887"
             ],
             [
              0.1111111111111111,
              "#46039f"
             ],
             [
              0.2222222222222222,
              "#7201a8"
             ],
             [
              0.3333333333333333,
              "#9c179e"
             ],
             [
              0.4444444444444444,
              "#bd3786"
             ],
             [
              0.5555555555555556,
              "#d8576b"
             ],
             [
              0.6666666666666666,
              "#ed7953"
             ],
             [
              0.7777777777777778,
              "#fb9f3a"
             ],
             [
              0.8888888888888888,
              "#fdca26"
             ],
             [
              1,
              "#f0f921"
             ]
            ],
            "type": "contour"
           }
          ],
          "contourcarpet": [
           {
            "colorbar": {
             "outlinewidth": 0,
             "ticks": ""
            },
            "type": "contourcarpet"
           }
          ],
          "heatmap": [
           {
            "colorbar": {
             "outlinewidth": 0,
             "ticks": ""
            },
            "colorscale": [
             [
              0,
              "#0d0887"
             ],
             [
              0.1111111111111111,
              "#46039f"
             ],
             [
              0.2222222222222222,
              "#7201a8"
             ],
             [
              0.3333333333333333,
              "#9c179e"
             ],
             [
              0.4444444444444444,
              "#bd3786"
             ],
             [
              0.5555555555555556,
              "#d8576b"
             ],
             [
              0.6666666666666666,
              "#ed7953"
             ],
             [
              0.7777777777777778,
              "#fb9f3a"
             ],
             [
              0.8888888888888888,
              "#fdca26"
             ],
             [
              1,
              "#f0f921"
             ]
            ],
            "type": "heatmap"
           }
          ],
          "heatmapgl": [
           {
            "colorbar": {
             "outlinewidth": 0,
             "ticks": ""
            },
            "colorscale": [
             [
              0,
              "#0d0887"
             ],
             [
              0.1111111111111111,
              "#46039f"
             ],
             [
              0.2222222222222222,
              "#7201a8"
             ],
             [
              0.3333333333333333,
              "#9c179e"
             ],
             [
              0.4444444444444444,
              "#bd3786"
             ],
             [
              0.5555555555555556,
              "#d8576b"
             ],
             [
              0.6666666666666666,
              "#ed7953"
             ],
             [
              0.7777777777777778,
              "#fb9f3a"
             ],
             [
              0.8888888888888888,
              "#fdca26"
             ],
             [
              1,
              "#f0f921"
             ]
            ],
            "type": "heatmapgl"
           }
          ],
          "histogram": [
           {
            "marker": {
             "pattern": {
              "fillmode": "overlay",
              "size": 10,
              "solidity": 0.2
             }
            },
            "type": "histogram"
           }
          ],
          "histogram2d": [
           {
            "colorbar": {
             "outlinewidth": 0,
             "ticks": ""
            },
            "colorscale": [
             [
              0,
              "#0d0887"
             ],
             [
              0.1111111111111111,
              "#46039f"
             ],
             [
              0.2222222222222222,
              "#7201a8"
             ],
             [
              0.3333333333333333,
              "#9c179e"
             ],
             [
              0.4444444444444444,
              "#bd3786"
             ],
             [
              0.5555555555555556,
              "#d8576b"
             ],
             [
              0.6666666666666666,
              "#ed7953"
             ],
             [
              0.7777777777777778,
              "#fb9f3a"
             ],
             [
              0.8888888888888888,
              "#fdca26"
             ],
             [
              1,
              "#f0f921"
             ]
            ],
            "type": "histogram2d"
           }
          ],
          "histogram2dcontour": [
           {
            "colorbar": {
             "outlinewidth": 0,
             "ticks": ""
            },
            "colorscale": [
             [
              0,
              "#0d0887"
             ],
             [
              0.1111111111111111,
              "#46039f"
             ],
             [
              0.2222222222222222,
              "#7201a8"
             ],
             [
              0.3333333333333333,
              "#9c179e"
             ],
             [
              0.4444444444444444,
              "#bd3786"
             ],
             [
              0.5555555555555556,
              "#d8576b"
             ],
             [
              0.6666666666666666,
              "#ed7953"
             ],
             [
              0.7777777777777778,
              "#fb9f3a"
             ],
             [
              0.8888888888888888,
              "#fdca26"
             ],
             [
              1,
              "#f0f921"
             ]
            ],
            "type": "histogram2dcontour"
           }
          ],
          "mesh3d": [
           {
            "colorbar": {
             "outlinewidth": 0,
             "ticks": ""
            },
            "type": "mesh3d"
           }
          ],
          "parcoords": [
           {
            "line": {
             "colorbar": {
              "outlinewidth": 0,
              "ticks": ""
             }
            },
            "type": "parcoords"
           }
          ],
          "pie": [
           {
            "automargin": true,
            "type": "pie"
           }
          ],
          "scatter": [
           {
            "marker": {
             "colorbar": {
              "outlinewidth": 0,
              "ticks": ""
             }
            },
            "type": "scatter"
           }
          ],
          "scatter3d": [
           {
            "line": {
             "colorbar": {
              "outlinewidth": 0,
              "ticks": ""
             }
            },
            "marker": {
             "colorbar": {
              "outlinewidth": 0,
              "ticks": ""
             }
            },
            "type": "scatter3d"
           }
          ],
          "scattercarpet": [
           {
            "marker": {
             "colorbar": {
              "outlinewidth": 0,
              "ticks": ""
             }
            },
            "type": "scattercarpet"
           }
          ],
          "scattergeo": [
           {
            "marker": {
             "colorbar": {
              "outlinewidth": 0,
              "ticks": ""
             }
            },
            "type": "scattergeo"
           }
          ],
          "scattergl": [
           {
            "marker": {
             "colorbar": {
              "outlinewidth": 0,
              "ticks": ""
             }
            },
            "type": "scattergl"
           }
          ],
          "scattermapbox": [
           {
            "marker": {
             "colorbar": {
              "outlinewidth": 0,
              "ticks": ""
             }
            },
            "type": "scattermapbox"
           }
          ],
          "scatterpolar": [
           {
            "marker": {
             "colorbar": {
              "outlinewidth": 0,
              "ticks": ""
             }
            },
            "type": "scatterpolar"
           }
          ],
          "scatterpolargl": [
           {
            "marker": {
             "colorbar": {
              "outlinewidth": 0,
              "ticks": ""
             }
            },
            "type": "scatterpolargl"
           }
          ],
          "scatterternary": [
           {
            "marker": {
             "colorbar": {
              "outlinewidth": 0,
              "ticks": ""
             }
            },
            "type": "scatterternary"
           }
          ],
          "surface": [
           {
            "colorbar": {
             "outlinewidth": 0,
             "ticks": ""
            },
            "colorscale": [
             [
              0,
              "#0d0887"
             ],
             [
              0.1111111111111111,
              "#46039f"
             ],
             [
              0.2222222222222222,
              "#7201a8"
             ],
             [
              0.3333333333333333,
              "#9c179e"
             ],
             [
              0.4444444444444444,
              "#bd3786"
             ],
             [
              0.5555555555555556,
              "#d8576b"
             ],
             [
              0.6666666666666666,
              "#ed7953"
             ],
             [
              0.7777777777777778,
              "#fb9f3a"
             ],
             [
              0.8888888888888888,
              "#fdca26"
             ],
             [
              1,
              "#f0f921"
             ]
            ],
            "type": "surface"
           }
          ],
          "table": [
           {
            "cells": {
             "fill": {
              "color": "#EBF0F8"
             },
             "line": {
              "color": "white"
             }
            },
            "header": {
             "fill": {
              "color": "#C8D4E3"
             },
             "line": {
              "color": "white"
             }
            },
            "type": "table"
           }
          ]
         },
         "layout": {
          "annotationdefaults": {
           "arrowcolor": "#2a3f5f",
           "arrowhead": 0,
           "arrowwidth": 1
          },
          "autotypenumbers": "strict",
          "coloraxis": {
           "colorbar": {
            "outlinewidth": 0,
            "ticks": ""
           }
          },
          "colorscale": {
           "diverging": [
            [
             0,
             "#8e0152"
            ],
            [
             0.1,
             "#c51b7d"
            ],
            [
             0.2,
             "#de77ae"
            ],
            [
             0.3,
             "#f1b6da"
            ],
            [
             0.4,
             "#fde0ef"
            ],
            [
             0.5,
             "#f7f7f7"
            ],
            [
             0.6,
             "#e6f5d0"
            ],
            [
             0.7,
             "#b8e186"
            ],
            [
             0.8,
             "#7fbc41"
            ],
            [
             0.9,
             "#4d9221"
            ],
            [
             1,
             "#276419"
            ]
           ],
           "sequential": [
            [
             0,
             "#0d0887"
            ],
            [
             0.1111111111111111,
             "#46039f"
            ],
            [
             0.2222222222222222,
             "#7201a8"
            ],
            [
             0.3333333333333333,
             "#9c179e"
            ],
            [
             0.4444444444444444,
             "#bd3786"
            ],
            [
             0.5555555555555556,
             "#d8576b"
            ],
            [
             0.6666666666666666,
             "#ed7953"
            ],
            [
             0.7777777777777778,
             "#fb9f3a"
            ],
            [
             0.8888888888888888,
             "#fdca26"
            ],
            [
             1,
             "#f0f921"
            ]
           ],
           "sequentialminus": [
            [
             0,
             "#0d0887"
            ],
            [
             0.1111111111111111,
             "#46039f"
            ],
            [
             0.2222222222222222,
             "#7201a8"
            ],
            [
             0.3333333333333333,
             "#9c179e"
            ],
            [
             0.4444444444444444,
             "#bd3786"
            ],
            [
             0.5555555555555556,
             "#d8576b"
            ],
            [
             0.6666666666666666,
             "#ed7953"
            ],
            [
             0.7777777777777778,
             "#fb9f3a"
            ],
            [
             0.8888888888888888,
             "#fdca26"
            ],
            [
             1,
             "#f0f921"
            ]
           ]
          },
          "colorway": [
           "#636efa",
           "#EF553B",
           "#00cc96",
           "#ab63fa",
           "#FFA15A",
           "#19d3f3",
           "#FF6692",
           "#B6E880",
           "#FF97FF",
           "#FECB52"
          ],
          "font": {
           "color": "#2a3f5f"
          },
          "geo": {
           "bgcolor": "white",
           "lakecolor": "white",
           "landcolor": "#E5ECF6",
           "showlakes": true,
           "showland": true,
           "subunitcolor": "white"
          },
          "hoverlabel": {
           "align": "left"
          },
          "hovermode": "closest",
          "mapbox": {
           "style": "light"
          },
          "paper_bgcolor": "white",
          "plot_bgcolor": "#E5ECF6",
          "polar": {
           "angularaxis": {
            "gridcolor": "white",
            "linecolor": "white",
            "ticks": ""
           },
           "bgcolor": "#E5ECF6",
           "radialaxis": {
            "gridcolor": "white",
            "linecolor": "white",
            "ticks": ""
           }
          },
          "scene": {
           "xaxis": {
            "backgroundcolor": "#E5ECF6",
            "gridcolor": "white",
            "gridwidth": 2,
            "linecolor": "white",
            "showbackground": true,
            "ticks": "",
            "zerolinecolor": "white"
           },
           "yaxis": {
            "backgroundcolor": "#E5ECF6",
            "gridcolor": "white",
            "gridwidth": 2,
            "linecolor": "white",
            "showbackground": true,
            "ticks": "",
            "zerolinecolor": "white"
           },
           "zaxis": {
            "backgroundcolor": "#E5ECF6",
            "gridcolor": "white",
            "gridwidth": 2,
            "linecolor": "white",
            "showbackground": true,
            "ticks": "",
            "zerolinecolor": "white"
           }
          },
          "shapedefaults": {
           "line": {
            "color": "#2a3f5f"
           }
          },
          "ternary": {
           "aaxis": {
            "gridcolor": "white",
            "linecolor": "white",
            "ticks": ""
           },
           "baxis": {
            "gridcolor": "white",
            "linecolor": "white",
            "ticks": ""
           },
           "bgcolor": "#E5ECF6",
           "caxis": {
            "gridcolor": "white",
            "linecolor": "white",
            "ticks": ""
           }
          },
          "title": {
           "x": 0.05
          },
          "xaxis": {
           "automargin": true,
           "gridcolor": "white",
           "linecolor": "white",
           "ticks": "",
           "title": {
            "standoff": 15
           },
           "zerolinecolor": "white",
           "zerolinewidth": 2
          },
          "yaxis": {
           "automargin": true,
           "gridcolor": "white",
           "linecolor": "white",
           "ticks": "",
           "title": {
            "standoff": 15
           },
           "zerolinecolor": "white",
           "zerolinewidth": 2
          }
         }
        }
       }
      },
      "text/html": [
       "<div>                            <div id=\"844f4316-347b-474d-9f44-254c6fe31fa1\" class=\"plotly-graph-div\" style=\"height:525px; width:100%;\"></div>            <script type=\"text/javascript\">                require([\"plotly\"], function(Plotly) {                    window.PLOTLYENV=window.PLOTLYENV || {};                                    if (document.getElementById(\"844f4316-347b-474d-9f44-254c6fe31fa1\")) {                    Plotly.newPlot(                        \"844f4316-347b-474d-9f44-254c6fe31fa1\",                        [{\"dimensions\":[{\"label\":\"Hydropower\",\"values\":[11.085042459445663,9.521154161685349,8.596015976734323,10.10385648105055,10.95963845427792,8.508377860158907,9.14870190803677,11.219184480793169,8.931061458317865,11.235799510048228,10.471630611349518,8.076135255509902,12.809315974242908,12.18320009474098,8.290962713633975,10.303928152278477,23.781161333774957,61.75210409155643,11.640761504096673,8.851168755701458,8.159482192034265,10.910002775330732,10.585025902672596,26.964131721405323,12.873054467326611,14.252125517121907,23.313049061982923,8.65317201166962,65.49387714177554,12.692885383783167,8.95648344738002,13.680617220071937,21.72193628058347,10.959420899150082,8.762374745320386,7.356171092986873,21.866840865029193,7.566646597778166,10.915855354524004,7.959043064025386,26.532377320516314,13.283666761784536,26.28268719449595,10.55675452355283,15.24892002569346,13.987780278485173,60.582813604081586,19.980064693708503,11.04963454861534,27.804218689992616,7.910486947700479,22.57353576294313,22.667843790381315,8.446988326160362,24.33703435361254,24.691222078278102,22.979285567530077,24.367821672953415,17.750903015021567,10.8382420266656,12.880009333811312,7.930789648330904,14.075041166912108,8.433125286283085,18.27528657372592,10.704927140684436,7.868008993551076]},{\"label\":\"AtomicPowerplant\",\"values\":[0.1627968288436509,0.13414006212778784,0.06858142711353268,0.12404570681367073,0.5847813517231905,0.07018551820909985,0.25510018233555926,0.3135562233639543,0.17221563782659133,0.32165233064362336,0.5106794773073488,0.10605448697740115,0.48273448650263273,0.2562397159256738,0.34088289898527724,0.4974178699867696,0.6171766039600878,0.671663853284613,0.4605476101233379,0.06717531928036974,0.15985872155721692,0.35536966066606285,0.4634427939886149,0.5971777312216174,0.19075439469959385,0.5592889430307438,0.5738986463167376,0.33530486769294027,0.6570531127759877,0.2373123018622095,0.13969786792655864,0.3210075620152175,0.5970800900121989,0.44312499850839,0.17668051817584451,0.268331042230333,0.635636145009663,0.013989026796436889,0.1615375944887085,0.20064659215479724,0.5710649612762667,0.36985732759346185,0.553407196794485,0.2725979864757474,0.3950396235022825,0.6013404388228698,0.6739545026620076,0.44660960688341683,0.20878219335082457,0.4002085549703722,0.34338538109617855,0.4552714558392733,0.6292224062057885,0.2765491918886793,0.5405183657761361,0.568865592944695,0.6086539296634796,0.578234349905043,0.3070500593589687,0.31901684514613904,0.2976728878568088,0.30061439453680705,0.5476852170471904,0.14624849341811447,0.5831318378311751,0.18530829462685947,0.014807516149141924]},{\"label\":\"Baltimore\",\"values\":[0.12455988492745905,0.10480597702937952,0.046469071874426955,0.0776136085139481,0.29848721221832397,0.05057944317083773,0.23487154269658345,0.27039416717744374,0.25879607439290053,0.35819653503351084,0.2824143579079406,0.12137978814283773,0.2560446052582748,0.35038547148351556,0.20183073633043475,0.37393982205081144,0.27996888563084654,0.578931959923093,0.32984242367558775,0.1773680065333797,0.14522630184159774,0.226458456256523,0.33188967018195203,0.35394234060273083,0.4185896101610319,0.29105065224845117,0.43059070916988945,0.14202164312975335,0.551002296866162,0.4180470125352873,0.08778031629748234,0.22332438939025756,0.4382612190653436,0.3149798937170468,0.0731267431822241,0.2276047032054396,0.4281181367258341,0.012308024246285836,0.2065583828839493,0.1786331593386529,0.35482137744038794,0.2777322554470853,0.45870916104729703,0.18672132591766158,0.3627180765751651,0.3631211364538494,0.5879392122976876,0.4606962929871833,0.1008534967466447,0.4206665104621248,0.10738322723743776,0.4583227399678501,0.2559732328547145,0.1883268221119191,0.3373942980512431,0.3297331421725047,0.375086369756151,0.33585201940705395,0.18011299377537696,0.14223308673524657,0.3653088441210753,0.16065827914513559,0.20025931137041403,0.20267042871890878,0.4596468504234825,0.1520657737095647,0.01454140776245227]},{\"label\":\"Chester\",\"values\":[0.15296098276710338,0.11740645323481887,0.05269454307920077,0.10047195458044302,0.20675006885546568,0.05581192565273249,0.18985921820556428,0.2146739842048674,0.22629186446159621,0.3044421543513082,0.3844179409404524,0.1452761132304009,0.26185034003925095,0.30994458968781397,0.12415115210741695,0.3227319633547086,0.492165092262811,0.5887024946071379,0.30946196806741305,0.30106810643316984,0.2032278766182405,0.27553883655816763,0.09293923794106893,0.3283845280275802,0.2743158637939209,0.37064136009855647,0.28101830706153624,0.1337752903849689,0.5537912937764549,0.15630392131514492,0.37858094890755634,0.483282688889179,0.43254162658718043,0.2774713346430485,0.2215391628576915,0.3177550866188264,0.5214703152306142,0.011967145132100829,0.44996366316014597,0.2773294722110187,0.43217243821681417,0.45719124107309117,0.3530265536923069,0.26797559033657664,0.30007417532326885,0.4123977203024197,0.6001416870887302,0.4057921844490117,0.45200293965880123,0.34413839997492074,0.15913364262410826,0.4028050091980837,0.5258189128538083,0.30991387014575594,0.4097873801649014,0.41200409931886767,0.46725381928985005,0.373831744860419,0.32958391271751114,0.30977518968193535,0.4505065441486352,0.22516245386084136,0.3573093264972985,0.2431805554026048,0.5362141858752184,0.4559166539782426,0.00873653677957821]},{\"label\":\"Environment\",\"values\":[-0.2523610314231593,-0.3289645509305118,-0.3531260962044363,-0.30422362652056584,-0.2397290087965832,-0.350949514497273,-0.30268611658731714,-0.25399129683455646,-0.3010612198883401,-0.24465181729005442,-0.2593372971338577,-0.36376084470010894,-0.204629366052755,-0.21527347578751907,-0.31095672124507995,-0.2511409926628171,-0.15233545998467454,-0.1023137654401951,-0.23512087068349005,-0.3050605608119582,-0.35633804397430796,-0.25050492925944473,-0.25093477099397465,-0.1538014231017011,-0.20913860934475983,-0.20493878720781147,-0.16088372453850566,-0.3025366055673352,-0.08933248774525124,-0.21032805809738062,-0.3193042517777372,-0.21597297861520032,-0.15118955020492897,-0.21875246992460626,-0.3285488668554086,-0.3703714018949246,-0.1553859460358194,-0.4021238293806392,-0.24329023160941776,-0.3586508879341286,-0.15610448970544125,-0.20416502312639248,-0.15259400079163815,-0.25189530460436443,-0.20224827696982692,-0.20033970428817885,-0.1017774777266943,-0.16236255032749625,-0.23160858673351392,-0.15180794670001443,-0.31164949395462876,-0.15016336232826205,-0.15295137448582702,-0.3238373538506586,-0.156840308371763,-0.15464510685142976,-0.15197554995460671,-0.1595923098641783,-0.20401798710277935,-0.2538012356896737,-0.2063885140034778,-0.31796907175871403,-0.20236697341630883,-0.3350347048185878,-0.17900623109202854,-0.2567829652290476,-0.3634953256658122]},{\"label\":\"Recreation\",\"values\":[1.0,1.0,0.9642857142857143,1.0,0.9642857142857143,0.9285714285714286,1.0,0.9642857142857143,0.8214285714285714,1.0,0.9285714285714286,0.9642857142857143,1.0,1.0,1.0,1.0,0.9642857142857143,1.0,0.9642857142857143,0.9285714285714286,0.9285714285714286,0.8928571428571429,0.8571428571428572,0.8928571428571429,0.9642857142857143,0.9285714285714286,1.0,0.8571428571428572,1.0,0.8928571428571429,0.8928571428571429,0.8928571428571429,1.0,1.0,0.8571428571428572,0.8214285714285714,0.9642857142857143,0.8928571428571429,1.0,0.9285714285714286,0.8571428571428572,0.9285714285714286,0.9642857142857143,0.9285714285714286,0.9642857142857143,0.9285714285714286,1.0,1.0,0.9642857142857143,0.9285714285714286,0.9285714285714286,0.9285714285714286,0.9285714285714286,1.0,1.0,0.9285714285714286,1.0,1.0,0.9642857142857143,0.9642857142857143,0.8571428571428572,0.8928571428571429,1.0,0.9642857142857143,0.8928571428571429,0.8928571428571429,1.0]}],\"domain\":{\"x\":[0.0,1.0],\"y\":[0.0,1.0]},\"line\":{\"color\":[11.085042459445663,9.521154161685349,8.596015976734323,10.10385648105055,10.95963845427792,8.508377860158907,9.14870190803677,11.219184480793169,8.931061458317865,11.235799510048228,10.471630611349518,8.076135255509902,12.809315974242908,12.18320009474098,8.290962713633975,10.303928152278477,23.781161333774957,61.75210409155643,11.640761504096673,8.851168755701458,8.159482192034265,10.910002775330732,10.585025902672596,26.964131721405323,12.873054467326611,14.252125517121907,23.313049061982923,8.65317201166962,65.49387714177554,12.692885383783167,8.95648344738002,13.680617220071937,21.72193628058347,10.959420899150082,8.762374745320386,7.356171092986873,21.866840865029193,7.566646597778166,10.915855354524004,7.959043064025386,26.532377320516314,13.283666761784536,26.28268719449595,10.55675452355283,15.24892002569346,13.987780278485173,60.582813604081586,19.980064693708503,11.04963454861534,27.804218689992616,7.910486947700479,22.57353576294313,22.667843790381315,8.446988326160362,24.33703435361254,24.691222078278102,22.979285567530077,24.367821672953415,17.750903015021567,10.8382420266656,12.880009333811312,7.930789648330904,14.075041166912108,8.433125286283085,18.27528657372592,10.704927140684436,7.868008993551076],\"coloraxis\":\"coloraxis\"},\"name\":\"\",\"type\":\"parcoords\"}],                        {\"coloraxis\":{\"colorbar\":{\"title\":{\"text\":\"Hydropower\"}},\"colorscale\":[[0.0,\"#0d0887\"],[0.1111111111111111,\"#46039f\"],[0.2222222222222222,\"#7201a8\"],[0.3333333333333333,\"#9c179e\"],[0.4444444444444444,\"#bd3786\"],[0.5555555555555556,\"#d8576b\"],[0.6666666666666666,\"#ed7953\"],[0.7777777777777778,\"#fb9f3a\"],[0.8888888888888888,\"#fdca26\"],[1.0,\"#f0f921\"]]},\"legend\":{\"tracegroupgap\":0},\"margin\":{\"t\":60},\"template\":{\"data\":{\"bar\":[{\"error_x\":{\"color\":\"#2a3f5f\"},\"error_y\":{\"color\":\"#2a3f5f\"},\"marker\":{\"line\":{\"color\":\"#E5ECF6\",\"width\":0.5},\"pattern\":{\"fillmode\":\"overlay\",\"size\":10,\"solidity\":0.2}},\"type\":\"bar\"}],\"barpolar\":[{\"marker\":{\"line\":{\"color\":\"#E5ECF6\",\"width\":0.5},\"pattern\":{\"fillmode\":\"overlay\",\"size\":10,\"solidity\":0.2}},\"type\":\"barpolar\"}],\"carpet\":[{\"aaxis\":{\"endlinecolor\":\"#2a3f5f\",\"gridcolor\":\"white\",\"linecolor\":\"white\",\"minorgridcolor\":\"white\",\"startlinecolor\":\"#2a3f5f\"},\"baxis\":{\"endlinecolor\":\"#2a3f5f\",\"gridcolor\":\"white\",\"linecolor\":\"white\",\"minorgridcolor\":\"white\",\"startlinecolor\":\"#2a3f5f\"},\"type\":\"carpet\"}],\"choropleth\":[{\"colorbar\":{\"outlinewidth\":0,\"ticks\":\"\"},\"type\":\"choropleth\"}],\"contour\":[{\"colorbar\":{\"outlinewidth\":0,\"ticks\":\"\"},\"colorscale\":[[0.0,\"#0d0887\"],[0.1111111111111111,\"#46039f\"],[0.2222222222222222,\"#7201a8\"],[0.3333333333333333,\"#9c179e\"],[0.4444444444444444,\"#bd3786\"],[0.5555555555555556,\"#d8576b\"],[0.6666666666666666,\"#ed7953\"],[0.7777777777777778,\"#fb9f3a\"],[0.8888888888888888,\"#fdca26\"],[1.0,\"#f0f921\"]],\"type\":\"contour\"}],\"contourcarpet\":[{\"colorbar\":{\"outlinewidth\":0,\"ticks\":\"\"},\"type\":\"contourcarpet\"}],\"heatmap\":[{\"colorbar\":{\"outlinewidth\":0,\"ticks\":\"\"},\"colorscale\":[[0.0,\"#0d0887\"],[0.1111111111111111,\"#46039f\"],[0.2222222222222222,\"#7201a8\"],[0.3333333333333333,\"#9c179e\"],[0.4444444444444444,\"#bd3786\"],[0.5555555555555556,\"#d8576b\"],[0.6666666666666666,\"#ed7953\"],[0.7777777777777778,\"#fb9f3a\"],[0.8888888888888888,\"#fdca26\"],[1.0,\"#f0f921\"]],\"type\":\"heatmap\"}],\"heatmapgl\":[{\"colorbar\":{\"outlinewidth\":0,\"ticks\":\"\"},\"colorscale\":[[0.0,\"#0d0887\"],[0.1111111111111111,\"#46039f\"],[0.2222222222222222,\"#7201a8\"],[0.3333333333333333,\"#9c179e\"],[0.4444444444444444,\"#bd3786\"],[0.5555555555555556,\"#d8576b\"],[0.6666666666666666,\"#ed7953\"],[0.7777777777777778,\"#fb9f3a\"],[0.8888888888888888,\"#fdca26\"],[1.0,\"#f0f921\"]],\"type\":\"heatmapgl\"}],\"histogram\":[{\"marker\":{\"pattern\":{\"fillmode\":\"overlay\",\"size\":10,\"solidity\":0.2}},\"type\":\"histogram\"}],\"histogram2d\":[{\"colorbar\":{\"outlinewidth\":0,\"ticks\":\"\"},\"colorscale\":[[0.0,\"#0d0887\"],[0.1111111111111111,\"#46039f\"],[0.2222222222222222,\"#7201a8\"],[0.3333333333333333,\"#9c179e\"],[0.4444444444444444,\"#bd3786\"],[0.5555555555555556,\"#d8576b\"],[0.6666666666666666,\"#ed7953\"],[0.7777777777777778,\"#fb9f3a\"],[0.8888888888888888,\"#fdca26\"],[1.0,\"#f0f921\"]],\"type\":\"histogram2d\"}],\"histogram2dcontour\":[{\"colorbar\":{\"outlinewidth\":0,\"ticks\":\"\"},\"colorscale\":[[0.0,\"#0d0887\"],[0.1111111111111111,\"#46039f\"],[0.2222222222222222,\"#7201a8\"],[0.3333333333333333,\"#9c179e\"],[0.4444444444444444,\"#bd3786\"],[0.5555555555555556,\"#d8576b\"],[0.6666666666666666,\"#ed7953\"],[0.7777777777777778,\"#fb9f3a\"],[0.8888888888888888,\"#fdca26\"],[1.0,\"#f0f921\"]],\"type\":\"histogram2dcontour\"}],\"mesh3d\":[{\"colorbar\":{\"outlinewidth\":0,\"ticks\":\"\"},\"type\":\"mesh3d\"}],\"parcoords\":[{\"line\":{\"colorbar\":{\"outlinewidth\":0,\"ticks\":\"\"}},\"type\":\"parcoords\"}],\"pie\":[{\"automargin\":true,\"type\":\"pie\"}],\"scatter\":[{\"marker\":{\"colorbar\":{\"outlinewidth\":0,\"ticks\":\"\"}},\"type\":\"scatter\"}],\"scatter3d\":[{\"line\":{\"colorbar\":{\"outlinewidth\":0,\"ticks\":\"\"}},\"marker\":{\"colorbar\":{\"outlinewidth\":0,\"ticks\":\"\"}},\"type\":\"scatter3d\"}],\"scattercarpet\":[{\"marker\":{\"colorbar\":{\"outlinewidth\":0,\"ticks\":\"\"}},\"type\":\"scattercarpet\"}],\"scattergeo\":[{\"marker\":{\"colorbar\":{\"outlinewidth\":0,\"ticks\":\"\"}},\"type\":\"scattergeo\"}],\"scattergl\":[{\"marker\":{\"colorbar\":{\"outlinewidth\":0,\"ticks\":\"\"}},\"type\":\"scattergl\"}],\"scattermapbox\":[{\"marker\":{\"colorbar\":{\"outlinewidth\":0,\"ticks\":\"\"}},\"type\":\"scattermapbox\"}],\"scatterpolar\":[{\"marker\":{\"colorbar\":{\"outlinewidth\":0,\"ticks\":\"\"}},\"type\":\"scatterpolar\"}],\"scatterpolargl\":[{\"marker\":{\"colorbar\":{\"outlinewidth\":0,\"ticks\":\"\"}},\"type\":\"scatterpolargl\"}],\"scatterternary\":[{\"marker\":{\"colorbar\":{\"outlinewidth\":0,\"ticks\":\"\"}},\"type\":\"scatterternary\"}],\"surface\":[{\"colorbar\":{\"outlinewidth\":0,\"ticks\":\"\"},\"colorscale\":[[0.0,\"#0d0887\"],[0.1111111111111111,\"#46039f\"],[0.2222222222222222,\"#7201a8\"],[0.3333333333333333,\"#9c179e\"],[0.4444444444444444,\"#bd3786\"],[0.5555555555555556,\"#d8576b\"],[0.6666666666666666,\"#ed7953\"],[0.7777777777777778,\"#fb9f3a\"],[0.8888888888888888,\"#fdca26\"],[1.0,\"#f0f921\"]],\"type\":\"surface\"}],\"table\":[{\"cells\":{\"fill\":{\"color\":\"#EBF0F8\"},\"line\":{\"color\":\"white\"}},\"header\":{\"fill\":{\"color\":\"#C8D4E3\"},\"line\":{\"color\":\"white\"}},\"type\":\"table\"}]},\"layout\":{\"annotationdefaults\":{\"arrowcolor\":\"#2a3f5f\",\"arrowhead\":0,\"arrowwidth\":1},\"autotypenumbers\":\"strict\",\"coloraxis\":{\"colorbar\":{\"outlinewidth\":0,\"ticks\":\"\"}},\"colorscale\":{\"diverging\":[[0,\"#8e0152\"],[0.1,\"#c51b7d\"],[0.2,\"#de77ae\"],[0.3,\"#f1b6da\"],[0.4,\"#fde0ef\"],[0.5,\"#f7f7f7\"],[0.6,\"#e6f5d0\"],[0.7,\"#b8e186\"],[0.8,\"#7fbc41\"],[0.9,\"#4d9221\"],[1,\"#276419\"]],\"sequential\":[[0.0,\"#0d0887\"],[0.1111111111111111,\"#46039f\"],[0.2222222222222222,\"#7201a8\"],[0.3333333333333333,\"#9c179e\"],[0.4444444444444444,\"#bd3786\"],[0.5555555555555556,\"#d8576b\"],[0.6666666666666666,\"#ed7953\"],[0.7777777777777778,\"#fb9f3a\"],[0.8888888888888888,\"#fdca26\"],[1.0,\"#f0f921\"]],\"sequentialminus\":[[0.0,\"#0d0887\"],[0.1111111111111111,\"#46039f\"],[0.2222222222222222,\"#7201a8\"],[0.3333333333333333,\"#9c179e\"],[0.4444444444444444,\"#bd3786\"],[0.5555555555555556,\"#d8576b\"],[0.6666666666666666,\"#ed7953\"],[0.7777777777777778,\"#fb9f3a\"],[0.8888888888888888,\"#fdca26\"],[1.0,\"#f0f921\"]]},\"colorway\":[\"#636efa\",\"#EF553B\",\"#00cc96\",\"#ab63fa\",\"#FFA15A\",\"#19d3f3\",\"#FF6692\",\"#B6E880\",\"#FF97FF\",\"#FECB52\"],\"font\":{\"color\":\"#2a3f5f\"},\"geo\":{\"bgcolor\":\"white\",\"lakecolor\":\"white\",\"landcolor\":\"#E5ECF6\",\"showlakes\":true,\"showland\":true,\"subunitcolor\":\"white\"},\"hoverlabel\":{\"align\":\"left\"},\"hovermode\":\"closest\",\"mapbox\":{\"style\":\"light\"},\"paper_bgcolor\":\"white\",\"plot_bgcolor\":\"#E5ECF6\",\"polar\":{\"angularaxis\":{\"gridcolor\":\"white\",\"linecolor\":\"white\",\"ticks\":\"\"},\"bgcolor\":\"#E5ECF6\",\"radialaxis\":{\"gridcolor\":\"white\",\"linecolor\":\"white\",\"ticks\":\"\"}},\"scene\":{\"xaxis\":{\"backgroundcolor\":\"#E5ECF6\",\"gridcolor\":\"white\",\"gridwidth\":2,\"linecolor\":\"white\",\"showbackground\":true,\"ticks\":\"\",\"zerolinecolor\":\"white\"},\"yaxis\":{\"backgroundcolor\":\"#E5ECF6\",\"gridcolor\":\"white\",\"gridwidth\":2,\"linecolor\":\"white\",\"showbackground\":true,\"ticks\":\"\",\"zerolinecolor\":\"white\"},\"zaxis\":{\"backgroundcolor\":\"#E5ECF6\",\"gridcolor\":\"white\",\"gridwidth\":2,\"linecolor\":\"white\",\"showbackground\":true,\"ticks\":\"\",\"zerolinecolor\":\"white\"}},\"shapedefaults\":{\"line\":{\"color\":\"#2a3f5f\"}},\"ternary\":{\"aaxis\":{\"gridcolor\":\"white\",\"linecolor\":\"white\",\"ticks\":\"\"},\"baxis\":{\"gridcolor\":\"white\",\"linecolor\":\"white\",\"ticks\":\"\"},\"bgcolor\":\"#E5ECF6\",\"caxis\":{\"gridcolor\":\"white\",\"linecolor\":\"white\",\"ticks\":\"\"}},\"title\":{\"x\":0.05},\"xaxis\":{\"automargin\":true,\"gridcolor\":\"white\",\"linecolor\":\"white\",\"ticks\":\"\",\"title\":{\"standoff\":15},\"zerolinecolor\":\"white\",\"zerolinewidth\":2},\"yaxis\":{\"automargin\":true,\"gridcolor\":\"white\",\"linecolor\":\"white\",\"ticks\":\"\",\"title\":{\"standoff\":15},\"zerolinecolor\":\"white\",\"zerolinewidth\":2}}}},                        {\"responsive\": true}                    ).then(function(){\n",
       "                            \n",
       "var gd = document.getElementById('844f4316-347b-474d-9f44-254c6fe31fa1');\n",
       "var x = new MutationObserver(function (mutations, observer) {{\n",
       "        var display = window.getComputedStyle(gd).display;\n",
       "        if (!display || display === 'none') {{\n",
       "            console.log([gd, 'removed!']);\n",
       "            Plotly.purge(gd);\n",
       "            observer.disconnect();\n",
       "        }}\n",
       "}});\n",
       "\n",
       "// Listen for the removal of the full notebook cells\n",
       "var notebookContainer = gd.closest('#notebook-container');\n",
       "if (notebookContainer) {{\n",
       "    x.observe(notebookContainer, {childList: true});\n",
       "}}\n",
       "\n",
       "// Listen for the clearing of the current output cell\n",
       "var outputEl = gd.closest('.output');\n",
       "if (outputEl) {{\n",
       "    x.observe(outputEl, {childList: true});\n",
       "}}\n",
       "\n",
       "                        })                };                });            </script>        </div>"
      ]
     },
     "metadata": {},
     "output_type": "display_data"
    }
   ],
   "source": [
    "# https://plotly.com/python/plotly-express/\n",
    "# https://plotly.com/python/parallel-categories-diagram/\n",
    "dfl = []\n",
    "for i in soll:\n",
    "    dfl.append(tuple(i))\n",
    "df = pd.DataFrame(dfl, columns=['Hydropower', 'AtomicPowerplant', 'Baltimore', 'Chester', 'Environment', 'Recreation'])\n",
    "# df['Environment'] = df['Environment'] * -1\n",
    "df = df * -1\n",
    "colors = []\n",
    "for i in range(len(df)):\n",
    "    colors.append(i)\n",
    "# df['solutions'] = colors\n",
    "fig = px.parallel_coordinates(df, color=\"Hydropower\")\n",
    "fig.show()"
   ]
  },
  {
   "cell_type": "code",
   "execution_count": 19,
   "id": "still-illustration",
   "metadata": {},
   "outputs": [
    {
     "ename": "NameError",
     "evalue": "name 'px' is not defined",
     "output_type": "error",
     "traceback": [
      "\u001b[1;31m---------------------------------------------------------------------------\u001b[0m",
      "\u001b[1;31mNameError\u001b[0m                                 Traceback (most recent call last)",
      "\u001b[1;32m<ipython-input-19-4174e26a1429>\u001b[0m in \u001b[0;36m<module>\u001b[1;34m\u001b[0m\n\u001b[0;32m      1\u001b[0m \u001b[1;31m# https://plotly.com/python/splom/\u001b[0m\u001b[1;33m\u001b[0m\u001b[1;33m\u001b[0m\u001b[1;33m\u001b[0m\u001b[0m\n\u001b[1;32m----> 2\u001b[1;33m \u001b[0mfig\u001b[0m \u001b[1;33m=\u001b[0m \u001b[0mpx\u001b[0m\u001b[1;33m.\u001b[0m\u001b[0mscatter_matrix\u001b[0m\u001b[1;33m(\u001b[0m\u001b[0mdf\u001b[0m\u001b[1;33m)\u001b[0m\u001b[1;33m\u001b[0m\u001b[1;33m\u001b[0m\u001b[0m\n\u001b[0m\u001b[0;32m      3\u001b[0m \u001b[0mfig\u001b[0m\u001b[1;33m.\u001b[0m\u001b[0mupdate_traces\u001b[0m\u001b[1;33m(\u001b[0m\u001b[0mdiagonal_visible\u001b[0m\u001b[1;33m=\u001b[0m\u001b[1;32mFalse\u001b[0m\u001b[1;33m)\u001b[0m\u001b[1;33m\u001b[0m\u001b[1;33m\u001b[0m\u001b[0m\n\u001b[0;32m      4\u001b[0m \u001b[0mfig\u001b[0m\u001b[1;33m.\u001b[0m\u001b[0mshow\u001b[0m\u001b[1;33m(\u001b[0m\u001b[1;33m)\u001b[0m\u001b[1;33m\u001b[0m\u001b[1;33m\u001b[0m\u001b[0m\n",
      "\u001b[1;31mNameError\u001b[0m: name 'px' is not defined"
     ]
    }
   ],
   "source": [
    "# https://plotly.com/python/splom/\n",
    "fig = px.scatter_matrix(df)\n",
    "fig.update_traces(diagonal_visible=False)\n",
    "fig.show()"
   ]
  }
 ],
 "metadata": {
  "kernelspec": {
   "display_name": "Python 3.8",
   "language": "python",
   "name": "py38"
  },
  "language_info": {
   "codemirror_mode": {
    "name": "ipython",
    "version": 3
   },
   "file_extension": ".py",
   "mimetype": "text/x-python",
   "name": "python",
   "nbconvert_exporter": "python",
   "pygments_lexer": "ipython3",
   "version": "3.8.8"
  }
 },
 "nbformat": 4,
 "nbformat_minor": 5
}
