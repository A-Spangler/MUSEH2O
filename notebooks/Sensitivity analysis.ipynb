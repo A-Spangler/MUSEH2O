{
 "cells": [
  {
   "cell_type": "code",
   "execution_count": 1,
   "id": "cordless-taxation",
   "metadata": {
    "scrolled": true
   },
   "outputs": [
    {
     "name": "stderr",
     "output_type": "stream",
     "text": [
      "D:\\Applications\\Anaconda3\\envs\\py38\\lib\\site-packages\\ema_workbench\\analysis\\prim.py:30: ImportWarning: altair based interactive inspection not available\n",
      "  warnings.warn((\"altair based interactive \"\n"
     ]
    }
   ],
   "source": [
    "import sys\n",
    "import matplotlib.pyplot as plt\n",
    "import numpy as np\n",
    "import seaborn as sns\n",
    "from ema_workbench.analysis import feature_scoring\n",
    "sys.path.append('..')"
   ]
  },
  {
   "cell_type": "code",
   "execution_count": 10,
   "id": "german-viking",
   "metadata": {},
   "outputs": [],
   "source": [
    "rbfs = ['squared_exponential_rbf',\n",
    "        'gaussian_rbf',\n",
    "        'inverse_quadric_rbf'\n",
    "       ]\n",
    "\n",
    "pareto_sets = {}\n",
    "for name in rbfs:\n",
    "    output_dir = f\"../output/{name}/\"\n",
    "    \n",
    "    results = pd.read_csv(output_dir + '10_solution.csv')\n",
    "    results['environment'] = 1 - results['environment']\n",
    "    \n",
    "    pareto_sets[name] = results\n",
    "    \n",
    "for name in rbfs:\n",
    "    output_dir = f\"../output/{name}/\"\n",
    "    \n",
    "    results = pd.read_csv(output_dir + '10_solution.csv')\n",
    "    results['environment'] = 1 - results['environment']\n",
    "    \n",
    "    pareto_sets[name] = results"
   ]
  },
  {
   "cell_type": "code",
   "execution_count": 11,
   "id": "substantial-session",
   "metadata": {},
   "outputs": [
    {
     "data": {
      "text/html": [
       "<div>\n",
       "<style scoped>\n",
       "    .dataframe tbody tr th:only-of-type {\n",
       "        vertical-align: middle;\n",
       "    }\n",
       "\n",
       "    .dataframe tbody tr th {\n",
       "        vertical-align: top;\n",
       "    }\n",
       "\n",
       "    .dataframe thead th {\n",
       "        text-align: right;\n",
       "    }\n",
       "</style>\n",
       "<table border=\"1\" class=\"dataframe\">\n",
       "  <thead>\n",
       "    <tr style=\"text-align: right;\">\n",
       "      <th></th>\n",
       "      <th>hydropower</th>\n",
       "      <th>atomicpowerplant</th>\n",
       "      <th>baltimore</th>\n",
       "      <th>chester</th>\n",
       "      <th>environment</th>\n",
       "      <th>recreation</th>\n",
       "    </tr>\n",
       "  </thead>\n",
       "  <tbody>\n",
       "    <tr>\n",
       "      <th>0</th>\n",
       "      <td>73.154201</td>\n",
       "      <td>0.778500</td>\n",
       "      <td>0.640140</td>\n",
       "      <td>0.743475</td>\n",
       "      <td>0.913032</td>\n",
       "      <td>1.0</td>\n",
       "    </tr>\n",
       "    <tr>\n",
       "      <th>1</th>\n",
       "      <td>68.964924</td>\n",
       "      <td>0.683074</td>\n",
       "      <td>0.833056</td>\n",
       "      <td>0.702342</td>\n",
       "      <td>0.911085</td>\n",
       "      <td>1.0</td>\n",
       "    </tr>\n",
       "    <tr>\n",
       "      <th>2</th>\n",
       "      <td>61.437643</td>\n",
       "      <td>0.951015</td>\n",
       "      <td>0.312643</td>\n",
       "      <td>0.314327</td>\n",
       "      <td>0.921434</td>\n",
       "      <td>1.0</td>\n",
       "    </tr>\n",
       "    <tr>\n",
       "      <th>3</th>\n",
       "      <td>63.605227</td>\n",
       "      <td>0.866501</td>\n",
       "      <td>0.450539</td>\n",
       "      <td>0.646095</td>\n",
       "      <td>0.922830</td>\n",
       "      <td>1.0</td>\n",
       "    </tr>\n",
       "    <tr>\n",
       "      <th>4</th>\n",
       "      <td>75.002407</td>\n",
       "      <td>0.913329</td>\n",
       "      <td>0.679578</td>\n",
       "      <td>0.797816</td>\n",
       "      <td>0.912618</td>\n",
       "      <td>1.0</td>\n",
       "    </tr>\n",
       "  </tbody>\n",
       "</table>\n",
       "</div>"
      ],
      "text/plain": [
       "   hydropower  atomicpowerplant  baltimore   chester  environment  recreation\n",
       "0   73.154201          0.778500   0.640140  0.743475     0.913032         1.0\n",
       "1   68.964924          0.683074   0.833056  0.702342     0.911085         1.0\n",
       "2   61.437643          0.951015   0.312643  0.314327     0.921434         1.0\n",
       "3   63.605227          0.866501   0.450539  0.646095     0.922830         1.0\n",
       "4   75.002407          0.913329   0.679578  0.797816     0.912618         1.0"
      ]
     },
     "execution_count": 11,
     "metadata": {},
     "output_type": "execute_result"
    }
   ],
   "source": [
    "pareto_sets['squared_exponential_rbf'].head()"
   ]
  },
  {
   "cell_type": "code",
   "execution_count": 3,
   "id": "integral-architecture",
   "metadata": {},
   "outputs": [
    {
     "ename": "TypeError",
     "evalue": "get_feature_scores_all() missing 2 required positional arguments: 'x' and 'y'",
     "output_type": "error",
     "traceback": [
      "\u001b[1;31m---------------------------------------------------------------------------\u001b[0m",
      "\u001b[1;31mTypeError\u001b[0m                                 Traceback (most recent call last)",
      "\u001b[1;32m<ipython-input-3-87e7d0a7e195>\u001b[0m in \u001b[0;36m<module>\u001b[1;34m\u001b[0m\n\u001b[1;32m----> 1\u001b[1;33m \u001b[0mfeature_scoring\u001b[0m\u001b[1;33m.\u001b[0m\u001b[0mget_feature_scores_all\u001b[0m\u001b[1;33m(\u001b[0m\u001b[1;33m)\u001b[0m\u001b[1;33m\u001b[0m\u001b[1;33m\u001b[0m\u001b[0m\n\u001b[0m\u001b[0;32m      2\u001b[0m \u001b[1;33m\u001b[0m\u001b[0m\n\u001b[0;32m      3\u001b[0m \u001b[1;34m\"solutions as x\"\u001b[0m\u001b[1;33m\u001b[0m\u001b[1;33m\u001b[0m\u001b[0m\n\u001b[0;32m      4\u001b[0m \u001b[1;34m\" y needs to be a dict of 1 d numpy arrays (convert dataframe with objectives (dataframe.to_dict))\"\u001b[0m\u001b[1;33m\u001b[0m\u001b[1;33m\u001b[0m\u001b[0m\n\u001b[0;32m      5\u001b[0m \u001b[1;34m\"visualize with seaborn workbench example feature score seaborn heatmap\"\u001b[0m\u001b[1;33m\u001b[0m\u001b[1;33m\u001b[0m\u001b[0m\n",
      "\u001b[1;31mTypeError\u001b[0m: get_feature_scores_all() missing 2 required positional arguments: 'x' and 'y'"
     ]
    }
   ],
   "source": [
    "feature_scoring.get_feature_scores_all()\n",
    "\n",
    "\"solutions as x\"\n",
    "\" y needs to be a dict of 1 d numpy arrays (convert dataframe with objectives (dataframe.to_dict))\"\n",
    "\"visualize with seaborn workbench example feature score seaborn heatmap\""
   ]
  },
  {
   "cell_type": "code",
   "execution_count": null,
   "id": "adequate-eleven",
   "metadata": {},
   "outputs": [],
   "source": [
    "\n",
    "\n",
    "x, outcomes = load_results(fn)\n",
    "\n",
    "# we have timeseries so we need scalars\n",
    "y = {'deceased population': outcomes['deceased population region 1'][:, -1],\n",
    "     'max. infected fraction': np.max(outcomes['infected fraction R1'],\n",
    "                                      axis=1)}\n",
    "\n",
    "scores = feature_scoring.get_feature_scores_all(x, y)\n",
    "sns.heatmap(scores, annot=True, cmap='viridis')\n",
    "plt.show()"
   ]
  }
 ],
 "metadata": {
  "kernelspec": {
   "display_name": "Python 3.8",
   "language": "python",
   "name": "py38"
  },
  "language_info": {
   "codemirror_mode": {
    "name": "ipython",
    "version": 3
   },
   "file_extension": ".py",
   "mimetype": "text/x-python",
   "name": "python",
   "nbconvert_exporter": "python",
   "pygments_lexer": "ipython3",
   "version": "3.8.8"
  }
 },
 "nbformat": 4,
 "nbformat_minor": 5
}
