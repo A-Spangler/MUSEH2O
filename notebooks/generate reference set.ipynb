{
 "cells": [
  {
   "cell_type": "code",
   "execution_count": 1,
   "id": "pediatric-eugene",
   "metadata": {},
   "outputs": [],
   "source": [
    "import pandas as pd\n",
    "import pareto\n",
    "import os\n",
    "from itertools import chain\n",
    "from matplotlib import pyplot as plt"
   ]
  },
  {
   "cell_type": "code",
   "execution_count": 2,
   "id": "painful-alaska",
   "metadata": {},
   "outputs": [
    {
     "name": "stdout",
     "output_type": "stream",
     "text": [
      "Loaded into list 'solutions': SE_100_solution, SE_10_solution, SE_20_solution, SE_30_solution, SE_40_solution, SE_50_solution, SE_60_solution, SE_70_solution, SE_80_solution, SE_90_solution\n"
     ]
    }
   ],
   "source": [
    "# load solutions\n",
    "sollist = []\n",
    "solutions = []\n",
    "for filename in os.listdir('data'):\n",
    "    if filename.endswith('solution.csv'):\n",
    "        sollist.append(filename[:-4])\n",
    "        df_temp = pd.read_csv(f\"data/{filename}\", header=0)\n",
    "        solutions.append(df_temp.values.tolist())\n",
    "solutions = list(chain.from_iterable(solutions))\n",
    "print(f\"Loaded into list 'solutions': {', '.join(sollist)}\")"
   ]
  },
  {
   "cell_type": "code",
   "execution_count": 5,
   "id": "precious-desert",
   "metadata": {},
   "outputs": [],
   "source": [
    "nondominated = pareto.eps_sort([solutions], [0,1,2,3,4,5], [0.5, 0.05, 0.05, 0.05, 0.05, 0.001], maximize=[4])\n",
    "df_nondom = pd.DataFrame(nondominated)\n",
    "df_nondom.to_csv(\"output/refence_set_original.csv\", index=False, header=False)"
   ]
  },
  {
   "cell_type": "code",
   "execution_count": 4,
   "id": "reflected-simpson",
   "metadata": {},
   "outputs": [
    {
     "data": {
      "text/plain": [
       "<AxesSubplot:>"
      ]
     },
     "execution_count": 4,
     "metadata": {},
     "output_type": "execute_result"
    },
    {
     "data": {
      "image/png": "[encoded data removed]",
      "text/plain": [
       "<Figure size 432x288 with 1 Axes>"
      ]
     },
     "metadata": {
      "needs_background": "light"
     },
     "output_type": "display_data"
    },
    {
     "data": {
      "image/png": "[encoded data removed]",
      "text/plain": [
       "<Figure size 432x288 with 1 Axes>"
      ]
     },
     "metadata": {
      "needs_background": "light"
     },
     "output_type": "display_data"
    }
   ],
   "source": [
    "df_nondom = pd.DataFrame(nondominated)\n",
    "df_nondom[[0,1,2,3,5]] = df_nondom[[0,1,2,3,5]] * -1\n",
    "df_nondom[4] = 1 - df_nondom[4]\n",
    "df_nondom.to_csv(\"output/refence_set_for_viz.csv\", index=False, header=False)\n",
    "\n",
    "df_nondom[0].plot.box()\n",
    "df_nondom[[1,2,3,4,5]].plot.box()\n",
    "\n",
    "# print(df_nondom.max())\n",
    "# print(df_nondom.min())"
   ]
  }
 ],
 "metadata": {
  "kernelspec": {
   "display_name": "Python 3.8",
   "language": "python",
   "name": "py38"
  },
  "language_info": {
   "codemirror_mode": {
    "name": "ipython",
    "version": 3
   },
   "file_extension": ".py",
   "mimetype": "text/x-python",
   "name": "python",
   "nbconvert_exporter": "python",
   "pygments_lexer": "ipython3",
   "version": "3.8.8"
  }
 },
 "nbformat": 4,
 "nbformat_minor": 5
}
