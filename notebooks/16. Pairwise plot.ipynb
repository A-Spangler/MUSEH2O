{
 "cells": [
  {
   "cell_type": "code",
   "execution_count": 39,
   "id": "6322c3f4",
   "metadata": {},
   "outputs": [],
   "source": [
    "import sys\n",
    "import os\n",
    "import numpy as np\n",
    "import ema_workbench.analysis.pairs_plotting as pairs\n",
    "import pandas as pd\n",
    "import seaborn as sns\n",
    "import matplotlib.pyplot as plt\n",
    "plt.rcParams['figure.figsize'] = [12, 8]\n",
    "sys.path.append('..')\n",
    "import rbf_functions"
   ]
  },
  {
   "cell_type": "code",
   "execution_count": 2,
   "id": "30c56c0a",
   "metadata": {},
   "outputs": [],
   "source": [
    "rbfs = [rbf_functions.original_rbf,\n",
    "        rbf_functions.squared_exponential_rbf,\n",
    "        rbf_functions.inverse_quadratic_rbf,\n",
    "        rbf_functions.inverse_multiquadric_rbf,\n",
    "        rbf_functions.exponential_rbf,\n",
    "        rbf_functions.matern32_rbf,\n",
    "        rbf_functions.matern52_rbf,\n",
    "       ]"
   ]
  },
  {
   "cell_type": "code",
   "execution_count": 8,
   "id": "372e41d7",
   "metadata": {},
   "outputs": [
    {
     "data": {
      "text/plain": [
       "dict_keys(['original_rbf', 'squared_exponential_rbf', 'inverse_quadratic_rbf', 'inverse_multiquadric_rbf', 'exponential_rbf', 'matern32_rbf', 'matern52_rbf'])"
      ]
     },
     "execution_count": 8,
     "metadata": {},
     "output_type": "execute_result"
    }
   ],
   "source": [
    "# pareto_sets = {}\n",
    "# for entry in rbfs:\n",
    "#     name = entry.__name__\n",
    "#     output_dir = f\"../refsets/\"\n",
    "#     results = pd.read_csv(output_dir + name+ '_refset.csv')\n",
    "#     pareto_sets[name] = results\n",
    "\n",
    "refset = {}\n",
    "varset = {}\n",
    "for entry in rbfs:\n",
    "    name = entry.__name__\n",
    "    # load variables\n",
    "    output_dir = os.path.abspath('../notebooks/refsets/')\n",
    "    for filename in os.listdir(output_dir):\n",
    "        if filename == f'{name}_refset.csv':\n",
    "            df_refs = pd.read_csv(f\"{output_dir}\\{filename}\")\n",
    "            refset[name] = df_refs\n",
    "        elif filename == f'{name}_refset_variables.csv':\n",
    "            df_vars = pd.read_csv(f\"{output_dir}\\{filename}\",header=None)\n",
    "            columnname = [\"c1\",\"r1\",\"c2\",\"r2\",\"c3\",\"r3\",\"c4\",\"r4\",\"c5\",\"r5\",\"c6\",\"r6\",\"c7\",\"r7\",\"c8\",\"r8\",\"w1\",\"w2\",\"w3\",\"w4\",\"w5\",\"w6\",\"w7\",\"w8\",\"w9\",\"w10\",\"w11\",\"w12\",\"w13\",\"w14\",\"w15\",\"w16\"]\n",
    "            df_vars.columns = columnname\n",
    "            varset[name] = df_vars\n",
    "varset.keys()"
   ]
  },
  {
   "cell_type": "code",
   "execution_count": 18,
   "id": "0f629da8",
   "metadata": {},
   "outputs": [],
   "source": [
    "# refset['original_rbf']['hydropower'] = refset['original_rbf']['hydropower']/100"
   ]
  },
  {
   "cell_type": "code",
   "execution_count": 35,
   "id": "ba76a764",
   "metadata": {
    "scrolled": true
   },
   "outputs": [
    {
     "ename": "IndexError",
     "evalue": "too many indices for array: array is 0-dimensional, but 1 were indexed",
     "output_type": "error",
     "traceback": [
      "\u001b[1;31m---------------------------------------------------------------------------\u001b[0m",
      "\u001b[1;31mIndexError\u001b[0m                                Traceback (most recent call last)",
      "\u001b[1;32m<ipython-input-35-405056a27ead>\u001b[0m in \u001b[0;36m<module>\u001b[1;34m\u001b[0m\n\u001b[0;32m      1\u001b[0m \u001b[0mnp\u001b[0m\u001b[1;33m.\u001b[0m\u001b[0masarray\u001b[0m\u001b[1;33m(\u001b[0m\u001b[0mvarset\u001b[0m\u001b[1;33m[\u001b[0m\u001b[1;34m'original_rbf'\u001b[0m\u001b[1;33m]\u001b[0m\u001b[1;33m)\u001b[0m\u001b[1;33m[\u001b[0m\u001b[1;36m0\u001b[0m\u001b[1;33m]\u001b[0m\u001b[1;33m\u001b[0m\u001b[1;33m\u001b[0m\u001b[0m\n\u001b[1;32m----> 2\u001b[1;33m \u001b[0mnp\u001b[0m\u001b[1;33m.\u001b[0m\u001b[0masarray\u001b[0m\u001b[1;33m(\u001b[0m\u001b[0mrefset\u001b[0m\u001b[1;33m[\u001b[0m\u001b[1;34m'original_rbf'\u001b[0m\u001b[1;33m]\u001b[0m\u001b[1;33m.\u001b[0m\u001b[0mto_dict\u001b[0m\u001b[1;33m(\u001b[0m\u001b[1;33m)\u001b[0m\u001b[1;33m)\u001b[0m\u001b[1;33m[\u001b[0m\u001b[1;36m0\u001b[0m\u001b[1;33m]\u001b[0m\u001b[1;33m\u001b[0m\u001b[1;33m\u001b[0m\u001b[0m\n\u001b[0m",
      "\u001b[1;31mIndexError\u001b[0m: too many indices for array: array is 0-dimensional, but 1 were indexed"
     ]
    }
   ],
   "source": [
    "# np.asarray(varset['original_rbf'])[0]\n",
    "# refset['original_rbf'].to_dict()"
   ]
  },
  {
   "cell_type": "code",
   "execution_count": 45,
   "id": "e1b34992",
   "metadata": {
    "scrolled": true
   },
   "outputs": [
    {
     "ename": "AttributeError",
     "evalue": "'dict' object has no attribute 'ndim'",
     "output_type": "error",
     "traceback": [
      "\u001b[1;31m---------------------------------------------------------------------------\u001b[0m",
      "\u001b[1;31mKeyError\u001b[0m                                  Traceback (most recent call last)",
      "\u001b[1;32mD:\\Applications\\Anaconda3\\envs\\py38\\lib\\site-packages\\ema_workbench\\analysis\\plotting_util.py\u001b[0m in \u001b[0;36mdetermine_time_dimension\u001b[1;34m(outcomes)\u001b[0m\n\u001b[0;32m    534\u001b[0m     \u001b[1;32mtry\u001b[0m\u001b[1;33m:\u001b[0m\u001b[1;33m\u001b[0m\u001b[1;33m\u001b[0m\u001b[0m\n\u001b[1;32m--> 535\u001b[1;33m         \u001b[0mtime\u001b[0m \u001b[1;33m=\u001b[0m \u001b[0moutcomes\u001b[0m\u001b[1;33m[\u001b[0m\u001b[1;34m'TIME'\u001b[0m\u001b[1;33m]\u001b[0m\u001b[1;33m\u001b[0m\u001b[1;33m\u001b[0m\u001b[0m\n\u001b[0m\u001b[0;32m    536\u001b[0m         \u001b[0mtime\u001b[0m \u001b[1;33m=\u001b[0m \u001b[0mtime\u001b[0m\u001b[1;33m[\u001b[0m\u001b[1;36m0\u001b[0m\u001b[1;33m,\u001b[0m \u001b[1;33m:\u001b[0m\u001b[1;33m]\u001b[0m\u001b[1;33m\u001b[0m\u001b[1;33m\u001b[0m\u001b[0m\n",
      "\u001b[1;31mKeyError\u001b[0m: 'TIME'",
      "\nDuring handling of the above exception, another exception occurred:\n",
      "\u001b[1;31mAttributeError\u001b[0m                            Traceback (most recent call last)",
      "\u001b[1;32m<ipython-input-45-91470c02ec16>\u001b[0m in \u001b[0;36m<module>\u001b[1;34m\u001b[0m\n\u001b[1;32m----> 1\u001b[1;33m \u001b[0mpairs\u001b[0m\u001b[1;33m.\u001b[0m\u001b[0mpairs_scatter\u001b[0m\u001b[1;33m(\u001b[0m\u001b[0mvarset\u001b[0m\u001b[1;33m[\u001b[0m\u001b[1;34m'original_rbf'\u001b[0m\u001b[1;33m]\u001b[0m\u001b[1;33m,\u001b[0m \u001b[0mrefset\u001b[0m\u001b[1;33m[\u001b[0m\u001b[1;34m'original_rbf'\u001b[0m\u001b[1;33m]\u001b[0m\u001b[1;33m.\u001b[0m\u001b[0mto_dict\u001b[0m\u001b[1;33m(\u001b[0m\u001b[1;33m)\u001b[0m\u001b[1;33m)\u001b[0m\u001b[1;33m\u001b[0m\u001b[1;33m\u001b[0m\u001b[0m\n\u001b[0m",
      "\u001b[1;32mD:\\Applications\\Anaconda3\\envs\\py38\\lib\\site-packages\\ema_workbench\\analysis\\pairs_plotting.py\u001b[0m in \u001b[0;36mpairs_scatter\u001b[1;34m(experiments, outcomes, outcomes_to_show, group_by, grouping_specifiers, ylabels, legend, point_in_time, filter_scalar, **kwargs)\u001b[0m\n\u001b[0;32m    439\u001b[0m     \u001b[0m_logger\u001b[0m\u001b[1;33m.\u001b[0m\u001b[0mdebug\u001b[0m\u001b[1;33m(\u001b[0m\u001b[1;34m\"generating pairwise scatter plot\"\u001b[0m\u001b[1;33m)\u001b[0m\u001b[1;33m\u001b[0m\u001b[1;33m\u001b[0m\u001b[0m\n\u001b[0;32m    440\u001b[0m \u001b[1;33m\u001b[0m\u001b[0m\n\u001b[1;32m--> 441\u001b[1;33m     prepared_data = prepare_pairs_data(experiments, outcomes,\n\u001b[0m\u001b[0;32m    442\u001b[0m                                        \u001b[0moutcomes_to_show\u001b[0m\u001b[1;33m,\u001b[0m \u001b[0mgroup_by\u001b[0m\u001b[1;33m,\u001b[0m\u001b[1;33m\u001b[0m\u001b[1;33m\u001b[0m\u001b[0m\n\u001b[0;32m    443\u001b[0m                                        \u001b[0mgrouping_specifiers\u001b[0m\u001b[1;33m,\u001b[0m \u001b[0mpoint_in_time\u001b[0m\u001b[1;33m,\u001b[0m\u001b[1;33m\u001b[0m\u001b[1;33m\u001b[0m\u001b[0m\n",
      "\u001b[1;32mD:\\Applications\\Anaconda3\\envs\\py38\\lib\\site-packages\\ema_workbench\\analysis\\plotting_util.py\u001b[0m in \u001b[0;36mprepare_pairs_data\u001b[1;34m(experiments, outcomes, outcomes_to_show, group_by, grouping_specifiers, point_in_time, filter_scalar)\u001b[0m\n\u001b[0;32m    678\u001b[0m             \"for pair wise plotting, more than one outcome needs to be provided\")\n\u001b[0;32m    679\u001b[0m \u001b[1;33m\u001b[0m\u001b[0m\n\u001b[1;32m--> 680\u001b[1;33m     outcomes, outcomes_to_show, time, grouping_labels = prepare_data(\n\u001b[0m\u001b[0;32m    681\u001b[0m         experiments, outcomes, outcomes_to_show, group_by, grouping_specifiers, filter_scalar)\n\u001b[0;32m    682\u001b[0m \u001b[1;33m\u001b[0m\u001b[0m\n",
      "\u001b[1;32mD:\\Applications\\Anaconda3\\envs\\py38\\lib\\site-packages\\ema_workbench\\analysis\\plotting_util.py\u001b[0m in \u001b[0;36mprepare_data\u001b[1;34m(experiments, outcomes, outcomes_to_show, group_by, grouping_specifiers, filter_scalar)\u001b[0m\n\u001b[0;32m    722\u001b[0m     \u001b[0moutcomes\u001b[0m \u001b[1;33m=\u001b[0m \u001b[0mcopy\u001b[0m\u001b[1;33m.\u001b[0m\u001b[0mcopy\u001b[0m\u001b[1;33m(\u001b[0m\u001b[0moutcomes\u001b[0m\u001b[1;33m)\u001b[0m\u001b[1;33m\u001b[0m\u001b[1;33m\u001b[0m\u001b[0m\n\u001b[0;32m    723\u001b[0m \u001b[1;33m\u001b[0m\u001b[0m\n\u001b[1;32m--> 724\u001b[1;33m     \u001b[0mtime\u001b[0m\u001b[1;33m,\u001b[0m \u001b[0moutcomes\u001b[0m \u001b[1;33m=\u001b[0m \u001b[0mdetermine_time_dimension\u001b[0m\u001b[1;33m(\u001b[0m\u001b[0moutcomes\u001b[0m\u001b[1;33m)\u001b[0m\u001b[1;33m\u001b[0m\u001b[1;33m\u001b[0m\u001b[0m\n\u001b[0m\u001b[0;32m    725\u001b[0m     \u001b[0mtemp_outcomes\u001b[0m \u001b[1;33m=\u001b[0m \u001b[1;33m{\u001b[0m\u001b[1;33m}\u001b[0m\u001b[1;33m\u001b[0m\u001b[1;33m\u001b[0m\u001b[0m\n\u001b[0;32m    726\u001b[0m \u001b[1;33m\u001b[0m\u001b[0m\n",
      "\u001b[1;32mD:\\Applications\\Anaconda3\\envs\\py38\\lib\\site-packages\\ema_workbench\\analysis\\plotting_util.py\u001b[0m in \u001b[0;36mdetermine_time_dimension\u001b[1;34m(outcomes)\u001b[0m\n\u001b[0;32m    539\u001b[0m         \u001b[0mvalues\u001b[0m \u001b[1;33m=\u001b[0m \u001b[0miter\u001b[0m\u001b[1;33m(\u001b[0m\u001b[0moutcomes\u001b[0m\u001b[1;33m.\u001b[0m\u001b[0mvalues\u001b[0m\u001b[1;33m(\u001b[0m\u001b[1;33m)\u001b[0m\u001b[1;33m)\u001b[0m\u001b[1;33m\u001b[0m\u001b[1;33m\u001b[0m\u001b[0m\n\u001b[0;32m    540\u001b[0m         \u001b[1;32mfor\u001b[0m \u001b[0mvalue\u001b[0m \u001b[1;32min\u001b[0m \u001b[0mvalues\u001b[0m\u001b[1;33m:\u001b[0m\u001b[1;33m\u001b[0m\u001b[1;33m\u001b[0m\u001b[0m\n\u001b[1;32m--> 541\u001b[1;33m             \u001b[1;32mif\u001b[0m \u001b[0mvalue\u001b[0m\u001b[1;33m.\u001b[0m\u001b[0mndim\u001b[0m \u001b[1;33m==\u001b[0m \u001b[1;36m2\u001b[0m\u001b[1;33m:\u001b[0m\u001b[1;33m\u001b[0m\u001b[1;33m\u001b[0m\u001b[0m\n\u001b[0m\u001b[0;32m    542\u001b[0m                 \u001b[0mtime\u001b[0m \u001b[1;33m=\u001b[0m \u001b[0mnp\u001b[0m\u001b[1;33m.\u001b[0m\u001b[0marange\u001b[0m\u001b[1;33m(\u001b[0m\u001b[1;36m0\u001b[0m\u001b[1;33m,\u001b[0m \u001b[0mvalue\u001b[0m\u001b[1;33m.\u001b[0m\u001b[0mshape\u001b[0m\u001b[1;33m[\u001b[0m\u001b[1;36m1\u001b[0m\u001b[1;33m]\u001b[0m\u001b[1;33m)\u001b[0m\u001b[1;33m\u001b[0m\u001b[1;33m\u001b[0m\u001b[0m\n\u001b[0;32m    543\u001b[0m                 \u001b[1;32mbreak\u001b[0m\u001b[1;33m\u001b[0m\u001b[1;33m\u001b[0m\u001b[0m\n",
      "\u001b[1;31mAttributeError\u001b[0m: 'dict' object has no attribute 'ndim'"
     ]
    }
   ],
   "source": [
    "pairs.pairs_scatter(varset['original_rbf'], refset['original_rbf'])"
   ]
  },
  {
   "cell_type": "code",
   "execution_count": null,
   "id": "c227f0d3",
   "metadata": {},
   "outputs": [],
   "source": [
    "#https://github.com/quaquel/EMAworkbench/blob/c9e81d330c0f3b1f8ed5d0184500bd9b367a7326/ema_workbench/analysis/pairs_plotting.py\n",
    "\n",
    "#   Parameters\n",
    "#     ----------\n",
    "#     experiments : DataFrame\n",
    "#     outcomes : dict\n",
    "#     outcomes_to_show : list of str, optional\n",
    "#                        list of outcome of interest you want to plot.\n",
    "#     group_by : str, optional\n",
    "#                name of the column in the cases array to group results by.\n",
    "#                Alternatively, `index` can be used to use indexing arrays as the\n",
    "#                basis for grouping.\n",
    "#     grouping_specifiers : dict, optional\n",
    "#                           dict of categories to be used as a basis for grouping\n",
    "#                           by. Grouping_specifiers is only meaningful if\n",
    "#                           group_by is provided as well. In case of grouping by\n",
    "#                           index, the grouping  specifiers should be in a\n",
    "#                           dictionary where the key denotes the name of the\n",
    "#                           group.\n",
    "#     ylabels : dict, optional\n",
    "#               ylabels is a dictionary with the outcome names as keys, the\n",
    "#               specified values will be used as labels for the y axis.\n",
    "#     legend : bool, optional\n",
    "#              if true, and group_by is given, show a legend.\n",
    "#     point_in_time : float, optional\n",
    "#                     the point in time at which the scatter is to be made. If\n",
    "#                     None is provided (default), the end states are used.\n",
    "#                     point_in_time should be a valid value on time\n",
    "#     filter_scalar: bool, optional\n",
    "#                    remove the non-time-series outcomes. Defaults to True.\n",
    "#     Returns\n",
    "#     -------\n",
    "#     fig : Figure instance\n",
    "#           the figure instance\n",
    "#     axes  : dict\n",
    "#             key is tuple of names of outcomes, value is associated axes\n",
    "#             instance\n",
    "#     .. note:: the current implementation is limited to seven different\n",
    "#               categories in case of column, categories, and/or\n",
    "#               discretesize. This limit is due to the colors specified\n",
    "#               in COLOR_LIST."
   ]
  }
 ],
 "metadata": {
  "kernelspec": {
   "display_name": "Python 3.8",
   "language": "python",
   "name": "py38"
  },
  "language_info": {
   "codemirror_mode": {
    "name": "ipython",
    "version": 3
   },
   "file_extension": ".py",
   "mimetype": "text/x-python",
   "name": "python",
   "nbconvert_exporter": "python",
   "pygments_lexer": "ipython3",
   "version": "3.8.8"
  }
 },
 "nbformat": 4,
 "nbformat_minor": 5
}
