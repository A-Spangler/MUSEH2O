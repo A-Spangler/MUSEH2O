{
 "cells": [
  {
   "cell_type": "code",
   "execution_count": 2,
   "id": "79e55e90",
   "metadata": {},
   "outputs": [],
   "source": [
    "import pandas as pd\n",
    "import pareto\n",
    "import os\n",
    "import sys\n",
    "from itertools import chain\n",
    "from matplotlib import pyplot as plt\n",
    "sys.path.append('..')"
   ]
  },
  {
   "cell_type": "code",
   "execution_count": 3,
   "id": "c018255d",
   "metadata": {},
   "outputs": [],
   "source": [
    "import rbf_functions"
   ]
  },
  {
   "cell_type": "markdown",
   "id": "8e25b4e9",
   "metadata": {},
   "source": [
    "# Load solutions for each RBF for all seeds:"
   ]
  },
  {
   "cell_type": "code",
   "execution_count": 15,
   "id": "dd04af3e",
   "metadata": {},
   "outputs": [
    {
     "name": "stdout",
     "output_type": "stream",
     "text": [
      "Amount of solutions for each RBF:\n",
      "squared_exponential_rbf 8227\n",
      "original_rbf 9273\n",
      "inverse_quadratic_rbf 5385\n",
      "inverse_multiquadric_rbf 6296\n",
      "exponential_rbf 4056\n",
      "matern32_rbf 6266\n",
      "matern52_rbf 4482\n"
     ]
    }
   ],
   "source": [
    "rbfs = [rbf_functions.squared_exponential_rbf,\n",
    "        rbf_functions.original_rbf,\n",
    "        rbf_functions.inverse_quadratic_rbf,\n",
    "        rbf_functions.inverse_multiquadric_rbf,\n",
    "        rbf_functions.exponential_rbf,\n",
    "        rbf_functions.matern32_rbf,\n",
    "        rbf_functions.matern52_rbf,\n",
    "       ]\n",
    "\n",
    "pareto_sets = {}\n",
    "for entry in rbfs:\n",
    "    sollist = []\n",
    "    solutions = []\n",
    "    name = entry.__name__\n",
    "    output_dir = f\"../output/{name}/\"\n",
    "    for filename in os.listdir(output_dir):\n",
    "        if filename.endswith('solution.csv'):\n",
    "            sollist.append(filename[:-4])\n",
    "            df_temp = pd.read_csv(f\"{output_dir}{filename}\", header=0)\n",
    "            solutions.append(df_temp.values.tolist())\n",
    "    pareto_sets[name] = list(chain.from_iterable(solutions))\n",
    "\n",
    "pareto_sets.keys()\n",
    "print(\"Amount of solutions for each RBF:\")\n",
    "for rbf in pareto_sets:\n",
    "    print(rbf, len(pareto_sets[rbf]))\n",
    "# print(f\"Loaded into list 'solutions': {', '.join(sollist)}\")"
   ]
  },
  {
   "cell_type": "markdown",
   "id": "6ac96e0c",
   "metadata": {},
   "source": [
    "# Create reference set for each RBF, and save:"
   ]
  },
  {
   "cell_type": "code",
   "execution_count": 4,
   "id": "cbacd2ba",
   "metadata": {},
   "outputs": [
    {
     "name": "stdout",
     "output_type": "stream",
     "text": [
      "squared_exponential_rbf 8227\n",
      "squared_exponential_rbf 1357\n",
      "original_rbf 9273\n",
      "original_rbf 1514\n",
      "inverse_quadratic_rbf 5385\n",
      "inverse_quadratic_rbf 1266\n",
      "inverse_multiquadric_rbf 6296\n",
      "inverse_multiquadric_rbf 1157\n",
      "exponential_rbf 4056\n",
      "exponential_rbf 946\n",
      "matern32_rbf 6266\n",
      "matern32_rbf 1294\n",
      "matern52_rbf 4482\n",
      "matern52_rbf 857\n"
     ]
    }
   ],
   "source": [
    "reference_sets = {}\n",
    "for rbf in pareto_sets:\n",
    "    print(rbf, len(pareto_sets[rbf]))\n",
    "    nondominated = pareto.eps_sort([pareto_sets[rbf]], [0,1,2,3,4,5], [0.5, 0.05, 0.05, 0.05, 0.001, 0.05], maximize=[0,1,2,3,5])\n",
    "    reference_sets[rbf] = nondominated\n",
    "    df_nondom = pd.DataFrame(nondominated, columns=['hydropower', 'atomicpowerplant', 'baltimore', 'chester', 'environment', 'recreation'])\n",
    "    print(rbf, len(df_nondom))\n",
    "    df_nondom.to_csv(f\"../notebooks/refsets/{rbf}_refset.csv\", index=False, header=True)"
   ]
  },
  {
   "cell_type": "markdown",
   "id": "0c29c0b4",
   "metadata": {},
   "source": [
    "# Find decision variables that belong to the generated refset:"
   ]
  },
  {
   "cell_type": "code",
   "execution_count": 14,
   "id": "32f8f7fd",
   "metadata": {},
   "outputs": [
    {
     "name": "stdout",
     "output_type": "stream",
     "text": [
      "squared_exponential_rbf: 1357\n",
      "original_rbf: 1514\n",
      "inverse_quadratic_rbf: 1262\n",
      "inverse_multiquadric_rbf: 1147\n",
      "exponential_rbf: 945\n",
      "matern32_rbf: 1294\n",
      "matern52_rbf: 857\n"
     ]
    }
   ],
   "source": [
    "for entry in rbfs:\n",
    "    name = entry.__name__\n",
    "\n",
    "    df_ref = pd.read_csv(f\"../refsets/{name}_refset.csv\")\n",
    "    #zip solutions + vars\n",
    "    df_sol = pd.DataFrame(columns=['hydropower', 'atomicpowerplant', 'baltimore', 'chester', 'environment',\n",
    "           'recreation'])\n",
    "    df_var = pd.DataFrame(columns=[ 0,  1,  2,  3,  4,  5,  6,  7,  8,  9, 10, 11, 12, 13, 14, 15, 16,\n",
    "                 17, 18, 19, 20, 21, 22, 23, 24, 25, 26, 27, 28, 29, 30, 31])\n",
    "    #compare to ref set\n",
    "    output_dir = f\"../output/{name}\"\n",
    "    for filename in os.listdir(output_dir):\n",
    "        if filename.startswith(filename[:3]):\n",
    "            #load \n",
    "            if filename.endswith('solution.csv'):\n",
    "                df_ts = pd.read_csv(f\"{output_dir}/{filename}\", header=0)\n",
    "                df_sol = df_sol.append(df_ts, ignore_index=True)\n",
    "            if filename.endswith('variables.csv'):\n",
    "                df_tv = pd.read_csv(f\"{output_dir}/{filename}\", header=None)\n",
    "                df_var = df_var.append(df_tv, ignore_index=True)\n",
    "    #print(f\"{len(df_var)} {len(df_sol)}\")\n",
    "    #match with selected solutions from refset, turn into var.csv\n",
    "    sol = df_sol.values.tolist()\n",
    "    var = df_var.values.tolist()\n",
    "    ref = df_ref.values.tolist()\n",
    "    refvar = []\n",
    "    for idx, value in enumerate(sol):\n",
    "        if sol[idx] in ref:\n",
    "#             refvar.append((var[idx], sol[idx]))\n",
    "            refvar.append(var[idx])\n",
    "    df_refvar = pd.DataFrame(refvar)\n",
    "    print(f\"{name}: {len(df_refvar)}\")\n",
    "    df_refvar.to_csv(f\"../notebooks/refsets/{name}_refset_variables.csv\", index=False, header=False)\n",
    "    "
   ]
  },
  {
   "cell_type": "code",
   "execution_count": 4,
   "id": "5c286aa3",
   "metadata": {},
   "outputs": [
    {
     "data": {
      "text/plain": [
       "1357"
      ]
     },
     "execution_count": 4,
     "metadata": {},
     "output_type": "execute_result"
    }
   ],
   "source": [
    "name='squared_exponential_rbf'\n",
    "df_ref = pd.read_csv(f\"../refsets/{name}_refset.csv\")\n",
    "len(df_ref)"
   ]
  },
  {
   "cell_type": "markdown",
   "id": "17a43c9e",
   "metadata": {},
   "source": [
    "# Generate global reference set for all RBFs:"
   ]
  },
  {
   "cell_type": "code",
   "execution_count": 22,
   "id": "932c6a20",
   "metadata": {},
   "outputs": [
    {
     "name": "stdout",
     "output_type": "stream",
     "text": [
      "squared_exponential_rbf 8227\n",
      "original_rbf 9273\n",
      "inverse_quadratic_rbf 5385\n",
      "inverse_multiquadric_rbf 6296\n",
      "exponential_rbf 4056\n",
      "matern32_rbf 6266\n",
      "matern52_rbf 4482\n",
      "total: 43985\n"
     ]
    },
    {
     "data": {
      "text/plain": [
       "43985"
      ]
     },
     "execution_count": 22,
     "metadata": {},
     "output_type": "execute_result"
    }
   ],
   "source": [
    "x = 0\n",
    "for rbf in pareto_sets:\n",
    "    x += len(pareto_sets[rbf])\n",
    "    print(rbf, len(pareto_sets[rbf]))\n",
    "print(\"total:\", x)\n",
    "    \n",
    "pareto_set = {}\n",
    "sollist = []\n",
    "solutions = []\n",
    "for entry in rbfs:\n",
    "    name = entry.__name__\n",
    "    output_dir = f\"../output/{name}/\"\n",
    "    for filename in os.listdir(output_dir):\n",
    "        if filename.endswith('solution.csv'):\n",
    "            sollist.append(filename[:-4])\n",
    "            df_temp = pd.read_csv(f\"{output_dir}{filename}\", header=0)\n",
    "            solutions.append(df_temp.values.tolist())\n",
    "pareto_set = list(chain.from_iterable(solutions))\n",
    "len(pareto_set)"
   ]
  },
  {
   "cell_type": "code",
   "execution_count": 25,
   "id": "9a64d50b",
   "metadata": {},
   "outputs": [
    {
     "name": "stdout",
     "output_type": "stream",
     "text": [
      "43985\n",
      "1726\n"
     ]
    }
   ],
   "source": [
    "print(len(pareto_set))\n",
    "nondominated = pareto.eps_sort([pareto_set], [0,1,2,3,4,5], [0.5, 0.05, 0.05, 0.05, 0.001, 0.05], maximize=[0,1,2,3,5])\n",
    "df_nondom = pd.DataFrame(nondominated, columns=['hydropower', 'atomicpowerplant', 'baltimore', 'chester', 'environment', 'recreation'])\n",
    "print(len(nondominated))\n",
    "df_nondom.to_csv(f\"../notebooks/nboutput/all_rbf_refset.csv\", index=False, header=True)"
   ]
  },
  {
   "cell_type": "code",
   "execution_count": 1,
   "id": "e27fba8c",
   "metadata": {},
   "outputs": [],
   "source": [
    "# for rbf in reference_sets:\n",
    "#     df_nondom = pd.DataFrame(reference_sets[rbf], columns=['Hydropower', 'Atomic powerplant', 'Baltimore', 'Chester', 'Environment', 'Recreation'])\n",
    "#     df_nondom.iloc[:, 0] = df_nondom.iloc[:, 0] / 100\n",
    "#     df_nondom.iloc[:, 4] = 1 - df_nondom.iloc[:, 4]\n",
    "#     df_nondom.plot.box(rot=45)\n",
    "#     plt.title(rbf)"
   ]
  }
 ],
 "metadata": {
  "kernelspec": {
   "display_name": "Python 3.8",
   "language": "python",
   "name": "py38"
  },
  "language_info": {
   "codemirror_mode": {
    "name": "ipython",
    "version": 3
   },
   "file_extension": ".py",
   "mimetype": "text/x-python",
   "name": "python",
   "nbconvert_exporter": "python",
   "pygments_lexer": "ipython3",
   "version": "3.8.8"
  }
 },
 "nbformat": 4,
 "nbformat_minor": 5
}
