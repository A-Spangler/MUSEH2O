{
 "cells": [
  {
   "cell_type": "code",
   "execution_count": 64,
   "id": "4d9fc7ce-1c08-46f9-8e64-603e7e7e919a",
   "metadata": {},
   "outputs": [],
   "source": [
    "import sys\n",
    "import pandas as pd\n",
    "\n",
    "\n",
    "sys.path.append('..')"
   ]
  },
  {
   "cell_type": "code",
   "execution_count": 65,
   "id": "3bae9f41-4385-45e4-ba03-ae6e04871bbe",
   "metadata": {},
   "outputs": [],
   "source": [
    "import rbf_functions"
   ]
  },
  {
   "cell_type": "code",
   "execution_count": 86,
   "id": "558174f9-2aef-4cd3-af48-693b920d2e9d",
   "metadata": {},
   "outputs": [],
   "source": [
    "rbf = rbf_functions.squared_exponential_rbf.__name__\n",
    "output_dir = f\"../output/{rbf}/\""
   ]
  },
  {
   "cell_type": "code",
   "execution_count": 87,
   "id": "cf29473a-1eba-4085-82fb-6b1280dc8ae6",
   "metadata": {},
   "outputs": [
    {
     "data": {
      "text/html": [
       "<div>\n",
       "<style scoped>\n",
       "    .dataframe tbody tr th:only-of-type {\n",
       "        vertical-align: middle;\n",
       "    }\n",
       "\n",
       "    .dataframe tbody tr th {\n",
       "        vertical-align: top;\n",
       "    }\n",
       "\n",
       "    .dataframe thead th {\n",
       "        text-align: right;\n",
       "    }\n",
       "</style>\n",
       "<table border=\"1\" class=\"dataframe\">\n",
       "  <thead>\n",
       "    <tr style=\"text-align: right;\">\n",
       "      <th></th>\n",
       "      <th>Unnamed: 0</th>\n",
       "      <th>Unnamed: 1</th>\n",
       "      <th>0</th>\n",
       "      <th>1</th>\n",
       "      <th>2</th>\n",
       "      <th>3</th>\n",
       "      <th>4</th>\n",
       "      <th>5</th>\n",
       "    </tr>\n",
       "  </thead>\n",
       "  <tbody>\n",
       "    <tr>\n",
       "      <th>0</th>\n",
       "      <td>100</td>\n",
       "      <td>0</td>\n",
       "      <td>44.992592</td>\n",
       "      <td>0.550813</td>\n",
       "      <td>0.433861</td>\n",
       "      <td>0.318733</td>\n",
       "      <td>0.084848</td>\n",
       "      <td>1.0</td>\n",
       "    </tr>\n",
       "    <tr>\n",
       "      <th>1</th>\n",
       "      <td>100</td>\n",
       "      <td>1</td>\n",
       "      <td>60.084563</td>\n",
       "      <td>0.545179</td>\n",
       "      <td>0.371366</td>\n",
       "      <td>0.321381</td>\n",
       "      <td>0.086085</td>\n",
       "      <td>1.0</td>\n",
       "    </tr>\n",
       "    <tr>\n",
       "      <th>2</th>\n",
       "      <td>100</td>\n",
       "      <td>2</td>\n",
       "      <td>48.581955</td>\n",
       "      <td>0.413513</td>\n",
       "      <td>0.138717</td>\n",
       "      <td>0.391313</td>\n",
       "      <td>0.086462</td>\n",
       "      <td>1.0</td>\n",
       "    </tr>\n",
       "    <tr>\n",
       "      <th>3</th>\n",
       "      <td>100</td>\n",
       "      <td>3</td>\n",
       "      <td>63.179999</td>\n",
       "      <td>0.756636</td>\n",
       "      <td>0.624606</td>\n",
       "      <td>0.292943</td>\n",
       "      <td>0.093695</td>\n",
       "      <td>1.0</td>\n",
       "    </tr>\n",
       "    <tr>\n",
       "      <th>4</th>\n",
       "      <td>100</td>\n",
       "      <td>4</td>\n",
       "      <td>46.308510</td>\n",
       "      <td>0.461344</td>\n",
       "      <td>0.451983</td>\n",
       "      <td>0.351759</td>\n",
       "      <td>0.086511</td>\n",
       "      <td>1.0</td>\n",
       "    </tr>\n",
       "  </tbody>\n",
       "</table>\n",
       "</div>"
      ],
      "text/plain": [
       "   Unnamed: 0  Unnamed: 1          0         1         2         3         4  \\\n",
       "0         100           0  44.992592  0.550813  0.433861  0.318733  0.084848   \n",
       "1         100           1  60.084563  0.545179  0.371366  0.321381  0.086085   \n",
       "2         100           2  48.581955  0.413513  0.138717  0.391313  0.086462   \n",
       "3         100           3  63.179999  0.756636  0.624606  0.292943  0.093695   \n",
       "4         100           4  46.308510  0.461344  0.451983  0.351759  0.086511   \n",
       "\n",
       "     5  \n",
       "0  1.0  \n",
       "1  1.0  \n",
       "2  1.0  \n",
       "3  1.0  \n",
       "4  1.0  "
      ]
     },
     "execution_count": 87,
     "metadata": {},
     "output_type": "execute_result"
    }
   ],
   "source": [
    "archives_by_nfe = pd.read_csv(output_dir + '10_hypervolume.csv')\n",
    "archives_by_nfe.head()"
   ]
  },
  {
   "cell_type": "markdown",
   "id": "94772b1d-96e9-43f5-a54e-752c0953688e",
   "metadata": {},
   "source": [
    "we need to transform the dataframe back into platypus solution instances.\n",
    "\n",
    "We need to have a collection of solutions for each generation\n"
   ]
  },
  {
   "cell_type": "code",
   "execution_count": 88,
   "id": "e21edb9a-53da-40c8-8d85-1ed2a35d2f11",
   "metadata": {},
   "outputs": [],
   "source": [
    "from platypus import Solution, Problem\n",
    "\n",
    "n_rbfs = 4\n",
    "n_objs = 6\n",
    "n_vars = n_rbfs * 8 \n",
    "\n",
    "problem = Problem(n_vars, n_objs)\n",
    "\n",
    "# matters for hypervolume\n",
    "problem.directions[0] = Problem.MAXIMIZE  # hydropower\n",
    "problem.directions[1] = Problem.MAXIMIZE  # atomic power plant\n",
    "problem.directions[2] = Problem.MAXIMIZE  # baltimore\n",
    "problem.directions[3] = Problem.MAXIMIZE  # chester\n",
    "problem.directions[4] = Problem.MINIMIZE  # environment\n",
    "problem.directions[5] = Problem.MAXIMIZE  # recreation\n",
    "\n",
    "archives = {}\n",
    "for nfe, generation in archives_by_nfe.groupby(\"Unnamed: 0\"):\n",
    "    # we slice from 2, getting rid of the first two columns \n",
    "    # which contain the NFE and ID of each solution\n",
    "    archive = []\n",
    "    for i, row in generation.iloc[:, 2::].iterrows():\n",
    "        solution = Solution(problem)\n",
    "        solution.objectives = row\n",
    "        archive.append(solution)\n",
    "    archives[nfe] = archive\n",
    "        \n"
   ]
  },
  {
   "cell_type": "markdown",
   "id": "23d9730f-9c44-4ff5-b51f-b378212ce712",
   "metadata": {},
   "source": [
    "in this case our reference set is the final set of solutions (only a single seed). So let's load this data as well and turn it into a set of solution in the same way as we did with the archives."
   ]
  },
  {
   "cell_type": "code",
   "execution_count": 89,
   "id": "7cd4ba51-4e13-4732-b6d2-78b10962f94a",
   "metadata": {},
   "outputs": [],
   "source": [
    "data = pd.read_csv(output_dir + '10_solution.csv')\n",
    "\n",
    "ref_set = []\n",
    "for i, row in data.iterrows():\n",
    "    solution = Solution(problem)\n",
    "    solution.objectives = row\n",
    "    ref_set.append(solution)\n"
   ]
  },
  {
   "cell_type": "code",
   "execution_count": 90,
   "id": "ee7375d7-69ec-43da-aeb5-5107333bc188",
   "metadata": {},
   "outputs": [
    {
     "data": {
      "text/html": [
       "<div>\n",
       "<style scoped>\n",
       "    .dataframe tbody tr th:only-of-type {\n",
       "        vertical-align: middle;\n",
       "    }\n",
       "\n",
       "    .dataframe tbody tr th {\n",
       "        vertical-align: top;\n",
       "    }\n",
       "\n",
       "    .dataframe thead th {\n",
       "        text-align: right;\n",
       "    }\n",
       "</style>\n",
       "<table border=\"1\" class=\"dataframe\">\n",
       "  <thead>\n",
       "    <tr style=\"text-align: right;\">\n",
       "      <th></th>\n",
       "      <th>hydropower</th>\n",
       "      <th>atomicpowerplant</th>\n",
       "      <th>baltimore</th>\n",
       "      <th>chester</th>\n",
       "      <th>environment</th>\n",
       "      <th>recreation</th>\n",
       "    </tr>\n",
       "  </thead>\n",
       "  <tbody>\n",
       "    <tr>\n",
       "      <th>0</th>\n",
       "      <td>40.306107</td>\n",
       "      <td>0.270484</td>\n",
       "      <td>0.157828</td>\n",
       "      <td>0.189878</td>\n",
       "      <td>0.049489</td>\n",
       "      <td>1.0</td>\n",
       "    </tr>\n",
       "    <tr>\n",
       "      <th>1</th>\n",
       "      <td>79.696679</td>\n",
       "      <td>0.999570</td>\n",
       "      <td>0.916892</td>\n",
       "      <td>0.950486</td>\n",
       "      <td>0.099649</td>\n",
       "      <td>1.0</td>\n",
       "    </tr>\n",
       "  </tbody>\n",
       "</table>\n",
       "</div>"
      ],
      "text/plain": [
       "   hydropower  atomicpowerplant  baltimore   chester  environment  recreation\n",
       "0   40.306107          0.270484   0.157828  0.189878     0.049489         1.0\n",
       "1   79.696679          0.999570   0.916892  0.950486     0.099649         1.0"
      ]
     },
     "execution_count": 90,
     "metadata": {},
     "output_type": "execute_result"
    }
   ],
   "source": [
    "data"
   ]
  },
  {
   "cell_type": "code",
   "execution_count": 91,
   "id": "741e4c7d-50d1-4fe8-819b-12575b971313",
   "metadata": {},
   "outputs": [
    {
     "ename": "PlatypusError",
     "evalue": "objective with empty range",
     "output_type": "error",
     "traceback": [
      "\u001b[0;31m---------------------------------------------------------------------------\u001b[0m",
      "\u001b[0;31mPlatypusError\u001b[0m                             Traceback (most recent call last)",
      "\u001b[0;32m/var/folders/_t/l6cr0r0d1m108xdrmrtz7stsb_csl0/T/ipykernel_51568/2484234948.py\u001b[0m in \u001b[0;36m<module>\u001b[0;34m\u001b[0m\n\u001b[1;32m      1\u001b[0m \u001b[0;32mfrom\u001b[0m \u001b[0mplatypus\u001b[0m \u001b[0;32mimport\u001b[0m \u001b[0mHypervolume\u001b[0m\u001b[0;34m\u001b[0m\u001b[0;34m\u001b[0m\u001b[0m\n\u001b[1;32m      2\u001b[0m \u001b[0;34m\u001b[0m\u001b[0m\n\u001b[0;32m----> 3\u001b[0;31m \u001b[0mhv\u001b[0m \u001b[0;34m=\u001b[0m \u001b[0mHypervolume\u001b[0m\u001b[0;34m(\u001b[0m\u001b[0mreference_set\u001b[0m\u001b[0;34m=\u001b[0m\u001b[0mref_set\u001b[0m\u001b[0;34m)\u001b[0m\u001b[0;34m\u001b[0m\u001b[0;34m\u001b[0m\u001b[0m\n\u001b[0m\u001b[1;32m      4\u001b[0m \u001b[0;34m\u001b[0m\u001b[0m\n\u001b[1;32m      5\u001b[0m \u001b[0mnfes\u001b[0m \u001b[0;34m=\u001b[0m \u001b[0;34m[\u001b[0m\u001b[0;34m]\u001b[0m\u001b[0;34m\u001b[0m\u001b[0;34m\u001b[0m\u001b[0m\n",
      "\u001b[0;32m~/opt/anaconda3/lib/python3.8/site-packages/platypus/indicators.py\u001b[0m in \u001b[0;36m__init__\u001b[0;34m(self, reference_set, minimum, maximum)\u001b[0m\n\u001b[1;32m    112\u001b[0m                 \u001b[0;32mraise\u001b[0m \u001b[0mValueError\u001b[0m\u001b[0;34m(\u001b[0m\u001b[0;34m\"minimum and maximum must not be specified if reference_set is defined\"\u001b[0m\u001b[0;34m)\u001b[0m\u001b[0;34m\u001b[0m\u001b[0;34m\u001b[0m\u001b[0m\n\u001b[1;32m    113\u001b[0m             \u001b[0mself\u001b[0m\u001b[0;34m.\u001b[0m\u001b[0mreference_set\u001b[0m \u001b[0;34m=\u001b[0m \u001b[0;34m[\u001b[0m\u001b[0ms\u001b[0m \u001b[0;32mfor\u001b[0m \u001b[0ms\u001b[0m \u001b[0;32min\u001b[0m \u001b[0mreference_set\u001b[0m \u001b[0;32mif\u001b[0m \u001b[0ms\u001b[0m\u001b[0;34m.\u001b[0m\u001b[0mconstraint_violation\u001b[0m\u001b[0;34m==\u001b[0m\u001b[0;36m0.0\u001b[0m\u001b[0;34m]\u001b[0m\u001b[0;34m\u001b[0m\u001b[0;34m\u001b[0m\u001b[0m\n\u001b[0;32m--> 114\u001b[0;31m             \u001b[0mself\u001b[0m\u001b[0;34m.\u001b[0m\u001b[0mminimum\u001b[0m\u001b[0;34m,\u001b[0m \u001b[0mself\u001b[0m\u001b[0;34m.\u001b[0m\u001b[0mmaximum\u001b[0m \u001b[0;34m=\u001b[0m \u001b[0mnormalize\u001b[0m\u001b[0;34m(\u001b[0m\u001b[0mreference_set\u001b[0m\u001b[0;34m)\u001b[0m\u001b[0;34m\u001b[0m\u001b[0;34m\u001b[0m\u001b[0m\n\u001b[0m\u001b[1;32m    115\u001b[0m         \u001b[0;32melse\u001b[0m\u001b[0;34m:\u001b[0m\u001b[0;34m\u001b[0m\u001b[0;34m\u001b[0m\u001b[0m\n\u001b[1;32m    116\u001b[0m             \u001b[0;32mif\u001b[0m \u001b[0mminimum\u001b[0m \u001b[0;32mis\u001b[0m \u001b[0;32mNone\u001b[0m \u001b[0;32mor\u001b[0m \u001b[0mmaximum\u001b[0m \u001b[0;32mis\u001b[0m \u001b[0;32mNone\u001b[0m\u001b[0;34m:\u001b[0m\u001b[0;34m\u001b[0m\u001b[0;34m\u001b[0m\u001b[0m\n",
      "\u001b[0;32m~/opt/anaconda3/lib/python3.8/site-packages/platypus/core.py\u001b[0m in \u001b[0;36mnormalize\u001b[0;34m(solutions, minimum, maximum)\u001b[0m\n\u001b[1;32m   1238\u001b[0m \u001b[0;34m\u001b[0m\u001b[0m\n\u001b[1;32m   1239\u001b[0m     \u001b[0;32mif\u001b[0m \u001b[0many\u001b[0m\u001b[0;34m(\u001b[0m\u001b[0;34m[\u001b[0m\u001b[0mmaximum\u001b[0m\u001b[0;34m[\u001b[0m\u001b[0mi\u001b[0m\u001b[0;34m]\u001b[0m\u001b[0;34m-\u001b[0m\u001b[0mminimum\u001b[0m\u001b[0;34m[\u001b[0m\u001b[0mi\u001b[0m\u001b[0;34m]\u001b[0m \u001b[0;34m<\u001b[0m \u001b[0mEPSILON\u001b[0m \u001b[0;32mfor\u001b[0m \u001b[0mi\u001b[0m \u001b[0;32min\u001b[0m \u001b[0mrange\u001b[0m\u001b[0;34m(\u001b[0m\u001b[0mproblem\u001b[0m\u001b[0;34m.\u001b[0m\u001b[0mnobjs\u001b[0m\u001b[0;34m)\u001b[0m\u001b[0;34m]\u001b[0m\u001b[0;34m)\u001b[0m\u001b[0;34m:\u001b[0m\u001b[0;34m\u001b[0m\u001b[0;34m\u001b[0m\u001b[0m\n\u001b[0;32m-> 1240\u001b[0;31m         \u001b[0;32mraise\u001b[0m \u001b[0mPlatypusError\u001b[0m\u001b[0;34m(\u001b[0m\u001b[0;34m\"objective with empty range\"\u001b[0m\u001b[0;34m)\u001b[0m\u001b[0;34m\u001b[0m\u001b[0;34m\u001b[0m\u001b[0m\n\u001b[0m\u001b[1;32m   1241\u001b[0m \u001b[0;34m\u001b[0m\u001b[0m\n\u001b[1;32m   1242\u001b[0m     \u001b[0;32mfor\u001b[0m \u001b[0ms\u001b[0m \u001b[0;32min\u001b[0m \u001b[0mfeasible\u001b[0m\u001b[0;34m:\u001b[0m\u001b[0;34m\u001b[0m\u001b[0;34m\u001b[0m\u001b[0m\n",
      "\u001b[0;31mPlatypusError\u001b[0m: objective with empty range"
     ]
    }
   ],
   "source": [
    "from platypus import Hypervolume\n",
    "\n",
    "hv = Hypervolume(reference_set=ref_set)\n",
    "\n",
    "nfes = []\n",
    "hvs = []\n",
    "for nfe, archive in archives.items():\n",
    "    nfes.append(nfe)\n",
    "    hvs.append(hv.calculate(archive))"
   ]
  },
  {
   "cell_type": "code",
   "execution_count": 92,
   "id": "c03d2fe5-2f0e-4bc3-96d8-3d9cb176028d",
   "metadata": {},
   "outputs": [
    {
     "data": {
      "image/png": "[encoded data removed]",
      "text/plain": [
       "<Figure size 864x576 with 1 Axes>"
      ]
     },
     "metadata": {},
     "output_type": "display_data"
    }
   ],
   "source": [
    "import matplotlib.pyplot as plt\n",
    "import seaborn as sns\n",
    "\n",
    "sns.set_style(\"white\")\n",
    "\n",
    "fig, ax = plt.subplots()\n",
    "\n",
    "ax.plot(nfes, hvs)\n",
    "ax.set_xlabel('nfe')\n",
    "ax.set_ylabel('hypervolume')\n",
    "\n",
    "sns.despine()\n",
    "\n",
    "plt.show()"
   ]
  },
  {
   "cell_type": "code",
   "execution_count": 93,
   "id": "3ccc63ac-6a9d-4a3e-a1ce-fab8776e3bf4",
   "metadata": {},
   "outputs": [
    {
     "data": {
      "text/html": [
       "<div>\n",
       "<style scoped>\n",
       "    .dataframe tbody tr th:only-of-type {\n",
       "        vertical-align: middle;\n",
       "    }\n",
       "\n",
       "    .dataframe tbody tr th {\n",
       "        vertical-align: top;\n",
       "    }\n",
       "\n",
       "    .dataframe thead th {\n",
       "        text-align: right;\n",
       "    }\n",
       "</style>\n",
       "<table border=\"1\" class=\"dataframe\">\n",
       "  <thead>\n",
       "    <tr style=\"text-align: right;\">\n",
       "      <th></th>\n",
       "      <th>Unnamed: 0</th>\n",
       "      <th>nfe</th>\n",
       "      <th>improvements</th>\n",
       "    </tr>\n",
       "  </thead>\n",
       "  <tbody>\n",
       "    <tr>\n",
       "      <th>0</th>\n",
       "      <td>0</td>\n",
       "      <td>100</td>\n",
       "      <td>10</td>\n",
       "    </tr>\n",
       "    <tr>\n",
       "      <th>1</th>\n",
       "      <td>1</td>\n",
       "      <td>200</td>\n",
       "      <td>12</td>\n",
       "    </tr>\n",
       "    <tr>\n",
       "      <th>2</th>\n",
       "      <td>2</td>\n",
       "      <td>300</td>\n",
       "      <td>17</td>\n",
       "    </tr>\n",
       "    <tr>\n",
       "      <th>3</th>\n",
       "      <td>3</td>\n",
       "      <td>400</td>\n",
       "      <td>20</td>\n",
       "    </tr>\n",
       "    <tr>\n",
       "      <th>4</th>\n",
       "      <td>4</td>\n",
       "      <td>500</td>\n",
       "      <td>28</td>\n",
       "    </tr>\n",
       "    <tr>\n",
       "      <th>...</th>\n",
       "      <td>...</td>\n",
       "      <td>...</td>\n",
       "      <td>...</td>\n",
       "    </tr>\n",
       "    <tr>\n",
       "      <th>928</th>\n",
       "      <td>928</td>\n",
       "      <td>19957</td>\n",
       "      <td>103</td>\n",
       "    </tr>\n",
       "    <tr>\n",
       "      <th>929</th>\n",
       "      <td>929</td>\n",
       "      <td>19969</td>\n",
       "      <td>103</td>\n",
       "    </tr>\n",
       "    <tr>\n",
       "      <th>930</th>\n",
       "      <td>930</td>\n",
       "      <td>19981</td>\n",
       "      <td>103</td>\n",
       "    </tr>\n",
       "    <tr>\n",
       "      <th>931</th>\n",
       "      <td>931</td>\n",
       "      <td>19993</td>\n",
       "      <td>103</td>\n",
       "    </tr>\n",
       "    <tr>\n",
       "      <th>932</th>\n",
       "      <td>932</td>\n",
       "      <td>20005</td>\n",
       "      <td>103</td>\n",
       "    </tr>\n",
       "  </tbody>\n",
       "</table>\n",
       "<p>933 rows × 3 columns</p>\n",
       "</div>"
      ],
      "text/plain": [
       "     Unnamed: 0    nfe  improvements\n",
       "0             0    100            10\n",
       "1             1    200            12\n",
       "2             2    300            17\n",
       "3             3    400            20\n",
       "4             4    500            28\n",
       "..          ...    ...           ...\n",
       "928         928  19957           103\n",
       "929         929  19969           103\n",
       "930         930  19981           103\n",
       "931         931  19993           103\n",
       "932         932  20005           103\n",
       "\n",
       "[933 rows x 3 columns]"
      ]
     },
     "execution_count": 93,
     "metadata": {},
     "output_type": "execute_result"
    }
   ],
   "source": [
    "e_progress = pd.read_csv(output_dir + '10_convergence.csv')\n",
    "e_progress"
   ]
  },
  {
   "cell_type": "code",
   "execution_count": 94,
   "id": "66633659-3b0a-48e3-93f6-b68b203dae47",
   "metadata": {},
   "outputs": [
    {
     "data": {
      "image/png": "[encoded data removed]",
      "text/plain": [
       "<Figure size 864x576 with 1 Axes>"
      ]
     },
     "metadata": {},
     "output_type": "display_data"
    }
   ],
   "source": [
    "fig, ax = plt.subplots()\n",
    "ax.plot(e_progress.nfe, e_progress.improvements)\n",
    "\n",
    "sns.despine()\n",
    "\n",
    "plt.show()"
   ]
  },
  {
   "cell_type": "code",
   "execution_count": null,
   "id": "8d8a5f55-4f8a-4941-85cd-87e5ec8506c2",
   "metadata": {},
   "outputs": [],
   "source": []
  }
 ],
 "metadata": {
  "kernelspec": {
   "display_name": "Python 3 (ipykernel)",
   "language": "python",
   "name": "python3"
  },
  "language_info": {
   "codemirror_mode": {
    "name": "ipython",
    "version": 3
   },
   "file_extension": ".py",
   "mimetype": "text/x-python",
   "name": "python",
   "nbconvert_exporter": "python",
   "pygments_lexer": "ipython3",
   "version": "3.8.5"
  }
 },
 "nbformat": 4,
 "nbformat_minor": 5
}
