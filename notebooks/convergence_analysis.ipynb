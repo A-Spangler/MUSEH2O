{
 "cells": [
  {
   "cell_type": "code",
   "execution_count": 26,
   "id": "4d9fc7ce-1c08-46f9-8e64-603e7e7e919a",
   "metadata": {},
   "outputs": [],
   "source": [
    "import pandas as pd"
   ]
  },
  {
   "cell_type": "code",
   "execution_count": 27,
   "id": "cf29473a-1eba-4085-82fb-6b1280dc8ae6",
   "metadata": {},
   "outputs": [
    {
     "data": {
      "text/html": [
       "<div>\n",
       "<style scoped>\n",
       "    .dataframe tbody tr th:only-of-type {\n",
       "        vertical-align: middle;\n",
       "    }\n",
       "\n",
       "    .dataframe tbody tr th {\n",
       "        vertical-align: top;\n",
       "    }\n",
       "\n",
       "    .dataframe thead th {\n",
       "        text-align: right;\n",
       "    }\n",
       "</style>\n",
       "<table border=\"1\" class=\"dataframe\">\n",
       "  <thead>\n",
       "    <tr style=\"text-align: right;\">\n",
       "      <th></th>\n",
       "      <th>Unnamed: 0</th>\n",
       "      <th>Unnamed: 1</th>\n",
       "      <th>0</th>\n",
       "      <th>1</th>\n",
       "      <th>2</th>\n",
       "      <th>3</th>\n",
       "      <th>4</th>\n",
       "      <th>5</th>\n",
       "    </tr>\n",
       "  </thead>\n",
       "  <tbody>\n",
       "    <tr>\n",
       "      <th>0</th>\n",
       "      <td>100</td>\n",
       "      <td>0</td>\n",
       "      <td>-44.992592</td>\n",
       "      <td>-0.550813</td>\n",
       "      <td>-0.433861</td>\n",
       "      <td>-0.318733</td>\n",
       "      <td>0.084848</td>\n",
       "      <td>-1.000000</td>\n",
       "    </tr>\n",
       "    <tr>\n",
       "      <th>1</th>\n",
       "      <td>100</td>\n",
       "      <td>1</td>\n",
       "      <td>-9.165301</td>\n",
       "      <td>-0.011622</td>\n",
       "      <td>-0.006244</td>\n",
       "      <td>-0.003125</td>\n",
       "      <td>0.406843</td>\n",
       "      <td>-0.964286</td>\n",
       "    </tr>\n",
       "    <tr>\n",
       "      <th>2</th>\n",
       "      <td>100</td>\n",
       "      <td>2</td>\n",
       "      <td>-38.199470</td>\n",
       "      <td>-0.379551</td>\n",
       "      <td>-0.224340</td>\n",
       "      <td>-0.176708</td>\n",
       "      <td>0.109889</td>\n",
       "      <td>-1.000000</td>\n",
       "    </tr>\n",
       "    <tr>\n",
       "      <th>3</th>\n",
       "      <td>100</td>\n",
       "      <td>3</td>\n",
       "      <td>-19.512778</td>\n",
       "      <td>-0.137170</td>\n",
       "      <td>-0.019027</td>\n",
       "      <td>-0.055622</td>\n",
       "      <td>0.257512</td>\n",
       "      <td>-0.928571</td>\n",
       "    </tr>\n",
       "    <tr>\n",
       "      <th>4</th>\n",
       "      <td>100</td>\n",
       "      <td>4</td>\n",
       "      <td>-17.656910</td>\n",
       "      <td>-0.024072</td>\n",
       "      <td>-0.094767</td>\n",
       "      <td>-0.120902</td>\n",
       "      <td>0.200486</td>\n",
       "      <td>-0.892857</td>\n",
       "    </tr>\n",
       "    <tr>\n",
       "      <th>...</th>\n",
       "      <td>...</td>\n",
       "      <td>...</td>\n",
       "      <td>...</td>\n",
       "      <td>...</td>\n",
       "      <td>...</td>\n",
       "      <td>...</td>\n",
       "      <td>...</td>\n",
       "      <td>...</td>\n",
       "    </tr>\n",
       "    <tr>\n",
       "      <th>71988</th>\n",
       "      <td>100524</td>\n",
       "      <td>706</td>\n",
       "      <td>-35.228195</td>\n",
       "      <td>-0.698614</td>\n",
       "      <td>-0.881978</td>\n",
       "      <td>-0.726520</td>\n",
       "      <td>0.374211</td>\n",
       "      <td>-0.928571</td>\n",
       "    </tr>\n",
       "    <tr>\n",
       "      <th>71989</th>\n",
       "      <td>100524</td>\n",
       "      <td>707</td>\n",
       "      <td>-26.216571</td>\n",
       "      <td>-0.976079</td>\n",
       "      <td>-0.839392</td>\n",
       "      <td>-0.914122</td>\n",
       "      <td>0.165258</td>\n",
       "      <td>-0.928571</td>\n",
       "    </tr>\n",
       "    <tr>\n",
       "      <th>71990</th>\n",
       "      <td>100524</td>\n",
       "      <td>708</td>\n",
       "      <td>-36.082132</td>\n",
       "      <td>-0.703344</td>\n",
       "      <td>-0.881981</td>\n",
       "      <td>-0.257543</td>\n",
       "      <td>0.366359</td>\n",
       "      <td>-0.964286</td>\n",
       "    </tr>\n",
       "    <tr>\n",
       "      <th>71991</th>\n",
       "      <td>100524</td>\n",
       "      <td>709</td>\n",
       "      <td>-43.018408</td>\n",
       "      <td>-0.887182</td>\n",
       "      <td>-0.758576</td>\n",
       "      <td>-0.626255</td>\n",
       "      <td>0.302731</td>\n",
       "      <td>-0.964286</td>\n",
       "    </tr>\n",
       "    <tr>\n",
       "      <th>71992</th>\n",
       "      <td>100524</td>\n",
       "      <td>710</td>\n",
       "      <td>-28.925239</td>\n",
       "      <td>-0.696169</td>\n",
       "      <td>-0.904413</td>\n",
       "      <td>-0.431301</td>\n",
       "      <td>0.389311</td>\n",
       "      <td>-0.928571</td>\n",
       "    </tr>\n",
       "  </tbody>\n",
       "</table>\n",
       "<p>71993 rows × 8 columns</p>\n",
       "</div>"
      ],
      "text/plain": [
       "       Unnamed: 0  Unnamed: 1          0         1         2         3  \\\n",
       "0             100           0 -44.992592 -0.550813 -0.433861 -0.318733   \n",
       "1             100           1  -9.165301 -0.011622 -0.006244 -0.003125   \n",
       "2             100           2 -38.199470 -0.379551 -0.224340 -0.176708   \n",
       "3             100           3 -19.512778 -0.137170 -0.019027 -0.055622   \n",
       "4             100           4 -17.656910 -0.024072 -0.094767 -0.120902   \n",
       "...           ...         ...        ...       ...       ...       ...   \n",
       "71988      100524         706 -35.228195 -0.698614 -0.881978 -0.726520   \n",
       "71989      100524         707 -26.216571 -0.976079 -0.839392 -0.914122   \n",
       "71990      100524         708 -36.082132 -0.703344 -0.881981 -0.257543   \n",
       "71991      100524         709 -43.018408 -0.887182 -0.758576 -0.626255   \n",
       "71992      100524         710 -28.925239 -0.696169 -0.904413 -0.431301   \n",
       "\n",
       "              4         5  \n",
       "0      0.084848 -1.000000  \n",
       "1      0.406843 -0.964286  \n",
       "2      0.109889 -1.000000  \n",
       "3      0.257512 -0.928571  \n",
       "4      0.200486 -0.892857  \n",
       "...         ...       ...  \n",
       "71988  0.374211 -0.928571  \n",
       "71989  0.165258 -0.928571  \n",
       "71990  0.366359 -0.964286  \n",
       "71991  0.302731 -0.964286  \n",
       "71992  0.389311 -0.928571  \n",
       "\n",
       "[71993 rows x 8 columns]"
      ]
     },
     "execution_count": 27,
     "metadata": {},
     "output_type": "execute_result"
    }
   ],
   "source": [
    "archives_by_nfe = pd.read_csv('../output/squared_exponential_rbf_10_hypervolume.csv')\n",
    "archives_by_nfe"
   ]
  },
  {
   "cell_type": "markdown",
   "id": "94772b1d-96e9-43f5-a54e-752c0953688e",
   "metadata": {},
   "source": [
    "we need to transform the dataframe back into platypus solution instances.\n",
    "\n",
    "We need to have a collection of solutions for each generation\n"
   ]
  },
  {
   "cell_type": "code",
   "execution_count": 28,
   "id": "e21edb9a-53da-40c8-8d85-1ed2a35d2f11",
   "metadata": {},
   "outputs": [],
   "source": [
    "from platypus import Solution, Problem\n",
    "\n",
    "n_rbfs = 4\n",
    "n_objs = 6\n",
    "n_vars = n_rbfs * 8 \n",
    "\n",
    "problem = Problem(n_vars, n_objs)\n",
    "\n",
    "# matters for hypervolume\n",
    "problem.directions[0] = Problem.MINIMIZE  # hydropower\n",
    "problem.directions[1] = Problem.MINIMIZE  # atomicpowerplant\n",
    "problem.directions[2] = Problem.MINIMIZE  # baltimore\n",
    "problem.directions[3] = Problem.MINIMIZE  # chester\n",
    "problem.directions[4] = Problem.MAXIMIZE  # environment\n",
    "problem.directions[5] = Problem.MINIMIZE  # recreation\n",
    "\n",
    "archives = {}\n",
    "for nfe, generation in archives_by_nfe.groupby(\"Unnamed: 0\"):\n",
    "    # we slice from 2, getting rid of the first two columns \n",
    "    # which contain the NFE and ID of each solution\n",
    "    archive = []\n",
    "    for i, row in generation.iloc[:, 2::].iterrows():\n",
    "        solution = Solution(problem)\n",
    "        solution.objectives = row\n",
    "        archive.append(solution)\n",
    "    archives[nfe] = archive\n",
    "        \n"
   ]
  },
  {
   "cell_type": "markdown",
   "id": "23d9730f-9c44-4ff5-b51f-b378212ce712",
   "metadata": {},
   "source": [
    "in this case our reference set is the final set of solutions (only a single seed). So let's load this data as well and turn it into a set of solution in the same way as we did with the archives."
   ]
  },
  {
   "cell_type": "code",
   "execution_count": 29,
   "id": "7cd4ba51-4e13-4732-b6d2-78b10962f94a",
   "metadata": {},
   "outputs": [],
   "source": [
    "data = pd.read_csv('../output/squared_exponential_rbf_10_solution.csv')\n",
    "\n",
    "ref_set = []\n",
    "for i, row in data.iterrows():\n",
    "    solution = Solution(problem)\n",
    "    solution.objectives = row\n",
    "    ref_set.append(solution)\n"
   ]
  },
  {
   "cell_type": "code",
   "execution_count": 30,
   "id": "741e4c7d-50d1-4fe8-819b-12575b971313",
   "metadata": {},
   "outputs": [],
   "source": [
    "from platypus import Hypervolume\n",
    "\n",
    "hv = Hypervolume(reference_set=ref_set)\n",
    "\n",
    "nfes = []\n",
    "hvs = []\n",
    "for nfe, archive in archives.items():\n",
    "    nfes.append(nfe)\n",
    "    hvs.append(hv.calculate(archive))"
   ]
  },
  {
   "cell_type": "code",
   "execution_count": 31,
   "id": "c03d2fe5-2f0e-4bc3-96d8-3d9cb176028d",
   "metadata": {},
   "outputs": [
    {
     "data": {
      "image/png": "[encoded data removed]",
      "text/plain": [
       "<Figure size 864x576 with 1 Axes>"
      ]
     },
     "metadata": {},
     "output_type": "display_data"
    }
   ],
   "source": [
    "import matplotlib.pyplot as plt\n",
    "import seaborn as sns\n",
    "\n",
    "sns.set_style(\"white\")\n",
    "\n",
    "fig, ax = plt.subplots()\n",
    "\n",
    "ax.plot(nfes, hvs)\n",
    "ax.set_xlabel('nfe')\n",
    "ax.set_ylabel('hypervolume')\n",
    "\n",
    "sns.despine()\n",
    "\n",
    "plt.show()"
   ]
  },
  {
   "cell_type": "code",
   "execution_count": 32,
   "id": "3ccc63ac-6a9d-4a3e-a1ce-fab8776e3bf4",
   "metadata": {},
   "outputs": [],
   "source": [
    "e_progress = pd.read_csv('../output/squared_exponential_rbf_10_convergence.csv')"
   ]
  },
  {
   "cell_type": "code",
   "execution_count": 33,
   "id": "66633659-3b0a-48e3-93f6-b68b203dae47",
   "metadata": {},
   "outputs": [
    {
     "data": {
      "image/png": "[encoded data removed]",
      "text/plain": [
       "<Figure size 864x576 with 1 Axes>"
      ]
     },
     "metadata": {},
     "output_type": "display_data"
    }
   ],
   "source": [
    "fig, ax = plt.subplots()\n",
    "ax.plot(e_progress.nfe, e_progress.improvements)\n",
    "\n",
    "sns.despine()\n",
    "\n",
    "plt.show()"
   ]
  },
  {
   "cell_type": "code",
   "execution_count": null,
   "id": "8d8a5f55-4f8a-4941-85cd-87e5ec8506c2",
   "metadata": {},
   "outputs": [],
   "source": []
  }
 ],
 "metadata": {
  "kernelspec": {
   "display_name": "Python 3 (ipykernel)",
   "language": "python",
   "name": "python3"
  },
  "language_info": {
   "codemirror_mode": {
    "name": "ipython",
    "version": 3
   },
   "file_extension": ".py",
   "mimetype": "text/x-python",
   "name": "python",
   "nbconvert_exporter": "python",
   "pygments_lexer": "ipython3",
   "version": "3.8.5"
  }
 },
 "nbformat": 4,
 "nbformat_minor": 5
}
