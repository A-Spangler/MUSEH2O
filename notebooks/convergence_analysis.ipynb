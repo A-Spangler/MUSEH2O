{
 "cells": [
  {
   "cell_type": "code",
   "execution_count": 64,
   "id": "4d9fc7ce-1c08-46f9-8e64-603e7e7e919a",
   "metadata": {},
   "outputs": [],
   "source": [
    "import sys\n",
    "import pandas as pd\n",
    "\n",
    "\n",
    "sys.path.append('..')"
   ]
  },
  {
   "cell_type": "code",
   "execution_count": 65,
   "id": "3bae9f41-4385-45e4-ba03-ae6e04871bbe",
   "metadata": {},
   "outputs": [],
   "source": [
    "import rbf_functions"
   ]
  },
  {
   "cell_type": "code",
   "execution_count": 76,
   "id": "558174f9-2aef-4cd3-af48-693b920d2e9d",
   "metadata": {},
   "outputs": [],
   "source": [
    "rbf = rbf_functions.inverse_quadric_rbf.__name__\n",
    "output_dir = f\"../output/{rbf}/\""
   ]
  },
  {
   "cell_type": "code",
   "execution_count": 77,
   "id": "cf29473a-1eba-4085-82fb-6b1280dc8ae6",
   "metadata": {},
   "outputs": [
    {
     "data": {
      "text/html": [
       "<div>\n",
       "<style scoped>\n",
       "    .dataframe tbody tr th:only-of-type {\n",
       "        vertical-align: middle;\n",
       "    }\n",
       "\n",
       "    .dataframe tbody tr th {\n",
       "        vertical-align: top;\n",
       "    }\n",
       "\n",
       "    .dataframe thead th {\n",
       "        text-align: right;\n",
       "    }\n",
       "</style>\n",
       "<table border=\"1\" class=\"dataframe\">\n",
       "  <thead>\n",
       "    <tr style=\"text-align: right;\">\n",
       "      <th></th>\n",
       "      <th>Unnamed: 0</th>\n",
       "      <th>Unnamed: 1</th>\n",
       "      <th>0</th>\n",
       "      <th>1</th>\n",
       "      <th>2</th>\n",
       "      <th>3</th>\n",
       "      <th>4</th>\n",
       "      <th>5</th>\n",
       "    </tr>\n",
       "  </thead>\n",
       "  <tbody>\n",
       "    <tr>\n",
       "      <th>0</th>\n",
       "      <td>100</td>\n",
       "      <td>0</td>\n",
       "      <td>80.941635</td>\n",
       "      <td>0.816567</td>\n",
       "      <td>0.678278</td>\n",
       "      <td>0.813615</td>\n",
       "      <td>0.099990</td>\n",
       "      <td>1.0</td>\n",
       "    </tr>\n",
       "    <tr>\n",
       "      <th>1</th>\n",
       "      <td>100</td>\n",
       "      <td>1</td>\n",
       "      <td>79.451561</td>\n",
       "      <td>0.962812</td>\n",
       "      <td>0.728803</td>\n",
       "      <td>0.835786</td>\n",
       "      <td>0.094836</td>\n",
       "      <td>1.0</td>\n",
       "    </tr>\n",
       "    <tr>\n",
       "      <th>2</th>\n",
       "      <td>100</td>\n",
       "      <td>2</td>\n",
       "      <td>80.728876</td>\n",
       "      <td>0.988578</td>\n",
       "      <td>0.926677</td>\n",
       "      <td>0.967793</td>\n",
       "      <td>0.104433</td>\n",
       "      <td>1.0</td>\n",
       "    </tr>\n",
       "    <tr>\n",
       "      <th>3</th>\n",
       "      <td>100</td>\n",
       "      <td>3</td>\n",
       "      <td>77.021778</td>\n",
       "      <td>0.945903</td>\n",
       "      <td>0.855946</td>\n",
       "      <td>0.763639</td>\n",
       "      <td>0.098038</td>\n",
       "      <td>1.0</td>\n",
       "    </tr>\n",
       "    <tr>\n",
       "      <th>4</th>\n",
       "      <td>100</td>\n",
       "      <td>4</td>\n",
       "      <td>77.524306</td>\n",
       "      <td>0.964942</td>\n",
       "      <td>0.823775</td>\n",
       "      <td>0.903260</td>\n",
       "      <td>0.093020</td>\n",
       "      <td>1.0</td>\n",
       "    </tr>\n",
       "  </tbody>\n",
       "</table>\n",
       "</div>"
      ],
      "text/plain": [
       "   Unnamed: 0  Unnamed: 1          0         1         2         3         4  \\\n",
       "0         100           0  80.941635  0.816567  0.678278  0.813615  0.099990   \n",
       "1         100           1  79.451561  0.962812  0.728803  0.835786  0.094836   \n",
       "2         100           2  80.728876  0.988578  0.926677  0.967793  0.104433   \n",
       "3         100           3  77.021778  0.945903  0.855946  0.763639  0.098038   \n",
       "4         100           4  77.524306  0.964942  0.823775  0.903260  0.093020   \n",
       "\n",
       "     5  \n",
       "0  1.0  \n",
       "1  1.0  \n",
       "2  1.0  \n",
       "3  1.0  \n",
       "4  1.0  "
      ]
     },
     "execution_count": 77,
     "metadata": {},
     "output_type": "execute_result"
    }
   ],
   "source": [
    "archives_by_nfe = pd.read_csv(output_dir + '10_hypervolume.csv')\n",
    "archives_by_nfe.head()"
   ]
  },
  {
   "cell_type": "markdown",
   "id": "94772b1d-96e9-43f5-a54e-752c0953688e",
   "metadata": {},
   "source": [
    "we need to transform the dataframe back into platypus solution instances.\n",
    "\n",
    "We need to have a collection of solutions for each generation\n"
   ]
  },
  {
   "cell_type": "code",
   "execution_count": 78,
   "id": "e21edb9a-53da-40c8-8d85-1ed2a35d2f11",
   "metadata": {},
   "outputs": [],
   "source": [
    "from platypus import Solution, Problem\n",
    "\n",
    "n_rbfs = 4\n",
    "n_objs = 6\n",
    "n_vars = n_rbfs * 8 \n",
    "\n",
    "problem = Problem(n_vars, n_objs)\n",
    "\n",
    "# matters for hypervolume\n",
    "problem.directions[0] = Problem.MAXIMIZE  # hydropower\n",
    "problem.directions[1] = Problem.MAXIMIZE  # atomic power plant\n",
    "problem.directions[2] = Problem.MAXIMIZE  # baltimore\n",
    "problem.directions[3] = Problem.MAXIMIZE  # chester\n",
    "problem.directions[4] = Problem.MINIMIZE  # environment\n",
    "problem.directions[5] = Problem.MAXIMIZE  # recreation\n",
    "\n",
    "archives = {}\n",
    "for nfe, generation in archives_by_nfe.groupby(\"Unnamed: 0\"):\n",
    "    # we slice from 2, getting rid of the first two columns \n",
    "    # which contain the NFE and ID of each solution\n",
    "    archive = []\n",
    "    for i, row in generation.iloc[:, 2::].iterrows():\n",
    "        solution = Solution(problem)\n",
    "        solution.objectives = row\n",
    "        archive.append(solution)\n",
    "    archives[nfe] = archive\n",
    "        \n"
   ]
  },
  {
   "cell_type": "markdown",
   "id": "23d9730f-9c44-4ff5-b51f-b378212ce712",
   "metadata": {},
   "source": [
    "in this case our reference set is the final set of solutions (only a single seed). So let's load this data as well and turn it into a set of solution in the same way as we did with the archives."
   ]
  },
  {
   "cell_type": "code",
   "execution_count": 79,
   "id": "7cd4ba51-4e13-4732-b6d2-78b10962f94a",
   "metadata": {},
   "outputs": [],
   "source": [
    "data = pd.read_csv(output_dir + '10_solution.csv')\n",
    "\n",
    "ref_set = []\n",
    "for i, row in data.iterrows():\n",
    "    solution = Solution(problem)\n",
    "    solution.objectives = row\n",
    "    ref_set.append(solution)\n"
   ]
  },
  {
   "cell_type": "code",
   "execution_count": 80,
   "id": "ee7375d7-69ec-43da-aeb5-5107333bc188",
   "metadata": {},
   "outputs": [
    {
     "data": {
      "text/html": [
       "<div>\n",
       "<style scoped>\n",
       "    .dataframe tbody tr th:only-of-type {\n",
       "        vertical-align: middle;\n",
       "    }\n",
       "\n",
       "    .dataframe tbody tr th {\n",
       "        vertical-align: top;\n",
       "    }\n",
       "\n",
       "    .dataframe thead th {\n",
       "        text-align: right;\n",
       "    }\n",
       "</style>\n",
       "<table border=\"1\" class=\"dataframe\">\n",
       "  <thead>\n",
       "    <tr style=\"text-align: right;\">\n",
       "      <th></th>\n",
       "      <th>hydropower</th>\n",
       "      <th>atomicpowerplant</th>\n",
       "      <th>baltimore</th>\n",
       "      <th>chester</th>\n",
       "      <th>environment</th>\n",
       "      <th>recreation</th>\n",
       "    </tr>\n",
       "  </thead>\n",
       "  <tbody>\n",
       "    <tr>\n",
       "      <th>0</th>\n",
       "      <td>84.069113</td>\n",
       "      <td>0.982111</td>\n",
       "      <td>0.776192</td>\n",
       "      <td>0.869606</td>\n",
       "      <td>0.096067</td>\n",
       "      <td>1.0</td>\n",
       "    </tr>\n",
       "    <tr>\n",
       "      <th>1</th>\n",
       "      <td>84.248055</td>\n",
       "      <td>0.996883</td>\n",
       "      <td>0.574873</td>\n",
       "      <td>0.999747</td>\n",
       "      <td>0.096059</td>\n",
       "      <td>1.0</td>\n",
       "    </tr>\n",
       "    <tr>\n",
       "      <th>2</th>\n",
       "      <td>83.801966</td>\n",
       "      <td>0.997286</td>\n",
       "      <td>0.827114</td>\n",
       "      <td>0.999435</td>\n",
       "      <td>0.098676</td>\n",
       "      <td>1.0</td>\n",
       "    </tr>\n",
       "    <tr>\n",
       "      <th>3</th>\n",
       "      <td>84.035931</td>\n",
       "      <td>0.983242</td>\n",
       "      <td>0.701831</td>\n",
       "      <td>0.999711</td>\n",
       "      <td>0.108013</td>\n",
       "      <td>1.0</td>\n",
       "    </tr>\n",
       "    <tr>\n",
       "      <th>4</th>\n",
       "      <td>83.825119</td>\n",
       "      <td>0.999055</td>\n",
       "      <td>0.993275</td>\n",
       "      <td>0.999315</td>\n",
       "      <td>0.106419</td>\n",
       "      <td>1.0</td>\n",
       "    </tr>\n",
       "    <tr>\n",
       "      <th>5</th>\n",
       "      <td>82.875478</td>\n",
       "      <td>1.000000</td>\n",
       "      <td>0.998198</td>\n",
       "      <td>0.999999</td>\n",
       "      <td>0.099657</td>\n",
       "      <td>1.0</td>\n",
       "    </tr>\n",
       "  </tbody>\n",
       "</table>\n",
       "</div>"
      ],
      "text/plain": [
       "   hydropower  atomicpowerplant  baltimore   chester  environment  recreation\n",
       "0   84.069113          0.982111   0.776192  0.869606     0.096067         1.0\n",
       "1   84.248055          0.996883   0.574873  0.999747     0.096059         1.0\n",
       "2   83.801966          0.997286   0.827114  0.999435     0.098676         1.0\n",
       "3   84.035931          0.983242   0.701831  0.999711     0.108013         1.0\n",
       "4   83.825119          0.999055   0.993275  0.999315     0.106419         1.0\n",
       "5   82.875478          1.000000   0.998198  0.999999     0.099657         1.0"
      ]
     },
     "execution_count": 80,
     "metadata": {},
     "output_type": "execute_result"
    }
   ],
   "source": [
    "data"
   ]
  },
  {
   "cell_type": "code",
   "execution_count": 81,
   "id": "741e4c7d-50d1-4fe8-819b-12575b971313",
   "metadata": {},
   "outputs": [
    {
     "ename": "PlatypusError",
     "evalue": "objective with empty range",
     "output_type": "error",
     "traceback": [
      "\u001b[0;31m---------------------------------------------------------------------------\u001b[0m",
      "\u001b[0;31mPlatypusError\u001b[0m                             Traceback (most recent call last)",
      "\u001b[0;32m/var/folders/_t/l6cr0r0d1m108xdrmrtz7stsb_csl0/T/ipykernel_51568/2484234948.py\u001b[0m in \u001b[0;36m<module>\u001b[0;34m\u001b[0m\n\u001b[1;32m      1\u001b[0m \u001b[0;32mfrom\u001b[0m \u001b[0mplatypus\u001b[0m \u001b[0;32mimport\u001b[0m \u001b[0mHypervolume\u001b[0m\u001b[0;34m\u001b[0m\u001b[0;34m\u001b[0m\u001b[0m\n\u001b[1;32m      2\u001b[0m \u001b[0;34m\u001b[0m\u001b[0m\n\u001b[0;32m----> 3\u001b[0;31m \u001b[0mhv\u001b[0m \u001b[0;34m=\u001b[0m \u001b[0mHypervolume\u001b[0m\u001b[0;34m(\u001b[0m\u001b[0mreference_set\u001b[0m\u001b[0;34m=\u001b[0m\u001b[0mref_set\u001b[0m\u001b[0;34m)\u001b[0m\u001b[0;34m\u001b[0m\u001b[0;34m\u001b[0m\u001b[0m\n\u001b[0m\u001b[1;32m      4\u001b[0m \u001b[0;34m\u001b[0m\u001b[0m\n\u001b[1;32m      5\u001b[0m \u001b[0mnfes\u001b[0m \u001b[0;34m=\u001b[0m \u001b[0;34m[\u001b[0m\u001b[0;34m]\u001b[0m\u001b[0;34m\u001b[0m\u001b[0;34m\u001b[0m\u001b[0m\n",
      "\u001b[0;32m~/opt/anaconda3/lib/python3.8/site-packages/platypus/indicators.py\u001b[0m in \u001b[0;36m__init__\u001b[0;34m(self, reference_set, minimum, maximum)\u001b[0m\n\u001b[1;32m    112\u001b[0m                 \u001b[0;32mraise\u001b[0m \u001b[0mValueError\u001b[0m\u001b[0;34m(\u001b[0m\u001b[0;34m\"minimum and maximum must not be specified if reference_set is defined\"\u001b[0m\u001b[0;34m)\u001b[0m\u001b[0;34m\u001b[0m\u001b[0;34m\u001b[0m\u001b[0m\n\u001b[1;32m    113\u001b[0m             \u001b[0mself\u001b[0m\u001b[0;34m.\u001b[0m\u001b[0mreference_set\u001b[0m \u001b[0;34m=\u001b[0m \u001b[0;34m[\u001b[0m\u001b[0ms\u001b[0m \u001b[0;32mfor\u001b[0m \u001b[0ms\u001b[0m \u001b[0;32min\u001b[0m \u001b[0mreference_set\u001b[0m \u001b[0;32mif\u001b[0m \u001b[0ms\u001b[0m\u001b[0;34m.\u001b[0m\u001b[0mconstraint_violation\u001b[0m\u001b[0;34m==\u001b[0m\u001b[0;36m0.0\u001b[0m\u001b[0;34m]\u001b[0m\u001b[0;34m\u001b[0m\u001b[0;34m\u001b[0m\u001b[0m\n\u001b[0;32m--> 114\u001b[0;31m             \u001b[0mself\u001b[0m\u001b[0;34m.\u001b[0m\u001b[0mminimum\u001b[0m\u001b[0;34m,\u001b[0m \u001b[0mself\u001b[0m\u001b[0;34m.\u001b[0m\u001b[0mmaximum\u001b[0m \u001b[0;34m=\u001b[0m \u001b[0mnormalize\u001b[0m\u001b[0;34m(\u001b[0m\u001b[0mreference_set\u001b[0m\u001b[0;34m)\u001b[0m\u001b[0;34m\u001b[0m\u001b[0;34m\u001b[0m\u001b[0m\n\u001b[0m\u001b[1;32m    115\u001b[0m         \u001b[0;32melse\u001b[0m\u001b[0;34m:\u001b[0m\u001b[0;34m\u001b[0m\u001b[0;34m\u001b[0m\u001b[0m\n\u001b[1;32m    116\u001b[0m             \u001b[0;32mif\u001b[0m \u001b[0mminimum\u001b[0m \u001b[0;32mis\u001b[0m \u001b[0;32mNone\u001b[0m \u001b[0;32mor\u001b[0m \u001b[0mmaximum\u001b[0m \u001b[0;32mis\u001b[0m \u001b[0;32mNone\u001b[0m\u001b[0;34m:\u001b[0m\u001b[0;34m\u001b[0m\u001b[0;34m\u001b[0m\u001b[0m\n",
      "\u001b[0;32m~/opt/anaconda3/lib/python3.8/site-packages/platypus/core.py\u001b[0m in \u001b[0;36mnormalize\u001b[0;34m(solutions, minimum, maximum)\u001b[0m\n\u001b[1;32m   1238\u001b[0m \u001b[0;34m\u001b[0m\u001b[0m\n\u001b[1;32m   1239\u001b[0m     \u001b[0;32mif\u001b[0m \u001b[0many\u001b[0m\u001b[0;34m(\u001b[0m\u001b[0;34m[\u001b[0m\u001b[0mmaximum\u001b[0m\u001b[0;34m[\u001b[0m\u001b[0mi\u001b[0m\u001b[0;34m]\u001b[0m\u001b[0;34m-\u001b[0m\u001b[0mminimum\u001b[0m\u001b[0;34m[\u001b[0m\u001b[0mi\u001b[0m\u001b[0;34m]\u001b[0m \u001b[0;34m<\u001b[0m \u001b[0mEPSILON\u001b[0m \u001b[0;32mfor\u001b[0m \u001b[0mi\u001b[0m \u001b[0;32min\u001b[0m \u001b[0mrange\u001b[0m\u001b[0;34m(\u001b[0m\u001b[0mproblem\u001b[0m\u001b[0;34m.\u001b[0m\u001b[0mnobjs\u001b[0m\u001b[0;34m)\u001b[0m\u001b[0;34m]\u001b[0m\u001b[0;34m)\u001b[0m\u001b[0;34m:\u001b[0m\u001b[0;34m\u001b[0m\u001b[0;34m\u001b[0m\u001b[0m\n\u001b[0;32m-> 1240\u001b[0;31m         \u001b[0;32mraise\u001b[0m \u001b[0mPlatypusError\u001b[0m\u001b[0;34m(\u001b[0m\u001b[0;34m\"objective with empty range\"\u001b[0m\u001b[0;34m)\u001b[0m\u001b[0;34m\u001b[0m\u001b[0;34m\u001b[0m\u001b[0m\n\u001b[0m\u001b[1;32m   1241\u001b[0m \u001b[0;34m\u001b[0m\u001b[0m\n\u001b[1;32m   1242\u001b[0m     \u001b[0;32mfor\u001b[0m \u001b[0ms\u001b[0m \u001b[0;32min\u001b[0m \u001b[0mfeasible\u001b[0m\u001b[0;34m:\u001b[0m\u001b[0;34m\u001b[0m\u001b[0;34m\u001b[0m\u001b[0m\n",
      "\u001b[0;31mPlatypusError\u001b[0m: objective with empty range"
     ]
    }
   ],
   "source": [
    "from platypus import Hypervolume\n",
    "\n",
    "hv = Hypervolume(reference_set=ref_set)\n",
    "\n",
    "nfes = []\n",
    "hvs = []\n",
    "for nfe, archive in archives.items():\n",
    "    nfes.append(nfe)\n",
    "    hvs.append(hv.calculate(archive))"
   ]
  },
  {
   "cell_type": "code",
   "execution_count": 82,
   "id": "c03d2fe5-2f0e-4bc3-96d8-3d9cb176028d",
   "metadata": {},
   "outputs": [
    {
     "data": {
      "image/png": "[encoded data removed]",
      "text/plain": [
       "<Figure size 864x576 with 1 Axes>"
      ]
     },
     "metadata": {},
     "output_type": "display_data"
    }
   ],
   "source": [
    "import matplotlib.pyplot as plt\n",
    "import seaborn as sns\n",
    "\n",
    "sns.set_style(\"white\")\n",
    "\n",
    "fig, ax = plt.subplots()\n",
    "\n",
    "ax.plot(nfes, hvs)\n",
    "ax.set_xlabel('nfe')\n",
    "ax.set_ylabel('hypervolume')\n",
    "\n",
    "sns.despine()\n",
    "\n",
    "plt.show()"
   ]
  },
  {
   "cell_type": "code",
   "execution_count": 83,
   "id": "3ccc63ac-6a9d-4a3e-a1ce-fab8776e3bf4",
   "metadata": {},
   "outputs": [
    {
     "data": {
      "text/html": [
       "<div>\n",
       "<style scoped>\n",
       "    .dataframe tbody tr th:only-of-type {\n",
       "        vertical-align: middle;\n",
       "    }\n",
       "\n",
       "    .dataframe tbody tr th {\n",
       "        vertical-align: top;\n",
       "    }\n",
       "\n",
       "    .dataframe thead th {\n",
       "        text-align: right;\n",
       "    }\n",
       "</style>\n",
       "<table border=\"1\" class=\"dataframe\">\n",
       "  <thead>\n",
       "    <tr style=\"text-align: right;\">\n",
       "      <th></th>\n",
       "      <th>Unnamed: 0</th>\n",
       "      <th>nfe</th>\n",
       "      <th>improvements</th>\n",
       "    </tr>\n",
       "  </thead>\n",
       "  <tbody>\n",
       "    <tr>\n",
       "      <th>0</th>\n",
       "      <td>0</td>\n",
       "      <td>100</td>\n",
       "      <td>20</td>\n",
       "    </tr>\n",
       "    <tr>\n",
       "      <th>1</th>\n",
       "      <td>1</td>\n",
       "      <td>200</td>\n",
       "      <td>24</td>\n",
       "    </tr>\n",
       "    <tr>\n",
       "      <th>2</th>\n",
       "      <td>2</td>\n",
       "      <td>300</td>\n",
       "      <td>26</td>\n",
       "    </tr>\n",
       "    <tr>\n",
       "      <th>3</th>\n",
       "      <td>3</td>\n",
       "      <td>400</td>\n",
       "      <td>27</td>\n",
       "    </tr>\n",
       "    <tr>\n",
       "      <th>4</th>\n",
       "      <td>4</td>\n",
       "      <td>500</td>\n",
       "      <td>30</td>\n",
       "    </tr>\n",
       "    <tr>\n",
       "      <th>...</th>\n",
       "      <td>...</td>\n",
       "      <td>...</td>\n",
       "      <td>...</td>\n",
       "    </tr>\n",
       "    <tr>\n",
       "      <th>410</th>\n",
       "      <td>410</td>\n",
       "      <td>19906</td>\n",
       "      <td>84</td>\n",
       "    </tr>\n",
       "    <tr>\n",
       "      <th>411</th>\n",
       "      <td>411</td>\n",
       "      <td>19930</td>\n",
       "      <td>84</td>\n",
       "    </tr>\n",
       "    <tr>\n",
       "      <th>412</th>\n",
       "      <td>412</td>\n",
       "      <td>19954</td>\n",
       "      <td>84</td>\n",
       "    </tr>\n",
       "    <tr>\n",
       "      <th>413</th>\n",
       "      <td>413</td>\n",
       "      <td>19978</td>\n",
       "      <td>84</td>\n",
       "    </tr>\n",
       "    <tr>\n",
       "      <th>414</th>\n",
       "      <td>414</td>\n",
       "      <td>20002</td>\n",
       "      <td>84</td>\n",
       "    </tr>\n",
       "  </tbody>\n",
       "</table>\n",
       "<p>415 rows × 3 columns</p>\n",
       "</div>"
      ],
      "text/plain": [
       "     Unnamed: 0    nfe  improvements\n",
       "0             0    100            20\n",
       "1             1    200            24\n",
       "2             2    300            26\n",
       "3             3    400            27\n",
       "4             4    500            30\n",
       "..          ...    ...           ...\n",
       "410         410  19906            84\n",
       "411         411  19930            84\n",
       "412         412  19954            84\n",
       "413         413  19978            84\n",
       "414         414  20002            84\n",
       "\n",
       "[415 rows x 3 columns]"
      ]
     },
     "execution_count": 83,
     "metadata": {},
     "output_type": "execute_result"
    }
   ],
   "source": [
    "e_progress = pd.read_csv(output_dir + '10_convergence.csv')\n",
    "e_progress"
   ]
  },
  {
   "cell_type": "code",
   "execution_count": 85,
   "id": "66633659-3b0a-48e3-93f6-b68b203dae47",
   "metadata": {},
   "outputs": [
    {
     "data": {
      "image/png": "[encoded data removed]",
      "text/plain": [
       "<Figure size 864x576 with 1 Axes>"
      ]
     },
     "metadata": {},
     "output_type": "display_data"
    }
   ],
   "source": [
    "fig, ax = plt.subplots()\n",
    "ax.plot(e_progress.nfe, e_progress.improvements)\n",
    "\n",
    "sns.despine()\n",
    "\n",
    "plt.show()"
   ]
  },
  {
   "cell_type": "code",
   "execution_count": null,
   "id": "8d8a5f55-4f8a-4941-85cd-87e5ec8506c2",
   "metadata": {},
   "outputs": [],
   "source": []
  }
 ],
 "metadata": {
  "kernelspec": {
   "display_name": "Python 3 (ipykernel)",
   "language": "python",
   "name": "python3"
  },
  "language_info": {
   "codemirror_mode": {
    "name": "ipython",
    "version": 3
   },
   "file_extension": ".py",
   "mimetype": "text/x-python",
   "name": "python",
   "nbconvert_exporter": "python",
   "pygments_lexer": "ipython3",
   "version": "3.8.5"
  }
 },
 "nbformat": 4,
 "nbformat_minor": 5
}
