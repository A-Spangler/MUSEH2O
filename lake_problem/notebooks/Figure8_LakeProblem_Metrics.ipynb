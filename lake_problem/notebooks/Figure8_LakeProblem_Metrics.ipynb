{
 "cells": [
  {
   "cell_type": "code",
   "execution_count": null,
   "id": "8c4f2ced",
   "metadata": {
    "executionInfo": {
     "elapsed": 1152,
     "status": "ok",
     "timestamp": 1663337574512,
     "user": {
      "displayName": "Jazmin Zatarain Salazar",
      "userId": "07428894654370672849"
     },
     "user_tz": -120
    },
    "id": "8c4f2ced"
   },
   "outputs": [],
   "source": [
    "import pandas as pd\n",
    "import os\n",
    "import sys\n",
    "import numpy as np\n",
    "from matplotlib import pyplot as plt\n",
    "\n",
    "sys.path.append(\"..\")\n",
    "import matplotlib.pyplot as plt\n",
    "import seaborn as sns"
   ]
  },
  {
   "cell_type": "code",
   "execution_count": null,
   "id": "6de6ef61",
   "metadata": {
    "executionInfo": {
     "elapsed": 1508,
     "status": "ok",
     "timestamp": 1663337738273,
     "user": {
      "displayName": "Jazmin Zatarain Salazar",
      "userId": "07428894654370672849"
     },
     "user_tz": -120
    },
    "id": "6de6ef61"
   },
   "outputs": [],
   "source": [
    "import rbf_functions\n",
    "\n",
    "rbfs = [\n",
    "    rbf_functions.original_rbf,\n",
    "    rbf_functions.squared_exponential_rbf,\n",
    "    rbf_functions.inverse_quadratic_rbf,\n",
    "    rbf_functions.inverse_multiquadric_rbf,\n",
    "    rbf_functions.exponential_rbf,\n",
    "    rbf_functions.matern32_rbf,\n",
    "    rbf_functions.matern52_rbf,\n",
    "]\n",
    "\n",
    "def format_rbf_name(name):\n",
    "    # Convert underscores to spaces and capitalize the first letter of each word\n",
    "    formatted_name = ' '.join(word.capitalize() for word in name.split('_'))\n",
    "\n",
    "    # Convert \"Rbf\" to \"RBF\"\n",
    "    formatted_name = formatted_name.replace(\"Rbf\", \"\")\n",
    "    formatted_name = formatted_name.replace(\"Original\", \"Modified SE\")\n",
    "\n",
    "    # Convert \"Matern32\" to \"Matern 32\" and \"Matern52\" to \"Matern 52\"\n",
    "    formatted_name = formatted_name.replace(\"Matern32\", \"Matern 32\")\n",
    "    formatted_name = formatted_name.replace(\"Matern52\", \"Matern 52\")\n",
    "\n",
    "    return formatted_name"
   ]
  },
  {
   "cell_type": "code",
   "execution_count": null,
   "id": "6e5635c2",
   "metadata": {
    "executionInfo": {
     "elapsed": 445,
     "status": "ok",
     "timestamp": 1663337740468,
     "user": {
      "displayName": "Jazmin Zatarain Salazar",
      "userId": "07428894654370672849"
     },
     "user_tz": -120
    },
    "id": "6e5635c2"
   },
   "outputs": [],
   "source": [
    "sns.set_style(\"white\")"
   ]
  },
  {
   "cell_type": "code",
   "execution_count": null,
   "id": "b05c56ec-9cb8-43ce-a347-b23c1018986a",
   "metadata": {},
   "outputs": [],
   "source": [
    "global_hv = pd.read_csv(\"./hv/hypervolume_global_refset.csv\", index_col=\"Unnamed: 0\")\n",
    "global_hv = global_hv.iloc[0, 0]"
   ]
  },
  {
   "cell_type": "code",
   "execution_count": null,
   "outputs": [],
   "source": [
    "root_dir = \"../output\"\n",
    "fig, axes = plt.subplots(5, 7, sharex=True, sharey=\"row\", figsize=(20, 14))  #\n",
    "fontsize = 18\n",
    "plt.rcParams.update({\n",
    "    'font.size': fontsize,               # Default fontsize for text added to plots (xlabel, ylabel, title, etc.)\n",
    "    'axes.labelsize': fontsize,          # Fontsize of the x and y labels\n",
    "    'xtick.labelsize': fontsize,         # Fontsize of the tick labels\n",
    "    'ytick.labelsize': fontsize,         # Fontsize of the tick labels\n",
    "    'legend.fontsize': fontsize,         # Fontsize in the legend\n",
    "    'axes.titlesize': 20          # Fontsize of subplot titles\n",
    "})\n",
    "lw = 1.5\n",
    "\n",
    "for i, (entry, c) in enumerate(zip(rbfs, sns.color_palette())):\n",
    "    rbf = entry.__name__\n",
    "    df_hv = pd.read_csv(f\"./hv/{rbf}_hv_global.csv\")\n",
    "    df_hv /= global_hv\n",
    "\n",
    "    df_hv_nfe = pd.read_csv(f\"./hv/{rbf}_nfe.csv\")\n",
    "    df_ei = pd.read_csv(f\"./epind/{rbf}_ei_all.csv\")\n",
    "    df_ei_nfe = pd.read_csv(f\"./epind/{rbf}_ei_nfe_all.csv\")\n",
    "    df_gd = pd.read_csv(f\"./gd/{rbf}_gd_all.csv\")\n",
    "    df_gd_nfe = pd.read_csv(f\"./gd/{rbf}_gd_nfe_all.csv\")\n",
    "    ep_nfe = {}\n",
    "    ep_prog = {}\n",
    "    archive_nfe = {}\n",
    "    archive_count = {}\n",
    "    out_dir = os.path.join(root_dir, rbf)\n",
    "\n",
    "    for j in os.listdir(out_dir):\n",
    "        if j.endswith(\"_convergence.csv\"):\n",
    "            ep_load = pd.read_csv(os.path.join(out_dir, j))\n",
    "            ep_nfe[int(j.split(\"_\")[0])] = ep_load.nfe\n",
    "            ep_prog[int(j.split(\"_\")[0])] = ep_load.improvements\n",
    "        if j.endswith(\"_hypervolume.csv\"):\n",
    "            archives_by_nfe = pd.read_csv(os.path.join(out_dir, j))\n",
    "            dups = archives_by_nfe.pivot_table(columns=[\"Unnamed: 0\"], aggfunc=\"size\")\n",
    "            archive_nfe[int(j.split(\"_\")[0])] = dups.index\n",
    "            archive_count[int(j.split(\"_\")[0])] = dups.reset_index(drop=True)\n",
    "    ep_nfe = pd.DataFrame.from_dict(ep_nfe)\n",
    "    ep_prog = pd.DataFrame.from_dict(ep_prog)\n",
    "    archive_nfe = pd.DataFrame.from_dict(archive_nfe, orient=\"index\").T\n",
    "    archive_size = pd.DataFrame.from_dict(archive_count, orient=\"index\").T\n",
    "\n",
    "    for j in range(len(df_gd_nfe.columns)):\n",
    "        axes[0, i].plot(df_gd_nfe.iloc[:, j], df_gd.iloc[:, j], color=c, lw = lw)\n",
    "        axes[1, i].plot(df_ei_nfe.iloc[:, j], df_ei.iloc[:, j], color=c, lw = lw)\n",
    "        axes[2, i].plot(df_hv_nfe.iloc[:, j], df_hv.iloc[:, j], color=c, lw = lw)\n",
    "\n",
    "        axes[3, i].plot(ep_nfe.iloc[:, j], ep_prog.iloc[:, j], color=c, lw = lw)\n",
    "        axes[4, i].plot(\n",
    "            archive_nfe.iloc[:, j], archive_size.iloc[:, j], color=c, lw = lw\n",
    "        )\n",
    "\n",
    "    for ax in axes[:, i]:\n",
    "        ax.set_box_aspect(1)\n",
    "\n",
    "    if i == 0:\n",
    "        axes[0, i].set_ylabel(\"Generational Distance\", labelpad=12)\n",
    "        axes[1, i].set_ylabel(\"Epsilon Indicator\", labelpad=12)\n",
    "        axes[2, i].set_ylabel(\"Hypervolume\", labelpad=12)  # , rotation=45, labelpad=40\n",
    "        axes[3, i].set_ylabel(\"Epsilon Progress\", labelpad=4)\n",
    "        axes[4, i].set_ylabel(\"Archive Size\", labelpad=4)\n",
    "\n",
    "    # axes[4, i].set_xlabel(\"NFE\")\n",
    "    axes[0, i].set_title(format_rbf_name(rbf[:-4]), y= 1.09)\n",
    "\n",
    "\n",
    "for row in axes[0:3]:\n",
    "    ax = row[0]\n",
    "    ax.set_ylim(ymin=0, ymax=1)\n",
    "\n",
    "\n",
    "fig.tight_layout()\n",
    "fig.text(0.5, -0.0005, 'Number of function evaluations', ha='center', va='center', fontsize=fontsize)\n",
    "plt.savefig(\"../figs/paper_figures/png/metrics_LakeProblem.png\", bbox_inches='tight')\n",
    "plt.savefig(\"../figs/paper_figures/pdf/metrics_LakeProblem.pdf\", bbox_inches='tight')"
   ],
   "metadata": {
    "collapsed": false
   }
  },
  {
   "cell_type": "code",
   "execution_count": null,
   "outputs": [],
   "source": [],
   "metadata": {
    "collapsed": false
   }
  }
 ],
 "metadata": {
  "colab": {
   "provenance": []
  },
  "kernelspec": {
   "display_name": "Python 3 (ipykernel)",
   "language": "python",
   "name": "python3"
  },
  "language_info": {
   "codemirror_mode": {
    "name": "ipython",
    "version": 3
   },
   "file_extension": ".py",
   "mimetype": "text/x-python",
   "name": "python",
   "nbconvert_exporter": "python",
   "pygments_lexer": "ipython3",
   "version": "3.9.12"
  }
 },
 "nbformat": 4,
 "nbformat_minor": 5
}
