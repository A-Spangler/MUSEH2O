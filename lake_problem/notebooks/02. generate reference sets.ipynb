{
 "cells": [
  {
   "cell_type": "code",
   "execution_count": 1,
   "id": "98b0f205",
   "metadata": {
    "executionInfo": {
     "elapsed": 2,
     "status": "ok",
     "timestamp": 1663326833028,
     "user": {
      "displayName": "Jazmin Zatarain Salazar",
      "userId": "07428894654370672849"
     },
     "user_tz": -120
    },
    "id": "98b0f205"
   },
   "outputs": [],
   "source": [
    "import pandas as pd\n",
    "import pareto\n",
    "import os\n",
    "import sys\n",
    "from itertools import chain\n",
    "from matplotlib import pyplot as plt\n",
    "\n",
    "sys.path.append(\"..\")"
   ]
  },
  {
   "cell_type": "code",
   "execution_count": 2,
   "id": "01a67eaf",
   "metadata": {
    "executionInfo": {
     "elapsed": 256,
     "status": "ok",
     "timestamp": 1663326863827,
     "user": {
      "displayName": "Jazmin Zatarain Salazar",
      "userId": "07428894654370672849"
     },
     "user_tz": -120
    },
    "id": "01a67eaf"
   },
   "outputs": [],
   "source": [
    "import rbf_functions"
   ]
  },
  {
   "cell_type": "markdown",
   "id": "1f3426ef",
   "metadata": {
    "id": "1f3426ef"
   },
   "source": [
    "# Load solutions for each RBF for all seeds:"
   ]
  },
  {
   "cell_type": "code",
   "execution_count": 4,
   "id": "12d7ddf4",
   "metadata": {
    "colab": {
     "base_uri": "https://localhost:8080/"
    },
    "executionInfo": {
     "elapsed": 16613,
     "status": "ok",
     "timestamp": 1663322358370,
     "user": {
      "displayName": "Jazmin Zatarain Salazar",
      "userId": "07428894654370672849"
     },
     "user_tz": -120
    },
    "id": "12d7ddf4",
    "outputId": "bd7d3388-9305-4daf-c7fb-758eda74dbb7"
   },
   "outputs": [
    {
     "name": "stdout",
     "output_type": "stream",
     "text": [
      "Amount of solutions for each RBF:\n",
      "squared_exponential_rbf 213\n",
      "original_rbf 186\n",
      "inverse_quadratic_rbf 177\n",
      "inverse_multiquadric_rbf 179\n",
      "exponential_rbf 186\n",
      "matern32_rbf 184\n",
      "matern52_rbf 191\n"
     ]
    }
   ],
   "source": [
    "import os\n",
    "\n",
    "rbfs = [\n",
    "    rbf_functions.squared_exponential_rbf,\n",
    "    rbf_functions.original_rbf,\n",
    "    rbf_functions.inverse_quadratic_rbf,\n",
    "    rbf_functions.inverse_multiquadric_rbf,\n",
    "    rbf_functions.exponential_rbf,\n",
    "    rbf_functions.matern32_rbf,\n",
    "    rbf_functions.matern52_rbf,\n",
    "]\n",
    "\n",
    "root_dir = \"../output//\"\n",
    "pareto_sets = {}\n",
    "for entry in rbfs:\n",
    "    sollist = []\n",
    "    solutions = []\n",
    "    name = entry.__name__\n",
    "    output_dir = os.path.join(root_dir, name)\n",
    "\n",
    "    for filename in os.listdir(output_dir):\n",
    "        if filename.endswith(\"solution.csv\"):\n",
    "            sollist.append(filename[:-4])\n",
    "            df_temp = pd.read_csv(f\"{output_dir}/{filename}\", header=0)\n",
    "            solutions.append(df_temp.values.tolist())\n",
    "    pareto_sets[name] = list(chain.from_iterable(solutions))\n",
    "\n",
    "pareto_sets.keys()\n",
    "print(\"Amount of solutions for each RBF:\")\n",
    "for rbf in pareto_sets:\n",
    "    print(rbf, len(pareto_sets[rbf]))\n",
    "# print(f\"Loaded into list 'solutions': {', '.join(sollist)}\")"
   ]
  },
  {
   "cell_type": "markdown",
   "id": "7a4466ec",
   "metadata": {
    "id": "7a4466ec"
   },
   "source": [
    "# Create reference set for each RBF, and save:"
   ]
  },
  {
   "cell_type": "code",
   "execution_count": 5,
   "id": "7587856e",
   "metadata": {
    "colab": {
     "base_uri": "https://localhost:8080/"
    },
    "executionInfo": {
     "elapsed": 267,
     "status": "ok",
     "timestamp": 1663325622390,
     "user": {
      "displayName": "Jazmin Zatarain Salazar",
      "userId": "07428894654370672849"
     },
     "user_tz": -120
    },
    "id": "7587856e",
    "outputId": "1c479c8c-cee7-44d7-c47f-e4079f3ccf71"
   },
   "outputs": [
    {
     "name": "stdout",
     "output_type": "stream",
     "text": [
      "squared_exponential_rbf 213\n",
      "squared_exponential_rbf 23\n",
      "original_rbf 186\n",
      "original_rbf 21\n",
      "inverse_quadratic_rbf 177\n",
      "inverse_quadratic_rbf 19\n",
      "inverse_multiquadric_rbf 179\n",
      "inverse_multiquadric_rbf 19\n",
      "exponential_rbf 186\n",
      "exponential_rbf 23\n",
      "matern32_rbf 184\n",
      "matern32_rbf 20\n",
      "matern52_rbf 191\n",
      "matern52_rbf 22\n"
     ]
    }
   ],
   "source": [
    "reference_sets = {}\n",
    "for rbf in pareto_sets:\n",
    "    print(rbf, len(pareto_sets[rbf]))\n",
    "    nondominated = pareto.eps_sort(\n",
    "        [pareto_sets[rbf]], [0, 1, 2, 3], [0.05, 0.05, 0.05, 0.05], maximize=[1, 2, 3]\n",
    "    )\n",
    "    reference_sets[rbf] = nondominated\n",
    "    df_nondom = pd.DataFrame(\n",
    "        nondominated, columns=[\"max_p\", \"utility\", \"inertia\", \"reliability\"]\n",
    "    )\n",
    "    print(rbf, len(df_nondom))\n",
    "    df_nondom.to_csv(f\"./{rbf}_refset.csv\", index=False, header=True)"
   ]
  },
  {
   "cell_type": "markdown",
   "id": "48863f26",
   "metadata": {
    "id": "48863f26"
   },
   "source": [
    "# Find decision variables that belong to the generated refset:"
   ]
  },
  {
   "cell_type": "code",
   "execution_count": 6,
   "id": "944d04cb",
   "metadata": {
    "id": "944d04cb"
   },
   "outputs": [],
   "source": [
    "d_refvar = {}\n",
    "d_refsol = {}\n",
    "for entry in rbfs:\n",
    "    name = entry.__name__\n",
    "    output_dir = os.path.join(root_dir, name)\n",
    "\n",
    "    ts = []\n",
    "    tv = []\n",
    "    for filename in os.listdir(output_dir):\n",
    "        # load\n",
    "        if filename.endswith(\"solution.csv\"):\n",
    "            df_ts = pd.read_csv(f\"{output_dir}/{filename}\", header=0)\n",
    "            ts.append(df_ts)\n",
    "        elif filename.endswith(\"variables.csv\"):\n",
    "            df_tv = pd.read_csv(f\"{output_dir}/{filename}\", header=None)\n",
    "            tv.append(df_tv)\n",
    "\n",
    "    df_sol = pd.concat(ts)\n",
    "    df_var = pd.concat(tv)\n",
    "\n",
    "    sol = df_sol.values.tolist()\n",
    "    var = df_var.values.tolist()\n",
    "    ref = reference_sets[name]\n",
    "    refvar = []\n",
    "    refsol = []\n",
    "    for idx, value in enumerate(sol):\n",
    "        if value in ref:\n",
    "            refvar.append(var[idx])\n",
    "            refsol.append(sol[idx])\n",
    "    d_refsol[name] = pd.DataFrame(\n",
    "        refsol, columns=[\"max_p\", \"utility\", \"inertia\", \"reliability\"]\n",
    "    )\n",
    "    d_refvar[name] = pd.DataFrame(refvar)\n",
    "    d_refsol[name].to_csv(f\"./refsets/{name}_refset.csv\", index=False, header=True)\n",
    "    d_refvar[name].to_csv(\n",
    "        f\"./refsets/{name}_refset_variables.csv\", index=False, header=False\n",
    "    )"
   ]
  },
  {
   "cell_type": "code",
   "execution_count": 7,
   "id": "7ca777fb",
   "metadata": {
    "colab": {
     "base_uri": "https://localhost:8080/"
    },
    "executionInfo": {
     "elapsed": 230,
     "status": "ok",
     "timestamp": 1663325631423,
     "user": {
      "displayName": "Jazmin Zatarain Salazar",
      "userId": "07428894654370672849"
     },
     "user_tz": -120
    },
    "id": "7ca777fb",
    "outputId": "c45578c8-9450-4932-b880-9bbd17074736"
   },
   "outputs": [
    {
     "name": "stdout",
     "output_type": "stream",
     "text": [
      "squared_exponential_rbf\n",
      "refset: 23\n",
      "varset: 23\n",
      "original_rbf\n",
      "refset: 21\n",
      "varset: 21\n",
      "inverse_quadratic_rbf\n",
      "refset: 19\n",
      "varset: 19\n",
      "inverse_multiquadric_rbf\n",
      "refset: 19\n",
      "varset: 19\n",
      "exponential_rbf\n",
      "refset: 23\n",
      "varset: 23\n",
      "matern32_rbf\n",
      "refset: 20\n",
      "varset: 20\n",
      "matern52_rbf\n",
      "refset: 22\n",
      "varset: 22\n"
     ]
    }
   ],
   "source": [
    "for entry in rbfs:\n",
    "    name = entry.__name__\n",
    "    print(name)\n",
    "    print(f\"refset: {len(d_refsol[name])}\")\n",
    "    print(f\"varset: {len(d_refvar[name])}\")"
   ]
  },
  {
   "cell_type": "markdown",
   "id": "a3c75064",
   "metadata": {
    "id": "a3c75064"
   },
   "source": [
    "# Generate global reference set for all RBFs:"
   ]
  },
  {
   "cell_type": "code",
   "execution_count": 8,
   "id": "6219285b",
   "metadata": {
    "colab": {
     "base_uri": "https://localhost:8080/"
    },
    "executionInfo": {
     "elapsed": 556,
     "status": "ok",
     "timestamp": 1663325635895,
     "user": {
      "displayName": "Jazmin Zatarain Salazar",
      "userId": "07428894654370672849"
     },
     "user_tz": -120
    },
    "id": "6219285b",
    "outputId": "8fb18f06-a81f-4ba8-d6a9-477be1396d41"
   },
   "outputs": [
    {
     "name": "stdout",
     "output_type": "stream",
     "text": [
      "squared_exponential_rbf 213\n",
      "original_rbf 186\n",
      "inverse_quadratic_rbf 177\n",
      "inverse_multiquadric_rbf 179\n",
      "exponential_rbf 186\n",
      "matern32_rbf 184\n",
      "matern52_rbf 191\n",
      "total: 1316\n"
     ]
    },
    {
     "data": {
      "text/plain": [
       "1316"
      ]
     },
     "execution_count": 8,
     "metadata": {},
     "output_type": "execute_result"
    }
   ],
   "source": [
    "x = 0\n",
    "for rbf in pareto_sets:\n",
    "    x += len(pareto_sets[rbf])\n",
    "    print(rbf, len(pareto_sets[rbf]))\n",
    "print(\"total:\", x)\n",
    "\n",
    "pareto_set = {}\n",
    "sollist = []\n",
    "solutions = []\n",
    "for entry in rbfs:\n",
    "    name = entry.__name__\n",
    "    output_dir = os.path.join(root_dir, name)\n",
    "    for filename in os.listdir(output_dir):\n",
    "        if filename.endswith(\"solution.csv\"):\n",
    "            sollist.append(filename[:-4])\n",
    "            df_temp = pd.read_csv(f\"{output_dir}/{filename}\", header=0)\n",
    "            solutions.append(df_temp.values.tolist())\n",
    "pareto_set = list(chain.from_iterable(solutions))\n",
    "len(pareto_set)"
   ]
  },
  {
   "cell_type": "code",
   "execution_count": 9,
   "id": "d098d957",
   "metadata": {
    "colab": {
     "base_uri": "https://localhost:8080/"
    },
    "executionInfo": {
     "elapsed": 199,
     "status": "ok",
     "timestamp": 1663325730030,
     "user": {
      "displayName": "Jazmin Zatarain Salazar",
      "userId": "07428894654370672849"
     },
     "user_tz": -120
    },
    "id": "d098d957",
    "outputId": "a8922454-a51d-498c-c68f-0beea35f5262"
   },
   "outputs": [
    {
     "name": "stdout",
     "output_type": "stream",
     "text": [
      "1316\n",
      "24\n"
     ]
    }
   ],
   "source": [
    "print(len(pareto_set))\n",
    "nondominated = pareto.eps_sort(\n",
    "    [pareto_set], [0, 1, 2, 3], [0.05, 0.05, 0.05, 0.05], maximize=[1, 2, 3]\n",
    ")\n",
    "df_nondom = pd.DataFrame(\n",
    "    nondominated, columns=[\"max_p\", \"utility\", \"inertia\", \"reliability\"]\n",
    ")\n",
    "print(len(nondominated))\n",
    "df_nondom.to_csv(f\"./refsets/all_rbf_refset.csv\", index=False, header=True)"
   ]
  },
  {
   "cell_type": "code",
   "execution_count": null,
   "id": "3e3db0b3-33c3-47bb-972e-739ecc9a041e",
   "metadata": {},
   "outputs": [],
   "source": []
  }
 ],
 "metadata": {
  "colab": {
   "provenance": []
  },
  "kernelspec": {
   "display_name": "Python 3 (ipykernel)",
   "language": "python",
   "name": "python3"
  },
  "language_info": {
   "codemirror_mode": {
    "name": "ipython",
    "version": 3
   },
   "file_extension": ".py",
   "mimetype": "text/x-python",
   "name": "python",
   "nbconvert_exporter": "python",
   "pygments_lexer": "ipython3",
   "version": "3.9.16"
  }
 },
 "nbformat": 4,
 "nbformat_minor": 5
}
